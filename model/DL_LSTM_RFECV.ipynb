{
  "nbformat": 4,
  "nbformat_minor": 0,
  "metadata": {
    "colab": {
      "provenance": [],
      "authorship_tag": "ABX9TyNGBL/79xTBFTQ6y9qsgopW",
      "include_colab_link": true
    },
    "kernelspec": {
      "name": "python3",
      "display_name": "Python 3"
    },
    "language_info": {
      "name": "python"
    }
  },
  "cells": [
    {
      "cell_type": "markdown",
      "metadata": {
        "id": "view-in-github",
        "colab_type": "text"
      },
      "source": [
        "<a href=\"https://colab.research.google.com/github/Tahsin-Azad-Tias/Thesis/blob/main/model/DL_LSTM_RFECV.ipynb\" target=\"_parent\"><img src=\"https://colab.research.google.com/assets/colab-badge.svg\" alt=\"Open In Colab\"/></a>"
      ]
    },
    {
      "cell_type": "code",
      "execution_count": null,
      "metadata": {
        "colab": {
          "base_uri": "https://localhost:8080/"
        },
        "id": "Inu4feES3gqh",
        "outputId": "f0f019bf-18bb-4fad-b1c2-7c1cc9124cb9"
      },
      "outputs": [
        {
          "output_type": "stream",
          "name": "stdout",
          "text": [
            "/usr/local/lib/python3.10/dist-packages/gdown/__main__.py:132: FutureWarning: Option `--id` was deprecated in version 4.3.1 and will be removed in 5.0. You don't need to pass it anymore to use a file ID.\n",
            "  warnings.warn(\n",
            "Downloading...\n",
            "From: https://drive.google.com/uc?id=1M9TX_sIGURVyGory7oHh5oO_gfjoWnx3\n",
            "To: /content/train_data_rfecv.csv\n",
            "100% 48.1M/48.1M [00:00<00:00, 124MB/s]\n",
            "/usr/local/lib/python3.10/dist-packages/gdown/__main__.py:132: FutureWarning: Option `--id` was deprecated in version 4.3.1 and will be removed in 5.0. You don't need to pass it anymore to use a file ID.\n",
            "  warnings.warn(\n",
            "Downloading...\n",
            "From: https://drive.google.com/uc?id=1-pUUsukgZizH-dJobClAlXeHwSyiR2cB\n",
            "To: /content/test_data_rfecv.csv\n",
            "100% 17.3M/17.3M [00:00<00:00, 123MB/s] \n"
          ]
        }
      ],
      "source": [
        "!gdown --id \"1M9TX_sIGURVyGory7oHh5oO_gfjoWnx3\"\n",
        "!gdown --id \"1-pUUsukgZizH-dJobClAlXeHwSyiR2cB\""
      ]
    },
    {
      "cell_type": "code",
      "source": [
        "import pandas as pd\n",
        "import numpy as np\n",
        "from tensorflow import keras\n",
        "import matplotlib.pyplot as plt\n",
        "import seaborn as sns\n",
        "from sklearn.metrics import precision_recall_fscore_support\n",
        "from sklearn.ensemble import RandomForestClassifier\n",
        "from sklearn.metrics import classification_report\n",
        "from sklearn.metrics import accuracy_score, precision_score, recall_score, f1_score, confusion_matrix, classification_report\n",
        "from xgboost import XGBClassifier\n",
        "from sklearn.tree import DecisionTreeClassifier\n",
        "from sklearn.svm import SVC\n",
        "import lightgbm as lgb\n",
        "from sklearn import metrics\n",
        "from sklearn.metrics import confusion_matrix\n",
        "\n",
        "from keras.models import Sequential, Model\n",
        "from keras.layers import LSTM, Dense, Dropout\n",
        "from keras.utils import to_categorical"
      ],
      "metadata": {
        "id": "MQM331hS3mAo"
      },
      "execution_count": null,
      "outputs": []
    },
    {
      "cell_type": "code",
      "source": [
        "train_df = pd.read_csv(\"/content/train_data_rfecv.csv\")\n",
        "test_df = pd.read_csv(\"/content/test_data_rfecv.csv\")"
      ],
      "metadata": {
        "id": "zxbSJUuO3l9N"
      },
      "execution_count": null,
      "outputs": []
    },
    {
      "cell_type": "code",
      "source": [
        "X_train = train_df.drop(['label1','label2'], axis =1)\n",
        "y_freq_train = train_df['label1'].astype(int)\n",
        "y_fault_train = train_df['label2'].astype(int)"
      ],
      "metadata": {
        "id": "-Kv6xDIz3l6r"
      },
      "execution_count": null,
      "outputs": []
    },
    {
      "cell_type": "code",
      "source": [
        "X_test = test_df.drop(['label1','label2'], axis =1)\n",
        "y_freq_test = test_df['label1'].astype(int)\n",
        "y_fault_test = test_df['label2'].astype(int)"
      ],
      "metadata": {
        "id": "6U-rURck3l30"
      },
      "execution_count": null,
      "outputs": []
    },
    {
      "cell_type": "code",
      "source": [
        "X_train"
      ],
      "metadata": {
        "colab": {
          "base_uri": "https://localhost:8080/",
          "height": 424
        },
        "id": "dW-mMLgH-EpX",
        "outputId": "a5067f06-235d-4f9e-d06f-b87b2fd65e86"
      },
      "execution_count": null,
      "outputs": [
        {
          "output_type": "execute_result",
          "data": {
            "text/plain": [
              "               0          1          2          4          5          6  \\\n",
              "0      42.131684  40.198692  23.295811  42.437660  40.618163  22.516047   \n",
              "1      41.149020  42.743316  19.823443  41.422845  43.053617  18.102406   \n",
              "2      41.854588  34.129095  31.378763  42.062527  35.059588  33.303153   \n",
              "3      43.472609  42.817066  20.935997  43.785358  43.162140  22.476721   \n",
              "4      42.247463  39.830320  32.858643  42.602896  40.315056  32.921425   \n",
              "...          ...        ...        ...        ...        ...        ...   \n",
              "15745  42.607721  38.071786  27.555174  42.856488  38.401378  28.385550   \n",
              "15746  41.939031  39.431528  31.742094  42.139471  39.735224  32.566624   \n",
              "15747  43.517337  43.391835  24.953416  43.841067  43.771983  25.769725   \n",
              "15748  42.489554  40.198161  32.727996  42.753112  40.678305  32.791951   \n",
              "15749  41.570809  28.921519  29.084380  40.229646  30.106975  32.312158   \n",
              "\n",
              "               8          9         10         12  ...        214        215  \\\n",
              "0      42.773624  41.110187  22.901312  42.769196  ...  40.405141  43.042069   \n",
              "1      41.683776  43.430899  16.896830  41.679114  ...  37.191340  42.664985   \n",
              "2      42.254823  36.022832  34.698240  42.096596  ...  25.697635  40.603158   \n",
              "3      44.093411  43.483245  23.509539  44.095669  ...  40.055603  39.500188   \n",
              "4      42.901737  40.917644  33.213103  42.956198  ...  39.930059  43.171794   \n",
              "...          ...        ...        ...        ...  ...        ...        ...   \n",
              "15745  43.011532  38.785837  29.528026  43.008774  ...  34.882848  37.201409   \n",
              "15746  42.294252  40.139324  33.238061  42.236316  ...  30.877344  39.243023   \n",
              "15747  44.129801  44.140853  26.093739  44.125175  ...  39.287306  40.583766   \n",
              "15748  43.080763  41.209993  33.332575  43.075146  ...  40.517660  43.589151   \n",
              "15749  42.135276  31.431948  33.972979  43.247988  ...  26.024790  40.395241   \n",
              "\n",
              "             216        217        218        219        220        221  \\\n",
              "0      36.369730  28.364376  39.615743  42.373942  35.977329  31.385686   \n",
              "1      36.213186  36.653671  36.377874  41.825076  35.951959  36.538728   \n",
              "2      44.246206  30.550164  29.007724  40.057353  44.083880  29.945770   \n",
              "3      39.807780  39.198818  39.120456  38.759232  39.535083  38.637622   \n",
              "4      33.734390  33.008035  39.363798  42.430480  33.569334  34.939712   \n",
              "...          ...        ...        ...        ...        ...        ...   \n",
              "15745  40.071490  37.720101  33.541961  36.311801  39.819528  37.674224   \n",
              "15746  40.011769  37.815055  28.901339  38.491291  39.634712  37.953458   \n",
              "15747  39.948809  38.160284  38.243417  39.881435  39.582650  37.814258   \n",
              "15748  34.863469  33.131683  39.755507  42.784276  34.719576  35.105691   \n",
              "15749  41.900622  35.396283  28.563153  40.088403  41.552034  33.503368   \n",
              "\n",
              "             222        223  \n",
              "0      38.843000  41.610540  \n",
              "1      35.797628  40.791213  \n",
              "2      30.997983  39.505920  \n",
              "3      38.177943  37.788244  \n",
              "4      38.695254  41.578602  \n",
              "...          ...        ...  \n",
              "15745  32.114949  35.313950  \n",
              "15746  26.926494  37.558711  \n",
              "15747  37.311726  38.910409  \n",
              "15748  39.103691  41.927853  \n",
              "15749  29.053897  39.638654  \n",
              "\n",
              "[15750 rows x 168 columns]"
            ],
            "text/html": [
              "\n",
              "  <div id=\"df-e57a0261-237c-4578-b173-0dd51a06ab05\" class=\"colab-df-container\">\n",
              "    <div>\n",
              "<style scoped>\n",
              "    .dataframe tbody tr th:only-of-type {\n",
              "        vertical-align: middle;\n",
              "    }\n",
              "\n",
              "    .dataframe tbody tr th {\n",
              "        vertical-align: top;\n",
              "    }\n",
              "\n",
              "    .dataframe thead th {\n",
              "        text-align: right;\n",
              "    }\n",
              "</style>\n",
              "<table border=\"1\" class=\"dataframe\">\n",
              "  <thead>\n",
              "    <tr style=\"text-align: right;\">\n",
              "      <th></th>\n",
              "      <th>0</th>\n",
              "      <th>1</th>\n",
              "      <th>2</th>\n",
              "      <th>4</th>\n",
              "      <th>5</th>\n",
              "      <th>6</th>\n",
              "      <th>8</th>\n",
              "      <th>9</th>\n",
              "      <th>10</th>\n",
              "      <th>12</th>\n",
              "      <th>...</th>\n",
              "      <th>214</th>\n",
              "      <th>215</th>\n",
              "      <th>216</th>\n",
              "      <th>217</th>\n",
              "      <th>218</th>\n",
              "      <th>219</th>\n",
              "      <th>220</th>\n",
              "      <th>221</th>\n",
              "      <th>222</th>\n",
              "      <th>223</th>\n",
              "    </tr>\n",
              "  </thead>\n",
              "  <tbody>\n",
              "    <tr>\n",
              "      <th>0</th>\n",
              "      <td>42.131684</td>\n",
              "      <td>40.198692</td>\n",
              "      <td>23.295811</td>\n",
              "      <td>42.437660</td>\n",
              "      <td>40.618163</td>\n",
              "      <td>22.516047</td>\n",
              "      <td>42.773624</td>\n",
              "      <td>41.110187</td>\n",
              "      <td>22.901312</td>\n",
              "      <td>42.769196</td>\n",
              "      <td>...</td>\n",
              "      <td>40.405141</td>\n",
              "      <td>43.042069</td>\n",
              "      <td>36.369730</td>\n",
              "      <td>28.364376</td>\n",
              "      <td>39.615743</td>\n",
              "      <td>42.373942</td>\n",
              "      <td>35.977329</td>\n",
              "      <td>31.385686</td>\n",
              "      <td>38.843000</td>\n",
              "      <td>41.610540</td>\n",
              "    </tr>\n",
              "    <tr>\n",
              "      <th>1</th>\n",
              "      <td>41.149020</td>\n",
              "      <td>42.743316</td>\n",
              "      <td>19.823443</td>\n",
              "      <td>41.422845</td>\n",
              "      <td>43.053617</td>\n",
              "      <td>18.102406</td>\n",
              "      <td>41.683776</td>\n",
              "      <td>43.430899</td>\n",
              "      <td>16.896830</td>\n",
              "      <td>41.679114</td>\n",
              "      <td>...</td>\n",
              "      <td>37.191340</td>\n",
              "      <td>42.664985</td>\n",
              "      <td>36.213186</td>\n",
              "      <td>36.653671</td>\n",
              "      <td>36.377874</td>\n",
              "      <td>41.825076</td>\n",
              "      <td>35.951959</td>\n",
              "      <td>36.538728</td>\n",
              "      <td>35.797628</td>\n",
              "      <td>40.791213</td>\n",
              "    </tr>\n",
              "    <tr>\n",
              "      <th>2</th>\n",
              "      <td>41.854588</td>\n",
              "      <td>34.129095</td>\n",
              "      <td>31.378763</td>\n",
              "      <td>42.062527</td>\n",
              "      <td>35.059588</td>\n",
              "      <td>33.303153</td>\n",
              "      <td>42.254823</td>\n",
              "      <td>36.022832</td>\n",
              "      <td>34.698240</td>\n",
              "      <td>42.096596</td>\n",
              "      <td>...</td>\n",
              "      <td>25.697635</td>\n",
              "      <td>40.603158</td>\n",
              "      <td>44.246206</td>\n",
              "      <td>30.550164</td>\n",
              "      <td>29.007724</td>\n",
              "      <td>40.057353</td>\n",
              "      <td>44.083880</td>\n",
              "      <td>29.945770</td>\n",
              "      <td>30.997983</td>\n",
              "      <td>39.505920</td>\n",
              "    </tr>\n",
              "    <tr>\n",
              "      <th>3</th>\n",
              "      <td>43.472609</td>\n",
              "      <td>42.817066</td>\n",
              "      <td>20.935997</td>\n",
              "      <td>43.785358</td>\n",
              "      <td>43.162140</td>\n",
              "      <td>22.476721</td>\n",
              "      <td>44.093411</td>\n",
              "      <td>43.483245</td>\n",
              "      <td>23.509539</td>\n",
              "      <td>44.095669</td>\n",
              "      <td>...</td>\n",
              "      <td>40.055603</td>\n",
              "      <td>39.500188</td>\n",
              "      <td>39.807780</td>\n",
              "      <td>39.198818</td>\n",
              "      <td>39.120456</td>\n",
              "      <td>38.759232</td>\n",
              "      <td>39.535083</td>\n",
              "      <td>38.637622</td>\n",
              "      <td>38.177943</td>\n",
              "      <td>37.788244</td>\n",
              "    </tr>\n",
              "    <tr>\n",
              "      <th>4</th>\n",
              "      <td>42.247463</td>\n",
              "      <td>39.830320</td>\n",
              "      <td>32.858643</td>\n",
              "      <td>42.602896</td>\n",
              "      <td>40.315056</td>\n",
              "      <td>32.921425</td>\n",
              "      <td>42.901737</td>\n",
              "      <td>40.917644</td>\n",
              "      <td>33.213103</td>\n",
              "      <td>42.956198</td>\n",
              "      <td>...</td>\n",
              "      <td>39.930059</td>\n",
              "      <td>43.171794</td>\n",
              "      <td>33.734390</td>\n",
              "      <td>33.008035</td>\n",
              "      <td>39.363798</td>\n",
              "      <td>42.430480</td>\n",
              "      <td>33.569334</td>\n",
              "      <td>34.939712</td>\n",
              "      <td>38.695254</td>\n",
              "      <td>41.578602</td>\n",
              "    </tr>\n",
              "    <tr>\n",
              "      <th>...</th>\n",
              "      <td>...</td>\n",
              "      <td>...</td>\n",
              "      <td>...</td>\n",
              "      <td>...</td>\n",
              "      <td>...</td>\n",
              "      <td>...</td>\n",
              "      <td>...</td>\n",
              "      <td>...</td>\n",
              "      <td>...</td>\n",
              "      <td>...</td>\n",
              "      <td>...</td>\n",
              "      <td>...</td>\n",
              "      <td>...</td>\n",
              "      <td>...</td>\n",
              "      <td>...</td>\n",
              "      <td>...</td>\n",
              "      <td>...</td>\n",
              "      <td>...</td>\n",
              "      <td>...</td>\n",
              "      <td>...</td>\n",
              "      <td>...</td>\n",
              "    </tr>\n",
              "    <tr>\n",
              "      <th>15745</th>\n",
              "      <td>42.607721</td>\n",
              "      <td>38.071786</td>\n",
              "      <td>27.555174</td>\n",
              "      <td>42.856488</td>\n",
              "      <td>38.401378</td>\n",
              "      <td>28.385550</td>\n",
              "      <td>43.011532</td>\n",
              "      <td>38.785837</td>\n",
              "      <td>29.528026</td>\n",
              "      <td>43.008774</td>\n",
              "      <td>...</td>\n",
              "      <td>34.882848</td>\n",
              "      <td>37.201409</td>\n",
              "      <td>40.071490</td>\n",
              "      <td>37.720101</td>\n",
              "      <td>33.541961</td>\n",
              "      <td>36.311801</td>\n",
              "      <td>39.819528</td>\n",
              "      <td>37.674224</td>\n",
              "      <td>32.114949</td>\n",
              "      <td>35.313950</td>\n",
              "    </tr>\n",
              "    <tr>\n",
              "      <th>15746</th>\n",
              "      <td>41.939031</td>\n",
              "      <td>39.431528</td>\n",
              "      <td>31.742094</td>\n",
              "      <td>42.139471</td>\n",
              "      <td>39.735224</td>\n",
              "      <td>32.566624</td>\n",
              "      <td>42.294252</td>\n",
              "      <td>40.139324</td>\n",
              "      <td>33.238061</td>\n",
              "      <td>42.236316</td>\n",
              "      <td>...</td>\n",
              "      <td>30.877344</td>\n",
              "      <td>39.243023</td>\n",
              "      <td>40.011769</td>\n",
              "      <td>37.815055</td>\n",
              "      <td>28.901339</td>\n",
              "      <td>38.491291</td>\n",
              "      <td>39.634712</td>\n",
              "      <td>37.953458</td>\n",
              "      <td>26.926494</td>\n",
              "      <td>37.558711</td>\n",
              "    </tr>\n",
              "    <tr>\n",
              "      <th>15747</th>\n",
              "      <td>43.517337</td>\n",
              "      <td>43.391835</td>\n",
              "      <td>24.953416</td>\n",
              "      <td>43.841067</td>\n",
              "      <td>43.771983</td>\n",
              "      <td>25.769725</td>\n",
              "      <td>44.129801</td>\n",
              "      <td>44.140853</td>\n",
              "      <td>26.093739</td>\n",
              "      <td>44.125175</td>\n",
              "      <td>...</td>\n",
              "      <td>39.287306</td>\n",
              "      <td>40.583766</td>\n",
              "      <td>39.948809</td>\n",
              "      <td>38.160284</td>\n",
              "      <td>38.243417</td>\n",
              "      <td>39.881435</td>\n",
              "      <td>39.582650</td>\n",
              "      <td>37.814258</td>\n",
              "      <td>37.311726</td>\n",
              "      <td>38.910409</td>\n",
              "    </tr>\n",
              "    <tr>\n",
              "      <th>15748</th>\n",
              "      <td>42.489554</td>\n",
              "      <td>40.198161</td>\n",
              "      <td>32.727996</td>\n",
              "      <td>42.753112</td>\n",
              "      <td>40.678305</td>\n",
              "      <td>32.791951</td>\n",
              "      <td>43.080763</td>\n",
              "      <td>41.209993</td>\n",
              "      <td>33.332575</td>\n",
              "      <td>43.075146</td>\n",
              "      <td>...</td>\n",
              "      <td>40.517660</td>\n",
              "      <td>43.589151</td>\n",
              "      <td>34.863469</td>\n",
              "      <td>33.131683</td>\n",
              "      <td>39.755507</td>\n",
              "      <td>42.784276</td>\n",
              "      <td>34.719576</td>\n",
              "      <td>35.105691</td>\n",
              "      <td>39.103691</td>\n",
              "      <td>41.927853</td>\n",
              "    </tr>\n",
              "    <tr>\n",
              "      <th>15749</th>\n",
              "      <td>41.570809</td>\n",
              "      <td>28.921519</td>\n",
              "      <td>29.084380</td>\n",
              "      <td>40.229646</td>\n",
              "      <td>30.106975</td>\n",
              "      <td>32.312158</td>\n",
              "      <td>42.135276</td>\n",
              "      <td>31.431948</td>\n",
              "      <td>33.972979</td>\n",
              "      <td>43.247988</td>\n",
              "      <td>...</td>\n",
              "      <td>26.024790</td>\n",
              "      <td>40.395241</td>\n",
              "      <td>41.900622</td>\n",
              "      <td>35.396283</td>\n",
              "      <td>28.563153</td>\n",
              "      <td>40.088403</td>\n",
              "      <td>41.552034</td>\n",
              "      <td>33.503368</td>\n",
              "      <td>29.053897</td>\n",
              "      <td>39.638654</td>\n",
              "    </tr>\n",
              "  </tbody>\n",
              "</table>\n",
              "<p>15750 rows × 168 columns</p>\n",
              "</div>\n",
              "    <div class=\"colab-df-buttons\">\n",
              "\n",
              "  <div class=\"colab-df-container\">\n",
              "    <button class=\"colab-df-convert\" onclick=\"convertToInteractive('df-e57a0261-237c-4578-b173-0dd51a06ab05')\"\n",
              "            title=\"Convert this dataframe to an interactive table.\"\n",
              "            style=\"display:none;\">\n",
              "\n",
              "  <svg xmlns=\"http://www.w3.org/2000/svg\" height=\"24px\" viewBox=\"0 -960 960 960\">\n",
              "    <path d=\"M120-120v-720h720v720H120Zm60-500h600v-160H180v160Zm220 220h160v-160H400v160Zm0 220h160v-160H400v160ZM180-400h160v-160H180v160Zm440 0h160v-160H620v160ZM180-180h160v-160H180v160Zm440 0h160v-160H620v160Z\"/>\n",
              "  </svg>\n",
              "    </button>\n",
              "\n",
              "  <style>\n",
              "    .colab-df-container {\n",
              "      display:flex;\n",
              "      gap: 12px;\n",
              "    }\n",
              "\n",
              "    .colab-df-convert {\n",
              "      background-color: #E8F0FE;\n",
              "      border: none;\n",
              "      border-radius: 50%;\n",
              "      cursor: pointer;\n",
              "      display: none;\n",
              "      fill: #1967D2;\n",
              "      height: 32px;\n",
              "      padding: 0 0 0 0;\n",
              "      width: 32px;\n",
              "    }\n",
              "\n",
              "    .colab-df-convert:hover {\n",
              "      background-color: #E2EBFA;\n",
              "      box-shadow: 0px 1px 2px rgba(60, 64, 67, 0.3), 0px 1px 3px 1px rgba(60, 64, 67, 0.15);\n",
              "      fill: #174EA6;\n",
              "    }\n",
              "\n",
              "    .colab-df-buttons div {\n",
              "      margin-bottom: 4px;\n",
              "    }\n",
              "\n",
              "    [theme=dark] .colab-df-convert {\n",
              "      background-color: #3B4455;\n",
              "      fill: #D2E3FC;\n",
              "    }\n",
              "\n",
              "    [theme=dark] .colab-df-convert:hover {\n",
              "      background-color: #434B5C;\n",
              "      box-shadow: 0px 1px 3px 1px rgba(0, 0, 0, 0.15);\n",
              "      filter: drop-shadow(0px 1px 2px rgba(0, 0, 0, 0.3));\n",
              "      fill: #FFFFFF;\n",
              "    }\n",
              "  </style>\n",
              "\n",
              "    <script>\n",
              "      const buttonEl =\n",
              "        document.querySelector('#df-e57a0261-237c-4578-b173-0dd51a06ab05 button.colab-df-convert');\n",
              "      buttonEl.style.display =\n",
              "        google.colab.kernel.accessAllowed ? 'block' : 'none';\n",
              "\n",
              "      async function convertToInteractive(key) {\n",
              "        const element = document.querySelector('#df-e57a0261-237c-4578-b173-0dd51a06ab05');\n",
              "        const dataTable =\n",
              "          await google.colab.kernel.invokeFunction('convertToInteractive',\n",
              "                                                    [key], {});\n",
              "        if (!dataTable) return;\n",
              "\n",
              "        const docLinkHtml = 'Like what you see? Visit the ' +\n",
              "          '<a target=\"_blank\" href=https://colab.research.google.com/notebooks/data_table.ipynb>data table notebook</a>'\n",
              "          + ' to learn more about interactive tables.';\n",
              "        element.innerHTML = '';\n",
              "        dataTable['output_type'] = 'display_data';\n",
              "        await google.colab.output.renderOutput(dataTable, element);\n",
              "        const docLink = document.createElement('div');\n",
              "        docLink.innerHTML = docLinkHtml;\n",
              "        element.appendChild(docLink);\n",
              "      }\n",
              "    </script>\n",
              "  </div>\n",
              "\n",
              "\n",
              "<div id=\"df-1ab9a1c6-54bc-4af8-b74b-ee2bc23bdd04\">\n",
              "  <button class=\"colab-df-quickchart\" onclick=\"quickchart('df-1ab9a1c6-54bc-4af8-b74b-ee2bc23bdd04')\"\n",
              "            title=\"Suggest charts\"\n",
              "            style=\"display:none;\">\n",
              "\n",
              "<svg xmlns=\"http://www.w3.org/2000/svg\" height=\"24px\"viewBox=\"0 0 24 24\"\n",
              "     width=\"24px\">\n",
              "    <g>\n",
              "        <path d=\"M19 3H5c-1.1 0-2 .9-2 2v14c0 1.1.9 2 2 2h14c1.1 0 2-.9 2-2V5c0-1.1-.9-2-2-2zM9 17H7v-7h2v7zm4 0h-2V7h2v10zm4 0h-2v-4h2v4z\"/>\n",
              "    </g>\n",
              "</svg>\n",
              "  </button>\n",
              "\n",
              "<style>\n",
              "  .colab-df-quickchart {\n",
              "      --bg-color: #E8F0FE;\n",
              "      --fill-color: #1967D2;\n",
              "      --hover-bg-color: #E2EBFA;\n",
              "      --hover-fill-color: #174EA6;\n",
              "      --disabled-fill-color: #AAA;\n",
              "      --disabled-bg-color: #DDD;\n",
              "  }\n",
              "\n",
              "  [theme=dark] .colab-df-quickchart {\n",
              "      --bg-color: #3B4455;\n",
              "      --fill-color: #D2E3FC;\n",
              "      --hover-bg-color: #434B5C;\n",
              "      --hover-fill-color: #FFFFFF;\n",
              "      --disabled-bg-color: #3B4455;\n",
              "      --disabled-fill-color: #666;\n",
              "  }\n",
              "\n",
              "  .colab-df-quickchart {\n",
              "    background-color: var(--bg-color);\n",
              "    border: none;\n",
              "    border-radius: 50%;\n",
              "    cursor: pointer;\n",
              "    display: none;\n",
              "    fill: var(--fill-color);\n",
              "    height: 32px;\n",
              "    padding: 0;\n",
              "    width: 32px;\n",
              "  }\n",
              "\n",
              "  .colab-df-quickchart:hover {\n",
              "    background-color: var(--hover-bg-color);\n",
              "    box-shadow: 0 1px 2px rgba(60, 64, 67, 0.3), 0 1px 3px 1px rgba(60, 64, 67, 0.15);\n",
              "    fill: var(--button-hover-fill-color);\n",
              "  }\n",
              "\n",
              "  .colab-df-quickchart-complete:disabled,\n",
              "  .colab-df-quickchart-complete:disabled:hover {\n",
              "    background-color: var(--disabled-bg-color);\n",
              "    fill: var(--disabled-fill-color);\n",
              "    box-shadow: none;\n",
              "  }\n",
              "\n",
              "  .colab-df-spinner {\n",
              "    border: 2px solid var(--fill-color);\n",
              "    border-color: transparent;\n",
              "    border-bottom-color: var(--fill-color);\n",
              "    animation:\n",
              "      spin 1s steps(1) infinite;\n",
              "  }\n",
              "\n",
              "  @keyframes spin {\n",
              "    0% {\n",
              "      border-color: transparent;\n",
              "      border-bottom-color: var(--fill-color);\n",
              "      border-left-color: var(--fill-color);\n",
              "    }\n",
              "    20% {\n",
              "      border-color: transparent;\n",
              "      border-left-color: var(--fill-color);\n",
              "      border-top-color: var(--fill-color);\n",
              "    }\n",
              "    30% {\n",
              "      border-color: transparent;\n",
              "      border-left-color: var(--fill-color);\n",
              "      border-top-color: var(--fill-color);\n",
              "      border-right-color: var(--fill-color);\n",
              "    }\n",
              "    40% {\n",
              "      border-color: transparent;\n",
              "      border-right-color: var(--fill-color);\n",
              "      border-top-color: var(--fill-color);\n",
              "    }\n",
              "    60% {\n",
              "      border-color: transparent;\n",
              "      border-right-color: var(--fill-color);\n",
              "    }\n",
              "    80% {\n",
              "      border-color: transparent;\n",
              "      border-right-color: var(--fill-color);\n",
              "      border-bottom-color: var(--fill-color);\n",
              "    }\n",
              "    90% {\n",
              "      border-color: transparent;\n",
              "      border-bottom-color: var(--fill-color);\n",
              "    }\n",
              "  }\n",
              "</style>\n",
              "\n",
              "  <script>\n",
              "    async function quickchart(key) {\n",
              "      const quickchartButtonEl =\n",
              "        document.querySelector('#' + key + ' button');\n",
              "      quickchartButtonEl.disabled = true;  // To prevent multiple clicks.\n",
              "      quickchartButtonEl.classList.add('colab-df-spinner');\n",
              "      try {\n",
              "        const charts = await google.colab.kernel.invokeFunction(\n",
              "            'suggestCharts', [key], {});\n",
              "      } catch (error) {\n",
              "        console.error('Error during call to suggestCharts:', error);\n",
              "      }\n",
              "      quickchartButtonEl.classList.remove('colab-df-spinner');\n",
              "      quickchartButtonEl.classList.add('colab-df-quickchart-complete');\n",
              "    }\n",
              "    (() => {\n",
              "      let quickchartButtonEl =\n",
              "        document.querySelector('#df-1ab9a1c6-54bc-4af8-b74b-ee2bc23bdd04 button');\n",
              "      quickchartButtonEl.style.display =\n",
              "        google.colab.kernel.accessAllowed ? 'block' : 'none';\n",
              "    })();\n",
              "  </script>\n",
              "</div>\n",
              "\n",
              "  <div id=\"id_31318f26-d059-4144-a904-8a1c91559216\">\n",
              "    <style>\n",
              "      .colab-df-generate {\n",
              "        background-color: #E8F0FE;\n",
              "        border: none;\n",
              "        border-radius: 50%;\n",
              "        cursor: pointer;\n",
              "        display: none;\n",
              "        fill: #1967D2;\n",
              "        height: 32px;\n",
              "        padding: 0 0 0 0;\n",
              "        width: 32px;\n",
              "      }\n",
              "\n",
              "      .colab-df-generate:hover {\n",
              "        background-color: #E2EBFA;\n",
              "        box-shadow: 0px 1px 2px rgba(60, 64, 67, 0.3), 0px 1px 3px 1px rgba(60, 64, 67, 0.15);\n",
              "        fill: #174EA6;\n",
              "      }\n",
              "\n",
              "      [theme=dark] .colab-df-generate {\n",
              "        background-color: #3B4455;\n",
              "        fill: #D2E3FC;\n",
              "      }\n",
              "\n",
              "      [theme=dark] .colab-df-generate:hover {\n",
              "        background-color: #434B5C;\n",
              "        box-shadow: 0px 1px 3px 1px rgba(0, 0, 0, 0.15);\n",
              "        filter: drop-shadow(0px 1px 2px rgba(0, 0, 0, 0.3));\n",
              "        fill: #FFFFFF;\n",
              "      }\n",
              "    </style>\n",
              "    <button class=\"colab-df-generate\" onclick=\"generateWithVariable('X_train')\"\n",
              "            title=\"Generate code using this dataframe.\"\n",
              "            style=\"display:none;\">\n",
              "\n",
              "  <svg xmlns=\"http://www.w3.org/2000/svg\" height=\"24px\"viewBox=\"0 0 24 24\"\n",
              "       width=\"24px\">\n",
              "    <path d=\"M7,19H8.4L18.45,9,17,7.55,7,17.6ZM5,21V16.75L18.45,3.32a2,2,0,0,1,2.83,0l1.4,1.43a1.91,1.91,0,0,1,.58,1.4,1.91,1.91,0,0,1-.58,1.4L9.25,21ZM18.45,9,17,7.55Zm-12,3A5.31,5.31,0,0,0,4.9,8.1,5.31,5.31,0,0,0,1,6.5,5.31,5.31,0,0,0,4.9,4.9,5.31,5.31,0,0,0,6.5,1,5.31,5.31,0,0,0,8.1,4.9,5.31,5.31,0,0,0,12,6.5,5.46,5.46,0,0,0,6.5,12Z\"/>\n",
              "  </svg>\n",
              "    </button>\n",
              "    <script>\n",
              "      (() => {\n",
              "      const buttonEl =\n",
              "        document.querySelector('#id_31318f26-d059-4144-a904-8a1c91559216 button.colab-df-generate');\n",
              "      buttonEl.style.display =\n",
              "        google.colab.kernel.accessAllowed ? 'block' : 'none';\n",
              "\n",
              "      buttonEl.onclick = () => {\n",
              "        google.colab.notebook.generateWithVariable('X_train');\n",
              "      }\n",
              "      })();\n",
              "    </script>\n",
              "  </div>\n",
              "\n",
              "    </div>\n",
              "  </div>\n"
            ],
            "application/vnd.google.colaboratory.intrinsic+json": {
              "type": "dataframe",
              "variable_name": "X_train"
            }
          },
          "metadata": {},
          "execution_count": 10
        }
      ]
    },
    {
      "cell_type": "code",
      "source": [],
      "metadata": {
        "id": "6b__c1pnA0FC"
      },
      "execution_count": null,
      "outputs": []
    },
    {
      "cell_type": "code",
      "source": [
        "0# Reshape the input data to be 3D for RNN\n",
        "# The input shape for RNN should be (batch_size, timesteps, features)\n",
        "X_train = X_train.values\n",
        "X_test = X_test.values\n",
        "\n",
        "features = X_train.shape[1]\n",
        "timesteps = 1\n",
        "X_train = X_train.reshape(X_train.shape[0], timesteps, features)\n",
        "X_test = X_test.reshape(X_test.shape[0], timesteps, features)"
      ],
      "metadata": {
        "id": "K7sNv7MA-mBd"
      },
      "execution_count": null,
      "outputs": []
    },
    {
      "cell_type": "code",
      "source": [
        "lstm_model = Sequential()\n",
        "\n",
        "lstm_model.add(LSTM(64, activation='relu', input_shape=(timesteps, features),return_sequences=True))\n",
        "# lstm_model.add(Dropout(0.2))\n",
        "\n",
        "# lstm_model.add(LSTM(64, activation='relu',return_sequences=True))\n",
        "# lstm_model.add(Dropout(0.2))\n",
        "\n",
        "lstm_model.add(LSTM(32, activation='relu'))\n",
        "\n",
        "lstm_model.add(Dense(21, activation='softmax'))\n",
        "\n",
        "lstm_model.summary()"
      ],
      "metadata": {
        "colab": {
          "base_uri": "https://localhost:8080/"
        },
        "id": "jo8vlfS8BE43",
        "outputId": "1e92a330-606a-48d0-b376-5d83d2a07e52"
      },
      "execution_count": null,
      "outputs": [
        {
          "output_type": "stream",
          "name": "stdout",
          "text": [
            "Model: \"sequential\"\n",
            "_________________________________________________________________\n",
            " Layer (type)                Output Shape              Param #   \n",
            "=================================================================\n",
            " lstm (LSTM)                 (None, 1, 64)             59648     \n",
            "                                                                 \n",
            " lstm_1 (LSTM)               (None, 32)                12416     \n",
            "                                                                 \n",
            " dense (Dense)               (None, 21)                693       \n",
            "                                                                 \n",
            "=================================================================\n",
            "Total params: 72757 (284.21 KB)\n",
            "Trainable params: 72757 (284.21 KB)\n",
            "Non-trainable params: 0 (0.00 Byte)\n",
            "_________________________________________________________________\n"
          ]
        }
      ]
    },
    {
      "cell_type": "code",
      "source": [
        "from tensorflow.keras.utils import to_categorical\n",
        "\n",
        "y_train_encoded = to_categorical(y_freq_train)\n",
        "y_test_encoded = to_categorical(y_freq_test)\n",
        "y_train_encoded.shape"
      ],
      "metadata": {
        "colab": {
          "base_uri": "https://localhost:8080/"
        },
        "id": "a6L0gVHCC6YL",
        "outputId": "9490731b-a530-49ff-ab40-e4b269e0ce94"
      },
      "execution_count": null,
      "outputs": [
        {
          "output_type": "execute_result",
          "data": {
            "text/plain": [
              "(15750, 21)"
            ]
          },
          "metadata": {},
          "execution_count": 13
        }
      ]
    },
    {
      "cell_type": "code",
      "source": [
        "opt = keras.optimizers.Adamax(learning_rate=0.001)\n",
        "lstm_model.compile(optimizer=opt, loss='categorical_crossentropy', metrics=['accuracy'])"
      ],
      "metadata": {
        "id": "Tg9-DvvtB3Mc"
      },
      "execution_count": null,
      "outputs": []
    },
    {
      "cell_type": "code",
      "source": [
        "lstm_history = lstm_model.fit(X_train, y_train_encoded, epochs=20, batch_size=64, validation_split=0.1, shuffle = True)"
      ],
      "metadata": {
        "colab": {
          "base_uri": "https://localhost:8080/"
        },
        "id": "UbEUPfhiB6rq",
        "outputId": "7ad782dd-99fe-4b54-da9f-1ba106a17b3a"
      },
      "execution_count": null,
      "outputs": [
        {
          "output_type": "stream",
          "name": "stdout",
          "text": [
            "Epoch 1/20\n",
            "222/222 [==============================] - 4s 7ms/step - loss: 1.8924 - accuracy: 0.4099 - val_loss: 0.7661 - val_accuracy: 0.7975\n",
            "Epoch 2/20\n",
            "222/222 [==============================] - 1s 6ms/step - loss: 0.4999 - accuracy: 0.8554 - val_loss: 0.2935 - val_accuracy: 0.9194\n",
            "Epoch 3/20\n",
            "222/222 [==============================] - 2s 9ms/step - loss: 0.1877 - accuracy: 0.9552 - val_loss: 0.1114 - val_accuracy: 0.9841\n",
            "Epoch 4/20\n",
            "222/222 [==============================] - 2s 9ms/step - loss: 0.0987 - accuracy: 0.9756 - val_loss: 0.0954 - val_accuracy: 0.9797\n",
            "Epoch 5/20\n",
            "222/222 [==============================] - 1s 5ms/step - loss: 0.0876 - accuracy: 0.9749 - val_loss: 0.0439 - val_accuracy: 0.9924\n",
            "Epoch 6/20\n",
            "222/222 [==============================] - 1s 5ms/step - loss: 0.0616 - accuracy: 0.9813 - val_loss: 0.0863 - val_accuracy: 0.9657\n",
            "Epoch 7/20\n",
            "222/222 [==============================] - 1s 5ms/step - loss: 0.0530 - accuracy: 0.9850 - val_loss: 0.0789 - val_accuracy: 0.9790\n",
            "Epoch 8/20\n",
            "222/222 [==============================] - 1s 5ms/step - loss: 0.0638 - accuracy: 0.9811 - val_loss: 0.0546 - val_accuracy: 0.9841\n",
            "Epoch 9/20\n",
            "222/222 [==============================] - 1s 5ms/step - loss: 0.0357 - accuracy: 0.9894 - val_loss: 0.0862 - val_accuracy: 0.9683\n",
            "Epoch 10/20\n",
            "222/222 [==============================] - 1s 5ms/step - loss: 0.0333 - accuracy: 0.9896 - val_loss: 0.0427 - val_accuracy: 0.9911\n",
            "Epoch 11/20\n",
            "222/222 [==============================] - 1s 5ms/step - loss: 0.0596 - accuracy: 0.9808 - val_loss: 0.0537 - val_accuracy: 0.9803\n",
            "Epoch 12/20\n",
            "222/222 [==============================] - 2s 7ms/step - loss: 0.0222 - accuracy: 0.9941 - val_loss: 0.0135 - val_accuracy: 0.9981\n",
            "Epoch 13/20\n",
            "222/222 [==============================] - 4s 16ms/step - loss: 0.0245 - accuracy: 0.9932 - val_loss: 0.0206 - val_accuracy: 0.9981\n",
            "Epoch 14/20\n",
            "222/222 [==============================] - 3s 12ms/step - loss: 0.0424 - accuracy: 0.9871 - val_loss: 0.0114 - val_accuracy: 1.0000\n",
            "Epoch 15/20\n",
            "222/222 [==============================] - 2s 10ms/step - loss: 0.0168 - accuracy: 0.9955 - val_loss: 0.0092 - val_accuracy: 0.9994\n",
            "Epoch 16/20\n",
            "222/222 [==============================] - 2s 10ms/step - loss: 0.0290 - accuracy: 0.9915 - val_loss: 0.0075 - val_accuracy: 1.0000\n",
            "Epoch 17/20\n",
            "222/222 [==============================] - 1s 5ms/step - loss: 0.0094 - accuracy: 0.9985 - val_loss: 0.0063 - val_accuracy: 0.9987\n",
            "Epoch 18/20\n",
            "222/222 [==============================] - 1s 5ms/step - loss: 0.0700 - accuracy: 0.9792 - val_loss: 0.0079 - val_accuracy: 1.0000\n",
            "Epoch 19/20\n",
            "222/222 [==============================] - 1s 5ms/step - loss: 0.0093 - accuracy: 0.9984 - val_loss: 0.0070 - val_accuracy: 1.0000\n",
            "Epoch 20/20\n",
            "222/222 [==============================] - 1s 5ms/step - loss: 0.0159 - accuracy: 0.9963 - val_loss: 0.0131 - val_accuracy: 0.9968\n"
          ]
        }
      ]
    },
    {
      "cell_type": "code",
      "source": [
        "# Model evaluation\n",
        "loss_lstm, accuracy_lstm = lstm_model.evaluate(X_test, y_test_encoded)\n",
        "print('Test loss:', loss_lstm, 'Test accuracy:', accuracy_lstm)"
      ],
      "metadata": {
        "colab": {
          "base_uri": "https://localhost:8080/"
        },
        "id": "y7ECs9veCSrr",
        "outputId": "4c2b7f23-68e7-40d5-e12f-e28791925161"
      },
      "execution_count": null,
      "outputs": [
        {
          "output_type": "stream",
          "name": "stdout",
          "text": [
            "178/178 [==============================] - 0s 2ms/step - loss: 1.0313 - accuracy: 0.9293\n",
            "Test loss: 1.031333565711975 Test accuracy: 0.9292768836021423\n"
          ]
        }
      ]
    },
    {
      "cell_type": "code",
      "source": [
        "# Evaluate the model\n",
        "y_pred_lstm = lstm_model.predict(X_test)\n",
        "\n",
        "# Convert one-hot encoded predictions to class labels\n",
        "y_pred_lstm = np.argmax(y_pred_lstm, axis=1)\n",
        "y_test = np.argmax(y_test_encoded, axis=1)\n",
        "\n",
        "# Calculate accuracy\n",
        "accuracy_lstm = accuracy_score(y_test, y_pred_lstm)\n",
        "print(\"Accuracy:  %.5f\" %accuracy_lstm)\n",
        "\n",
        "# Calculate precision\n",
        "precision_lstm = precision_score(y_test, y_pred_lstm, average='weighted')\n",
        "print(\"Precision:  %.5f\" % precision_lstm)\n",
        "\n",
        "# Calculate recall\n",
        "recall_lstm = recall_score(y_test, y_pred_lstm, average='weighted')\n",
        "print(\"Recall:  %.5f\" % recall_lstm)\n",
        "\n",
        "# Calculate F1 score\n",
        "f1_lstm = f1_score(y_test, y_pred_lstm, average='weighted')\n",
        "print(\"F1 Score:  %.5f\" %f1_lstm)\n",
        "\n",
        "# Generate classification report\n",
        "report_lstm = classification_report(y_test, y_pred_lstm)\n",
        "print(\"Classification Report:\")\n",
        "print(report_lstm)\n",
        "\n",
        "# Calculate confusion matrix\n",
        "conf_matrix_lstm = confusion_matrix(y_test, y_pred_lstm)"
      ],
      "metadata": {
        "colab": {
          "base_uri": "https://localhost:8080/"
        },
        "id": "H_ro_3gyDm8d",
        "outputId": "a23333bf-fd58-4838-f3b2-14c9ff751622"
      },
      "execution_count": null,
      "outputs": [
        {
          "output_type": "stream",
          "name": "stdout",
          "text": [
            "178/178 [==============================] - 1s 2ms/step\n",
            "Accuracy:  0.92928\n",
            "Precision:  0.93396\n",
            "Recall:  0.92928\n",
            "F1 Score:  0.93048\n",
            "Classification Report:\n",
            "              precision    recall  f1-score   support\n",
            "\n",
            "           0       1.00      0.96      0.98       245\n",
            "           1       0.83      0.92      0.87       251\n",
            "           2       1.00      0.93      0.97       298\n",
            "           3       0.87      0.95      0.90       276\n",
            "           4       1.00      0.93      0.96       277\n",
            "           5       0.80      0.93      0.86       271\n",
            "           6       0.93      0.91      0.92       284\n",
            "           7       0.87      0.93      0.90       278\n",
            "           8       0.80      0.91      0.85       286\n",
            "           9       1.00      0.93      0.96       281\n",
            "          10       1.00      0.92      0.96       260\n",
            "          11       0.92      0.90      0.91       253\n",
            "          12       1.00      0.92      0.96       262\n",
            "          13       0.93      0.93      0.93       271\n",
            "          14       0.93      0.93      0.93       283\n",
            "          15       0.93      0.93      0.93       275\n",
            "          16       1.00      0.93      0.96       277\n",
            "          17       0.93      0.93      0.93       274\n",
            "          18       1.00      0.92      0.96       242\n",
            "          19       1.00      1.00      1.00       253\n",
            "          20       0.89      0.93      0.91       273\n",
            "\n",
            "    accuracy                           0.93      5670\n",
            "   macro avg       0.93      0.93      0.93      5670\n",
            "weighted avg       0.93      0.93      0.93      5670\n",
            "\n"
          ]
        }
      ]
    },
    {
      "cell_type": "code",
      "source": [
        "# Plot training & validation accuracy values\n",
        "plt.plot(lstm_history.history['accuracy'])\n",
        "plt.plot(lstm_history.history['val_accuracy'])\n",
        "plt.title('Model accuracy')\n",
        "plt.ylabel('Accuracy')\n",
        "plt.xlabel('Epoch')\n",
        "plt.legend(['Train', 'Validation'], loc='upper left')\n",
        "plt.show()\n",
        "\n",
        "# Plot training & validation loss values\n",
        "plt.plot(lstm_history.history['loss'])\n",
        "plt.plot(lstm_history.history['val_loss'])\n",
        "plt.title('Model loss')\n",
        "plt.ylabel('Loss')\n",
        "plt.xlabel('Epoch')\n",
        "plt.legend(['Train', 'Validation'], loc='upper left')\n",
        "plt.show()"
      ],
      "metadata": {
        "colab": {
          "base_uri": "https://localhost:8080/",
          "height": 927
        },
        "id": "d9gFYL49D-pn",
        "outputId": "b9800b6d-5212-4880-dc51-c7989eeee2eb"
      },
      "execution_count": null,
      "outputs": [
        {
          "output_type": "display_data",
          "data": {
            "text/plain": [
              "<Figure size 640x480 with 1 Axes>"
            ],
            "image/png": "[encoded data removed]"
          },
          "metadata": {}
        },
        {
          "output_type": "display_data",
          "data": {
            "text/plain": [
              "<Figure size 640x480 with 1 Axes>"
            ],
            "image/png": "[encoded data removed]"
          },
          "metadata": {}
        }
      ]
    },
    {
      "cell_type": "code",
      "source": [
        "plt.figure(figsize=(8, 6))\n",
        "sns.heatmap(conf_matrix_lstm, annot=True, fmt=\"d\", cmap=\"Blues\", cbar=False)\n",
        "plt.title(\"Confusion Matrix\")\n",
        "plt.xlabel(\"Predicted Labels\")\n",
        "plt.ylabel(\"True Labels\")\n",
        "plt.show()"
      ],
      "metadata": {
        "colab": {
          "base_uri": "https://localhost:8080/",
          "height": 564
        },
        "id": "ikt776YuEsiN",
        "outputId": "fdb68d94-058b-4989-e9dc-deadff19089e"
      },
      "execution_count": null,
      "outputs": [
        {
          "output_type": "display_data",
          "data": {
            "text/plain": [
              "<Figure size 800x600 with 1 Axes>"
            ],
            "image/png": "[encoded data removed]"
          },
          "metadata": {}
        }
      ]
    },
    {
      "cell_type": "code",
      "source": [
        "from tensorflow.keras.utils import to_categorical\n",
        "\n",
        "y_train_encoded = to_categorical(y_fault_train)\n",
        "y_test_encoded = to_categorical(y_fault_test)\n",
        "y_train_encoded.shape"
      ],
      "metadata": {
        "colab": {
          "base_uri": "https://localhost:8080/"
        },
        "id": "7PX4DNxIGNG5",
        "outputId": "ecea05ad-fc5a-4d9c-9771-d83ba8027275"
      },
      "execution_count": null,
      "outputs": [
        {
          "output_type": "execute_result",
          "data": {
            "text/plain": [
              "(15750, 2)"
            ]
          },
          "metadata": {},
          "execution_count": 20
        }
      ]
    },
    {
      "cell_type": "code",
      "source": [
        "lstm_model = Sequential()\n",
        "\n",
        "lstm_model.add(LSTM(64, activation='relu', input_shape=(timesteps, features),return_sequences=True))\n",
        "# lstm_model.add(Dropout(0.2))\n",
        "\n",
        "# lstm_model.add(LSTM(64, activation='relu',return_sequences=True))\n",
        "# lstm_model.add(Dropout(0.2))\n",
        "\n",
        "lstm_model.add(LSTM(32, activation='relu'))\n",
        "\n",
        "lstm_model.add(Dense(2, activation='sigmoid'))\n",
        "\n",
        "lstm_model.summary()"
      ],
      "metadata": {
        "colab": {
          "base_uri": "https://localhost:8080/"
        },
        "id": "D3gi2dzGGx_R",
        "outputId": "f7b0e41e-c188-4dcc-8c96-e5bca00301f4"
      },
      "execution_count": null,
      "outputs": [
        {
          "output_type": "stream",
          "name": "stdout",
          "text": [
            "Model: \"sequential_1\"\n",
            "_________________________________________________________________\n",
            " Layer (type)                Output Shape              Param #   \n",
            "=================================================================\n",
            " lstm_2 (LSTM)               (None, 1, 64)             59648     \n",
            "                                                                 \n",
            " lstm_3 (LSTM)               (None, 32)                12416     \n",
            "                                                                 \n",
            " dense_1 (Dense)             (None, 2)                 66        \n",
            "                                                                 \n",
            "=================================================================\n",
            "Total params: 72130 (281.76 KB)\n",
            "Trainable params: 72130 (281.76 KB)\n",
            "Non-trainable params: 0 (0.00 Byte)\n",
            "_________________________________________________________________\n"
          ]
        }
      ]
    },
    {
      "cell_type": "code",
      "source": [
        "opt = keras.optimizers.Adamax(learning_rate=0.001)\n",
        "lstm_model.compile(optimizer=opt, loss='categorical_crossentropy', metrics=['accuracy'])\n",
        "lstm_history = lstm_model.fit(X_train, y_train_encoded, epochs=20, batch_size=64, validation_split=0.1, shuffle = True)"
      ],
      "metadata": {
        "colab": {
          "base_uri": "https://localhost:8080/"
        },
        "id": "LlpdvM0oGbur",
        "outputId": "618d0bf5-4f0e-4b20-966b-1aa93aac6fab"
      },
      "execution_count": null,
      "outputs": [
        {
          "output_type": "stream",
          "name": "stdout",
          "text": [
            "Epoch 1/20\n",
            "222/222 [==============================] - 6s 9ms/step - loss: 0.3509 - accuracy: 0.8387 - val_loss: 0.1983 - val_accuracy: 0.9486\n",
            "Epoch 2/20\n",
            "222/222 [==============================] - 1s 5ms/step - loss: 0.1277 - accuracy: 0.9558 - val_loss: 0.0598 - val_accuracy: 0.9854\n",
            "Epoch 3/20\n",
            "222/222 [==============================] - 1s 5ms/step - loss: 0.0704 - accuracy: 0.9778 - val_loss: 0.0300 - val_accuracy: 0.9937\n",
            "Epoch 4/20\n",
            "222/222 [==============================] - 1s 5ms/step - loss: 0.0338 - accuracy: 0.9913 - val_loss: 0.0167 - val_accuracy: 0.9987\n",
            "Epoch 5/20\n",
            "222/222 [==============================] - 1s 5ms/step - loss: 0.0279 - accuracy: 0.9909 - val_loss: 0.0332 - val_accuracy: 0.9867\n",
            "Epoch 6/20\n",
            "222/222 [==============================] - 1s 5ms/step - loss: 0.0141 - accuracy: 0.9960 - val_loss: 0.0052 - val_accuracy: 1.0000\n",
            "Epoch 7/20\n",
            "222/222 [==============================] - 1s 5ms/step - loss: 0.0314 - accuracy: 0.9898 - val_loss: 0.0038 - val_accuracy: 1.0000\n",
            "Epoch 8/20\n",
            "222/222 [==============================] - 1s 5ms/step - loss: 0.0060 - accuracy: 0.9987 - val_loss: 0.0028 - val_accuracy: 1.0000\n",
            "Epoch 9/20\n",
            "222/222 [==============================] - 1s 6ms/step - loss: 0.0244 - accuracy: 0.9910 - val_loss: 0.0403 - val_accuracy: 0.9854\n",
            "Epoch 10/20\n",
            "222/222 [==============================] - 2s 8ms/step - loss: 0.0066 - accuracy: 0.9984 - val_loss: 0.0025 - val_accuracy: 1.0000\n",
            "Epoch 11/20\n",
            "222/222 [==============================] - 2s 9ms/step - loss: 0.0022 - accuracy: 0.9998 - val_loss: 0.0014 - val_accuracy: 1.0000\n",
            "Epoch 12/20\n",
            "222/222 [==============================] - 1s 6ms/step - loss: 0.0086 - accuracy: 0.9977 - val_loss: 0.0045 - val_accuracy: 1.0000\n",
            "Epoch 13/20\n",
            "222/222 [==============================] - 1s 5ms/step - loss: 0.0101 - accuracy: 0.9963 - val_loss: 0.0012 - val_accuracy: 1.0000\n",
            "Epoch 14/20\n",
            "222/222 [==============================] - 1s 5ms/step - loss: 0.0012 - accuracy: 1.0000 - val_loss: 0.0012 - val_accuracy: 1.0000\n",
            "Epoch 15/20\n",
            "222/222 [==============================] - 1s 5ms/step - loss: 0.0122 - accuracy: 0.9960 - val_loss: 0.0094 - val_accuracy: 0.9994\n",
            "Epoch 16/20\n",
            "222/222 [==============================] - 1s 5ms/step - loss: 0.0061 - accuracy: 0.9988 - val_loss: 8.9872e-04 - val_accuracy: 1.0000\n",
            "Epoch 17/20\n",
            "222/222 [==============================] - 1s 5ms/step - loss: 0.0047 - accuracy: 0.9984 - val_loss: 0.0017 - val_accuracy: 1.0000\n",
            "Epoch 18/20\n",
            "222/222 [==============================] - 1s 5ms/step - loss: 0.0070 - accuracy: 0.9973 - val_loss: 8.3537e-04 - val_accuracy: 1.0000\n",
            "Epoch 19/20\n",
            "222/222 [==============================] - 1s 5ms/step - loss: 6.5200e-04 - accuracy: 1.0000 - val_loss: 7.4607e-04 - val_accuracy: 1.0000\n",
            "Epoch 20/20\n",
            "222/222 [==============================] - 1s 5ms/step - loss: 0.0144 - accuracy: 0.9965 - val_loss: 0.0068 - val_accuracy: 0.9994\n"
          ]
        }
      ]
    },
    {
      "cell_type": "code",
      "source": [
        "# Model evaluation\n",
        "loss_lstm, accuracy_lstm = lstm_model.evaluate(X_test, y_test_encoded)\n",
        "print('Test loss:', loss_lstm, 'Test accuracy:', accuracy_lstm)"
      ],
      "metadata": {
        "colab": {
          "base_uri": "https://localhost:8080/"
        },
        "id": "Sm1u0Q4eGuy7",
        "outputId": "9481a892-3077-4ee4-d2d2-48e0eee11c7d"
      },
      "execution_count": null,
      "outputs": [
        {
          "output_type": "stream",
          "name": "stdout",
          "text": [
            "178/178 [==============================] - 0s 2ms/step - loss: 0.1542 - accuracy: 0.9795\n",
            "Test loss: 0.15424826741218567 Test accuracy: 0.9795414209365845\n"
          ]
        }
      ]
    },
    {
      "cell_type": "code",
      "source": [
        "# Evaluate the model\n",
        "y_pred_lstm = lstm_model.predict(X_test)\n",
        "\n",
        "# Convert one-hot encoded predictions to class labels\n",
        "y_pred_lstm = np.argmax(y_pred_lstm, axis=1)\n",
        "y_test = np.argmax(y_test_encoded, axis=1)\n",
        "\n",
        "# Calculate accuracy\n",
        "accuracy_lstm = accuracy_score(y_test, y_pred_lstm)\n",
        "print(\"Accuracy:  %.5f\" %accuracy_lstm)\n",
        "\n",
        "# Calculate precision\n",
        "precision_lstm = precision_score(y_test, y_pred_lstm, average='weighted')\n",
        "print(\"Precision:  %.5f\" % precision_lstm)\n",
        "\n",
        "# Calculate recall\n",
        "recall_lstm = recall_score(y_test, y_pred_lstm, average='weighted')\n",
        "print(\"Recall:  %.5f\" % recall_lstm)\n",
        "\n",
        "# Calculate F1 score\n",
        "f1_lstm = f1_score(y_test, y_pred_lstm, average='weighted')\n",
        "print(\"F1 Score:  %.5f\" %f1_lstm)\n",
        "\n",
        "# Generate classification report\n",
        "report_lstm = classification_report(y_test, y_pred_lstm)\n",
        "print(\"Classification Report:\")\n",
        "print(report_lstm)\n",
        "\n",
        "# Calculate confusion matrix\n",
        "conf_matrix_lstm = confusion_matrix(y_test, y_pred_lstm)"
      ],
      "metadata": {
        "colab": {
          "base_uri": "https://localhost:8080/"
        },
        "id": "a1WsA7OdHmQp",
        "outputId": "dc0bd7c9-b732-4f03-c749-1380272e0c4a"
      },
      "execution_count": null,
      "outputs": [
        {
          "output_type": "stream",
          "name": "stdout",
          "text": [
            "178/178 [==============================] - 1s 2ms/step\n",
            "Accuracy:  0.97954\n",
            "Precision:  0.97956\n",
            "Recall:  0.97954\n",
            "F1 Score:  0.97954\n",
            "Classification Report:\n",
            "              precision    recall  f1-score   support\n",
            "\n",
            "           0       0.98      0.98      0.98      2666\n",
            "           1       0.98      0.98      0.98      3004\n",
            "\n",
            "    accuracy                           0.98      5670\n",
            "   macro avg       0.98      0.98      0.98      5670\n",
            "weighted avg       0.98      0.98      0.98      5670\n",
            "\n"
          ]
        }
      ]
    },
    {
      "cell_type": "code",
      "source": [
        "plt.figure(figsize=(8, 6))\n",
        "sns.heatmap(conf_matrix_lstm, annot=True, fmt=\"d\", cmap=\"Blues\", cbar=False)\n",
        "plt.title(\"Confusion Matrix\")\n",
        "plt.xlabel(\"Predicted Labels\")\n",
        "plt.ylabel(\"True Labels\")\n",
        "plt.show()"
      ],
      "metadata": {
        "colab": {
          "base_uri": "https://localhost:8080/",
          "height": 564
        },
        "id": "Elz-8INhHnIs",
        "outputId": "cc2d099c-fb14-49a9-90ec-b2031441d540"
      },
      "execution_count": null,
      "outputs": [
        {
          "output_type": "display_data",
          "data": {
            "text/plain": [
              "<Figure size 800x600 with 1 Axes>"
            ],
            "image/png": "[encoded data removed]"
          },
          "metadata": {}
        }
      ]
    }
  ]
}