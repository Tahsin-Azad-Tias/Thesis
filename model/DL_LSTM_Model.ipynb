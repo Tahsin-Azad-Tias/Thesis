{
  "nbformat": 4,
  "nbformat_minor": 0,
  "metadata": {
    "colab": {
      "provenance": [],
      "authorship_tag": "ABX9TyMQpElEB42t6fr0aENJ6pUo",
      "include_colab_link": true
    },
    "kernelspec": {
      "name": "python3",
      "display_name": "Python 3"
    },
    "language_info": {
      "name": "python"
    }
  },
  "cells": [
    {
      "cell_type": "markdown",
      "metadata": {
        "id": "view-in-github",
        "colab_type": "text"
      },
      "source": [
        "<a href=\"https://colab.research.google.com/github/Tahsin-Azad-Tias/Thesis/blob/main/model/DL_LSTM_Model.ipynb\" target=\"_parent\"><img src=\"https://colab.research.google.com/assets/colab-badge.svg\" alt=\"Open In Colab\"/></a>"
      ]
    },
    {
      "cell_type": "code",
      "execution_count": null,
      "metadata": {
        "colab": {
          "base_uri": "https://localhost:8080/"
        },
        "id": "Inu4feES3gqh",
        "outputId": "0ea49154-3b7b-4dd1-a9ec-d6691b8187c8"
      },
      "outputs": [
        {
          "output_type": "stream",
          "name": "stdout",
          "text": [
            "/usr/local/lib/python3.10/dist-packages/gdown/__main__.py:132: FutureWarning: Option `--id` was deprecated in version 4.3.1 and will be removed in 5.0. You don't need to pass it anymore to use a file ID.\n",
            "  warnings.warn(\n",
            "Downloading...\n",
            "From: https://drive.google.com/uc?id=1FJTjHI3WvDLEAU1GPH9s7Uhi5sbCPXaY\n",
            "To: /content/train.csv\n",
            "100% 15.8M/15.8M [00:00<00:00, 45.6MB/s]\n",
            "/usr/local/lib/python3.10/dist-packages/gdown/__main__.py:132: FutureWarning: Option `--id` was deprecated in version 4.3.1 and will be removed in 5.0. You don't need to pass it anymore to use a file ID.\n",
            "  warnings.warn(\n",
            "Downloading...\n",
            "From: https://drive.google.com/uc?id=1qYCf-RKv1q28OYDzYioZ1kKimIxDnz8B\n",
            "To: /content/test.csv\n",
            "100% 4.34M/4.34M [00:00<00:00, 50.3MB/s]\n"
          ]
        }
      ],
      "source": [
        "!gdown --id \"1FJTjHI3WvDLEAU1GPH9s7Uhi5sbCPXaY\"\n",
        "!gdown --id \"1qYCf-RKv1q28OYDzYioZ1kKimIxDnz8B\""
      ]
    },
    {
      "cell_type": "code",
      "source": [
        "import pandas as pd\n",
        "import numpy as np\n",
        "from tensorflow import keras\n",
        "import matplotlib.pyplot as plt\n",
        "import seaborn as sns\n",
        "from sklearn.metrics import precision_recall_fscore_support\n",
        "from sklearn.ensemble import RandomForestClassifier\n",
        "from sklearn.metrics import classification_report\n",
        "from sklearn.metrics import accuracy_score, precision_score, recall_score, f1_score, confusion_matrix, classification_report\n",
        "from xgboost import XGBClassifier\n",
        "from sklearn.tree import DecisionTreeClassifier\n",
        "from sklearn.svm import SVC\n",
        "import lightgbm as lgb\n",
        "from sklearn import metrics\n",
        "from sklearn.metrics import confusion_matrix\n",
        "\n",
        "from keras.models import Sequential, Model\n",
        "from keras.layers import LSTM, Dense, Dropout\n",
        "from keras.utils import to_categorical"
      ],
      "metadata": {
        "id": "MQM331hS3mAo"
      },
      "execution_count": null,
      "outputs": []
    },
    {
      "cell_type": "code",
      "source": [
        "train_df = pd.read_csv(\"/content/train.csv\")\n",
        "test_df = pd.read_csv(\"/content/test.csv\")"
      ],
      "metadata": {
        "id": "zxbSJUuO3l9N"
      },
      "execution_count": null,
      "outputs": []
    },
    {
      "cell_type": "code",
      "source": [
        "X_train = train_df.drop(['label1','label_falut'], axis =1)\n",
        "y_freq_train = train_df['label1'].astype(int)\n",
        "y_fault_train = train_df['label_falut'].astype(int)"
      ],
      "metadata": {
        "id": "-Kv6xDIz3l6r"
      },
      "execution_count": null,
      "outputs": []
    },
    {
      "cell_type": "code",
      "source": [
        "X_test = test_df.drop(['label1','label_falut'], axis =1)\n",
        "y_freq_test = test_df['label1'].astype(int)\n",
        "y_fault_test = test_df['label_falut'].astype(int)"
      ],
      "metadata": {
        "id": "6U-rURck3l30"
      },
      "execution_count": null,
      "outputs": []
    },
    {
      "cell_type": "code",
      "source": [
        "X_train"
      ],
      "metadata": {
        "colab": {
          "base_uri": "https://localhost:8080/",
          "height": 424
        },
        "id": "dW-mMLgH-EpX",
        "outputId": "3e920049-00f8-4d6c-d58b-1bc4d4d78307"
      },
      "execution_count": null,
      "outputs": [
        {
          "output_type": "execute_result",
          "data": {
            "text/plain": [
              "              0         1         2         3         4         5         6  \\\n",
              "0      0.297639  0.205715 -1.445339  0.138043 -0.025925 -2.083185 -0.654751   \n",
              "1      0.612671  0.412815 -1.052995 -0.802563 -0.520758 -1.100657  0.082040   \n",
              "2     -0.856595 -0.380705 -1.047218 -0.378246  0.796028 -1.142484 -0.166047   \n",
              "3     -0.429678 -0.760051 -0.751340  1.256115 -0.475671 -0.145215 -1.281801   \n",
              "4     -0.931518 -0.391635 -1.044777 -0.187636  0.552180 -0.896201 -0.298272   \n",
              "...         ...       ...       ...       ...       ...       ...       ...   \n",
              "16311 -0.915247 -0.073300 -0.667963 -0.551407 -0.162720 -1.494902  0.169222   \n",
              "16312  2.382632  0.325440  0.250747 -1.121755  0.305746 -0.978854  0.654206   \n",
              "16313 -0.947538 -0.906462 -0.757750 -0.524462 -0.232609  0.195856 -0.187208   \n",
              "16314 -0.581377 -1.087263  1.625737  0.518839  0.253525  0.234458  1.248498   \n",
              "16315 -0.774713  2.189551  2.125887 -0.357259 -0.042562 -0.394593 -1.820523   \n",
              "\n",
              "              7         8         9  ...        40        41        42  \\\n",
              "0      0.218002  0.715108 -0.626010  ...  0.590212 -0.448230 -0.530842   \n",
              "1      0.513884  0.475298 -0.295127  ... -0.436365  0.807788 -0.799098   \n",
              "2     -0.486184 -1.112462  0.046874  ... -0.039810  0.588766 -0.100935   \n",
              "3     -0.616515 -0.624351  0.825960  ...  1.017463  1.054957  1.862388   \n",
              "4     -0.640623 -1.384410  0.238580  ... -0.001777  0.929588 -0.668088   \n",
              "...         ...       ...       ...  ...       ...       ...       ...   \n",
              "16311  0.729771  0.978776 -0.665532  ... -0.858696  0.743871 -1.037847   \n",
              "16312  0.135992  1.316205  2.443010  ... -0.460294  0.340509  0.488979   \n",
              "16313 -0.732056  0.069982  0.617212  ...  0.883266 -0.667102  0.352488   \n",
              "16314 -0.565703 -1.042268 -0.706032  ...  0.584348 -0.187653 -0.590587   \n",
              "16315 -2.195334  1.117096 -0.070462  ...  4.153833  0.367386 -0.288537   \n",
              "\n",
              "             43        44        45        46        47        48        49  \n",
              "0     -0.542794  1.320145  1.721702  1.827125  1.293097  0.632987  0.499707  \n",
              "1      0.440767  0.850914 -0.246414 -0.209578 -0.107226  0.193872 -0.416698  \n",
              "2     -0.804614  0.067498 -0.122768  0.688677 -0.045386  0.018459  0.194292  \n",
              "3      2.002589  0.015711 -0.362337 -0.890268  1.619069 -1.136229  1.340813  \n",
              "4      0.039570  0.779120 -0.526614 -0.486924 -0.235112 -0.345948 -0.736096  \n",
              "...         ...       ...       ...       ...       ...       ...       ...  \n",
              "16311 -0.025835  0.677042 -0.864619 -0.366901  0.064995  0.279170 -0.558880  \n",
              "16312 -0.441980 -0.551279  0.093060 -0.227890 -0.101581 -0.617314  0.386982  \n",
              "16313  0.250693 -0.102698 -0.075756  0.307853  0.131423 -0.238486 -0.065702  \n",
              "16314 -0.178010 -0.821674  0.339035  0.981619  0.527043 -1.149272  0.811518  \n",
              "16315 -1.033793  1.381232  2.634611  2.372029  1.111429  0.481486 -2.487969  \n",
              "\n",
              "[16316 rows x 50 columns]"
            ],
            "text/html": [
              "\n",
              "  <div id=\"df-c53158a1-f4c9-4074-a441-49740a93843e\" class=\"colab-df-container\">\n",
              "    <div>\n",
              "<style scoped>\n",
              "    .dataframe tbody tr th:only-of-type {\n",
              "        vertical-align: middle;\n",
              "    }\n",
              "\n",
              "    .dataframe tbody tr th {\n",
              "        vertical-align: top;\n",
              "    }\n",
              "\n",
              "    .dataframe thead th {\n",
              "        text-align: right;\n",
              "    }\n",
              "</style>\n",
              "<table border=\"1\" class=\"dataframe\">\n",
              "  <thead>\n",
              "    <tr style=\"text-align: right;\">\n",
              "      <th></th>\n",
              "      <th>0</th>\n",
              "      <th>1</th>\n",
              "      <th>2</th>\n",
              "      <th>3</th>\n",
              "      <th>4</th>\n",
              "      <th>5</th>\n",
              "      <th>6</th>\n",
              "      <th>7</th>\n",
              "      <th>8</th>\n",
              "      <th>9</th>\n",
              "      <th>...</th>\n",
              "      <th>40</th>\n",
              "      <th>41</th>\n",
              "      <th>42</th>\n",
              "      <th>43</th>\n",
              "      <th>44</th>\n",
              "      <th>45</th>\n",
              "      <th>46</th>\n",
              "      <th>47</th>\n",
              "      <th>48</th>\n",
              "      <th>49</th>\n",
              "    </tr>\n",
              "  </thead>\n",
              "  <tbody>\n",
              "    <tr>\n",
              "      <th>0</th>\n",
              "      <td>0.297639</td>\n",
              "      <td>0.205715</td>\n",
              "      <td>-1.445339</td>\n",
              "      <td>0.138043</td>\n",
              "      <td>-0.025925</td>\n",
              "      <td>-2.083185</td>\n",
              "      <td>-0.654751</td>\n",
              "      <td>0.218002</td>\n",
              "      <td>0.715108</td>\n",
              "      <td>-0.626010</td>\n",
              "      <td>...</td>\n",
              "      <td>0.590212</td>\n",
              "      <td>-0.448230</td>\n",
              "      <td>-0.530842</td>\n",
              "      <td>-0.542794</td>\n",
              "      <td>1.320145</td>\n",
              "      <td>1.721702</td>\n",
              "      <td>1.827125</td>\n",
              "      <td>1.293097</td>\n",
              "      <td>0.632987</td>\n",
              "      <td>0.499707</td>\n",
              "    </tr>\n",
              "    <tr>\n",
              "      <th>1</th>\n",
              "      <td>0.612671</td>\n",
              "      <td>0.412815</td>\n",
              "      <td>-1.052995</td>\n",
              "      <td>-0.802563</td>\n",
              "      <td>-0.520758</td>\n",
              "      <td>-1.100657</td>\n",
              "      <td>0.082040</td>\n",
              "      <td>0.513884</td>\n",
              "      <td>0.475298</td>\n",
              "      <td>-0.295127</td>\n",
              "      <td>...</td>\n",
              "      <td>-0.436365</td>\n",
              "      <td>0.807788</td>\n",
              "      <td>-0.799098</td>\n",
              "      <td>0.440767</td>\n",
              "      <td>0.850914</td>\n",
              "      <td>-0.246414</td>\n",
              "      <td>-0.209578</td>\n",
              "      <td>-0.107226</td>\n",
              "      <td>0.193872</td>\n",
              "      <td>-0.416698</td>\n",
              "    </tr>\n",
              "    <tr>\n",
              "      <th>2</th>\n",
              "      <td>-0.856595</td>\n",
              "      <td>-0.380705</td>\n",
              "      <td>-1.047218</td>\n",
              "      <td>-0.378246</td>\n",
              "      <td>0.796028</td>\n",
              "      <td>-1.142484</td>\n",
              "      <td>-0.166047</td>\n",
              "      <td>-0.486184</td>\n",
              "      <td>-1.112462</td>\n",
              "      <td>0.046874</td>\n",
              "      <td>...</td>\n",
              "      <td>-0.039810</td>\n",
              "      <td>0.588766</td>\n",
              "      <td>-0.100935</td>\n",
              "      <td>-0.804614</td>\n",
              "      <td>0.067498</td>\n",
              "      <td>-0.122768</td>\n",
              "      <td>0.688677</td>\n",
              "      <td>-0.045386</td>\n",
              "      <td>0.018459</td>\n",
              "      <td>0.194292</td>\n",
              "    </tr>\n",
              "    <tr>\n",
              "      <th>3</th>\n",
              "      <td>-0.429678</td>\n",
              "      <td>-0.760051</td>\n",
              "      <td>-0.751340</td>\n",
              "      <td>1.256115</td>\n",
              "      <td>-0.475671</td>\n",
              "      <td>-0.145215</td>\n",
              "      <td>-1.281801</td>\n",
              "      <td>-0.616515</td>\n",
              "      <td>-0.624351</td>\n",
              "      <td>0.825960</td>\n",
              "      <td>...</td>\n",
              "      <td>1.017463</td>\n",
              "      <td>1.054957</td>\n",
              "      <td>1.862388</td>\n",
              "      <td>2.002589</td>\n",
              "      <td>0.015711</td>\n",
              "      <td>-0.362337</td>\n",
              "      <td>-0.890268</td>\n",
              "      <td>1.619069</td>\n",
              "      <td>-1.136229</td>\n",
              "      <td>1.340813</td>\n",
              "    </tr>\n",
              "    <tr>\n",
              "      <th>4</th>\n",
              "      <td>-0.931518</td>\n",
              "      <td>-0.391635</td>\n",
              "      <td>-1.044777</td>\n",
              "      <td>-0.187636</td>\n",
              "      <td>0.552180</td>\n",
              "      <td>-0.896201</td>\n",
              "      <td>-0.298272</td>\n",
              "      <td>-0.640623</td>\n",
              "      <td>-1.384410</td>\n",
              "      <td>0.238580</td>\n",
              "      <td>...</td>\n",
              "      <td>-0.001777</td>\n",
              "      <td>0.929588</td>\n",
              "      <td>-0.668088</td>\n",
              "      <td>0.039570</td>\n",
              "      <td>0.779120</td>\n",
              "      <td>-0.526614</td>\n",
              "      <td>-0.486924</td>\n",
              "      <td>-0.235112</td>\n",
              "      <td>-0.345948</td>\n",
              "      <td>-0.736096</td>\n",
              "    </tr>\n",
              "    <tr>\n",
              "      <th>...</th>\n",
              "      <td>...</td>\n",
              "      <td>...</td>\n",
              "      <td>...</td>\n",
              "      <td>...</td>\n",
              "      <td>...</td>\n",
              "      <td>...</td>\n",
              "      <td>...</td>\n",
              "      <td>...</td>\n",
              "      <td>...</td>\n",
              "      <td>...</td>\n",
              "      <td>...</td>\n",
              "      <td>...</td>\n",
              "      <td>...</td>\n",
              "      <td>...</td>\n",
              "      <td>...</td>\n",
              "      <td>...</td>\n",
              "      <td>...</td>\n",
              "      <td>...</td>\n",
              "      <td>...</td>\n",
              "      <td>...</td>\n",
              "      <td>...</td>\n",
              "    </tr>\n",
              "    <tr>\n",
              "      <th>16311</th>\n",
              "      <td>-0.915247</td>\n",
              "      <td>-0.073300</td>\n",
              "      <td>-0.667963</td>\n",
              "      <td>-0.551407</td>\n",
              "      <td>-0.162720</td>\n",
              "      <td>-1.494902</td>\n",
              "      <td>0.169222</td>\n",
              "      <td>0.729771</td>\n",
              "      <td>0.978776</td>\n",
              "      <td>-0.665532</td>\n",
              "      <td>...</td>\n",
              "      <td>-0.858696</td>\n",
              "      <td>0.743871</td>\n",
              "      <td>-1.037847</td>\n",
              "      <td>-0.025835</td>\n",
              "      <td>0.677042</td>\n",
              "      <td>-0.864619</td>\n",
              "      <td>-0.366901</td>\n",
              "      <td>0.064995</td>\n",
              "      <td>0.279170</td>\n",
              "      <td>-0.558880</td>\n",
              "    </tr>\n",
              "    <tr>\n",
              "      <th>16312</th>\n",
              "      <td>2.382632</td>\n",
              "      <td>0.325440</td>\n",
              "      <td>0.250747</td>\n",
              "      <td>-1.121755</td>\n",
              "      <td>0.305746</td>\n",
              "      <td>-0.978854</td>\n",
              "      <td>0.654206</td>\n",
              "      <td>0.135992</td>\n",
              "      <td>1.316205</td>\n",
              "      <td>2.443010</td>\n",
              "      <td>...</td>\n",
              "      <td>-0.460294</td>\n",
              "      <td>0.340509</td>\n",
              "      <td>0.488979</td>\n",
              "      <td>-0.441980</td>\n",
              "      <td>-0.551279</td>\n",
              "      <td>0.093060</td>\n",
              "      <td>-0.227890</td>\n",
              "      <td>-0.101581</td>\n",
              "      <td>-0.617314</td>\n",
              "      <td>0.386982</td>\n",
              "    </tr>\n",
              "    <tr>\n",
              "      <th>16313</th>\n",
              "      <td>-0.947538</td>\n",
              "      <td>-0.906462</td>\n",
              "      <td>-0.757750</td>\n",
              "      <td>-0.524462</td>\n",
              "      <td>-0.232609</td>\n",
              "      <td>0.195856</td>\n",
              "      <td>-0.187208</td>\n",
              "      <td>-0.732056</td>\n",
              "      <td>0.069982</td>\n",
              "      <td>0.617212</td>\n",
              "      <td>...</td>\n",
              "      <td>0.883266</td>\n",
              "      <td>-0.667102</td>\n",
              "      <td>0.352488</td>\n",
              "      <td>0.250693</td>\n",
              "      <td>-0.102698</td>\n",
              "      <td>-0.075756</td>\n",
              "      <td>0.307853</td>\n",
              "      <td>0.131423</td>\n",
              "      <td>-0.238486</td>\n",
              "      <td>-0.065702</td>\n",
              "    </tr>\n",
              "    <tr>\n",
              "      <th>16314</th>\n",
              "      <td>-0.581377</td>\n",
              "      <td>-1.087263</td>\n",
              "      <td>1.625737</td>\n",
              "      <td>0.518839</td>\n",
              "      <td>0.253525</td>\n",
              "      <td>0.234458</td>\n",
              "      <td>1.248498</td>\n",
              "      <td>-0.565703</td>\n",
              "      <td>-1.042268</td>\n",
              "      <td>-0.706032</td>\n",
              "      <td>...</td>\n",
              "      <td>0.584348</td>\n",
              "      <td>-0.187653</td>\n",
              "      <td>-0.590587</td>\n",
              "      <td>-0.178010</td>\n",
              "      <td>-0.821674</td>\n",
              "      <td>0.339035</td>\n",
              "      <td>0.981619</td>\n",
              "      <td>0.527043</td>\n",
              "      <td>-1.149272</td>\n",
              "      <td>0.811518</td>\n",
              "    </tr>\n",
              "    <tr>\n",
              "      <th>16315</th>\n",
              "      <td>-0.774713</td>\n",
              "      <td>2.189551</td>\n",
              "      <td>2.125887</td>\n",
              "      <td>-0.357259</td>\n",
              "      <td>-0.042562</td>\n",
              "      <td>-0.394593</td>\n",
              "      <td>-1.820523</td>\n",
              "      <td>-2.195334</td>\n",
              "      <td>1.117096</td>\n",
              "      <td>-0.070462</td>\n",
              "      <td>...</td>\n",
              "      <td>4.153833</td>\n",
              "      <td>0.367386</td>\n",
              "      <td>-0.288537</td>\n",
              "      <td>-1.033793</td>\n",
              "      <td>1.381232</td>\n",
              "      <td>2.634611</td>\n",
              "      <td>2.372029</td>\n",
              "      <td>1.111429</td>\n",
              "      <td>0.481486</td>\n",
              "      <td>-2.487969</td>\n",
              "    </tr>\n",
              "  </tbody>\n",
              "</table>\n",
              "<p>16316 rows × 50 columns</p>\n",
              "</div>\n",
              "    <div class=\"colab-df-buttons\">\n",
              "\n",
              "  <div class=\"colab-df-container\">\n",
              "    <button class=\"colab-df-convert\" onclick=\"convertToInteractive('df-c53158a1-f4c9-4074-a441-49740a93843e')\"\n",
              "            title=\"Convert this dataframe to an interactive table.\"\n",
              "            style=\"display:none;\">\n",
              "\n",
              "  <svg xmlns=\"http://www.w3.org/2000/svg\" height=\"24px\" viewBox=\"0 -960 960 960\">\n",
              "    <path d=\"M120-120v-720h720v720H120Zm60-500h600v-160H180v160Zm220 220h160v-160H400v160Zm0 220h160v-160H400v160ZM180-400h160v-160H180v160Zm440 0h160v-160H620v160ZM180-180h160v-160H180v160Zm440 0h160v-160H620v160Z\"/>\n",
              "  </svg>\n",
              "    </button>\n",
              "\n",
              "  <style>\n",
              "    .colab-df-container {\n",
              "      display:flex;\n",
              "      gap: 12px;\n",
              "    }\n",
              "\n",
              "    .colab-df-convert {\n",
              "      background-color: #E8F0FE;\n",
              "      border: none;\n",
              "      border-radius: 50%;\n",
              "      cursor: pointer;\n",
              "      display: none;\n",
              "      fill: #1967D2;\n",
              "      height: 32px;\n",
              "      padding: 0 0 0 0;\n",
              "      width: 32px;\n",
              "    }\n",
              "\n",
              "    .colab-df-convert:hover {\n",
              "      background-color: #E2EBFA;\n",
              "      box-shadow: 0px 1px 2px rgba(60, 64, 67, 0.3), 0px 1px 3px 1px rgba(60, 64, 67, 0.15);\n",
              "      fill: #174EA6;\n",
              "    }\n",
              "\n",
              "    .colab-df-buttons div {\n",
              "      margin-bottom: 4px;\n",
              "    }\n",
              "\n",
              "    [theme=dark] .colab-df-convert {\n",
              "      background-color: #3B4455;\n",
              "      fill: #D2E3FC;\n",
              "    }\n",
              "\n",
              "    [theme=dark] .colab-df-convert:hover {\n",
              "      background-color: #434B5C;\n",
              "      box-shadow: 0px 1px 3px 1px rgba(0, 0, 0, 0.15);\n",
              "      filter: drop-shadow(0px 1px 2px rgba(0, 0, 0, 0.3));\n",
              "      fill: #FFFFFF;\n",
              "    }\n",
              "  </style>\n",
              "\n",
              "    <script>\n",
              "      const buttonEl =\n",
              "        document.querySelector('#df-c53158a1-f4c9-4074-a441-49740a93843e button.colab-df-convert');\n",
              "      buttonEl.style.display =\n",
              "        google.colab.kernel.accessAllowed ? 'block' : 'none';\n",
              "\n",
              "      async function convertToInteractive(key) {\n",
              "        const element = document.querySelector('#df-c53158a1-f4c9-4074-a441-49740a93843e');\n",
              "        const dataTable =\n",
              "          await google.colab.kernel.invokeFunction('convertToInteractive',\n",
              "                                                    [key], {});\n",
              "        if (!dataTable) return;\n",
              "\n",
              "        const docLinkHtml = 'Like what you see? Visit the ' +\n",
              "          '<a target=\"_blank\" href=https://colab.research.google.com/notebooks/data_table.ipynb>data table notebook</a>'\n",
              "          + ' to learn more about interactive tables.';\n",
              "        element.innerHTML = '';\n",
              "        dataTable['output_type'] = 'display_data';\n",
              "        await google.colab.output.renderOutput(dataTable, element);\n",
              "        const docLink = document.createElement('div');\n",
              "        docLink.innerHTML = docLinkHtml;\n",
              "        element.appendChild(docLink);\n",
              "      }\n",
              "    </script>\n",
              "  </div>\n",
              "\n",
              "\n",
              "<div id=\"df-0f498625-1c9e-42ee-a72f-6a0b72e47339\">\n",
              "  <button class=\"colab-df-quickchart\" onclick=\"quickchart('df-0f498625-1c9e-42ee-a72f-6a0b72e47339')\"\n",
              "            title=\"Suggest charts\"\n",
              "            style=\"display:none;\">\n",
              "\n",
              "<svg xmlns=\"http://www.w3.org/2000/svg\" height=\"24px\"viewBox=\"0 0 24 24\"\n",
              "     width=\"24px\">\n",
              "    <g>\n",
              "        <path d=\"M19 3H5c-1.1 0-2 .9-2 2v14c0 1.1.9 2 2 2h14c1.1 0 2-.9 2-2V5c0-1.1-.9-2-2-2zM9 17H7v-7h2v7zm4 0h-2V7h2v10zm4 0h-2v-4h2v4z\"/>\n",
              "    </g>\n",
              "</svg>\n",
              "  </button>\n",
              "\n",
              "<style>\n",
              "  .colab-df-quickchart {\n",
              "      --bg-color: #E8F0FE;\n",
              "      --fill-color: #1967D2;\n",
              "      --hover-bg-color: #E2EBFA;\n",
              "      --hover-fill-color: #174EA6;\n",
              "      --disabled-fill-color: #AAA;\n",
              "      --disabled-bg-color: #DDD;\n",
              "  }\n",
              "\n",
              "  [theme=dark] .colab-df-quickchart {\n",
              "      --bg-color: #3B4455;\n",
              "      --fill-color: #D2E3FC;\n",
              "      --hover-bg-color: #434B5C;\n",
              "      --hover-fill-color: #FFFFFF;\n",
              "      --disabled-bg-color: #3B4455;\n",
              "      --disabled-fill-color: #666;\n",
              "  }\n",
              "\n",
              "  .colab-df-quickchart {\n",
              "    background-color: var(--bg-color);\n",
              "    border: none;\n",
              "    border-radius: 50%;\n",
              "    cursor: pointer;\n",
              "    display: none;\n",
              "    fill: var(--fill-color);\n",
              "    height: 32px;\n",
              "    padding: 0;\n",
              "    width: 32px;\n",
              "  }\n",
              "\n",
              "  .colab-df-quickchart:hover {\n",
              "    background-color: var(--hover-bg-color);\n",
              "    box-shadow: 0 1px 2px rgba(60, 64, 67, 0.3), 0 1px 3px 1px rgba(60, 64, 67, 0.15);\n",
              "    fill: var(--button-hover-fill-color);\n",
              "  }\n",
              "\n",
              "  .colab-df-quickchart-complete:disabled,\n",
              "  .colab-df-quickchart-complete:disabled:hover {\n",
              "    background-color: var(--disabled-bg-color);\n",
              "    fill: var(--disabled-fill-color);\n",
              "    box-shadow: none;\n",
              "  }\n",
              "\n",
              "  .colab-df-spinner {\n",
              "    border: 2px solid var(--fill-color);\n",
              "    border-color: transparent;\n",
              "    border-bottom-color: var(--fill-color);\n",
              "    animation:\n",
              "      spin 1s steps(1) infinite;\n",
              "  }\n",
              "\n",
              "  @keyframes spin {\n",
              "    0% {\n",
              "      border-color: transparent;\n",
              "      border-bottom-color: var(--fill-color);\n",
              "      border-left-color: var(--fill-color);\n",
              "    }\n",
              "    20% {\n",
              "      border-color: transparent;\n",
              "      border-left-color: var(--fill-color);\n",
              "      border-top-color: var(--fill-color);\n",
              "    }\n",
              "    30% {\n",
              "      border-color: transparent;\n",
              "      border-left-color: var(--fill-color);\n",
              "      border-top-color: var(--fill-color);\n",
              "      border-right-color: var(--fill-color);\n",
              "    }\n",
              "    40% {\n",
              "      border-color: transparent;\n",
              "      border-right-color: var(--fill-color);\n",
              "      border-top-color: var(--fill-color);\n",
              "    }\n",
              "    60% {\n",
              "      border-color: transparent;\n",
              "      border-right-color: var(--fill-color);\n",
              "    }\n",
              "    80% {\n",
              "      border-color: transparent;\n",
              "      border-right-color: var(--fill-color);\n",
              "      border-bottom-color: var(--fill-color);\n",
              "    }\n",
              "    90% {\n",
              "      border-color: transparent;\n",
              "      border-bottom-color: var(--fill-color);\n",
              "    }\n",
              "  }\n",
              "</style>\n",
              "\n",
              "  <script>\n",
              "    async function quickchart(key) {\n",
              "      const quickchartButtonEl =\n",
              "        document.querySelector('#' + key + ' button');\n",
              "      quickchartButtonEl.disabled = true;  // To prevent multiple clicks.\n",
              "      quickchartButtonEl.classList.add('colab-df-spinner');\n",
              "      try {\n",
              "        const charts = await google.colab.kernel.invokeFunction(\n",
              "            'suggestCharts', [key], {});\n",
              "      } catch (error) {\n",
              "        console.error('Error during call to suggestCharts:', error);\n",
              "      }\n",
              "      quickchartButtonEl.classList.remove('colab-df-spinner');\n",
              "      quickchartButtonEl.classList.add('colab-df-quickchart-complete');\n",
              "    }\n",
              "    (() => {\n",
              "      let quickchartButtonEl =\n",
              "        document.querySelector('#df-0f498625-1c9e-42ee-a72f-6a0b72e47339 button');\n",
              "      quickchartButtonEl.style.display =\n",
              "        google.colab.kernel.accessAllowed ? 'block' : 'none';\n",
              "    })();\n",
              "  </script>\n",
              "</div>\n",
              "\n",
              "  <div id=\"id_fb51aa5b-3f94-40f0-8655-34bf851918b7\">\n",
              "    <style>\n",
              "      .colab-df-generate {\n",
              "        background-color: #E8F0FE;\n",
              "        border: none;\n",
              "        border-radius: 50%;\n",
              "        cursor: pointer;\n",
              "        display: none;\n",
              "        fill: #1967D2;\n",
              "        height: 32px;\n",
              "        padding: 0 0 0 0;\n",
              "        width: 32px;\n",
              "      }\n",
              "\n",
              "      .colab-df-generate:hover {\n",
              "        background-color: #E2EBFA;\n",
              "        box-shadow: 0px 1px 2px rgba(60, 64, 67, 0.3), 0px 1px 3px 1px rgba(60, 64, 67, 0.15);\n",
              "        fill: #174EA6;\n",
              "      }\n",
              "\n",
              "      [theme=dark] .colab-df-generate {\n",
              "        background-color: #3B4455;\n",
              "        fill: #D2E3FC;\n",
              "      }\n",
              "\n",
              "      [theme=dark] .colab-df-generate:hover {\n",
              "        background-color: #434B5C;\n",
              "        box-shadow: 0px 1px 3px 1px rgba(0, 0, 0, 0.15);\n",
              "        filter: drop-shadow(0px 1px 2px rgba(0, 0, 0, 0.3));\n",
              "        fill: #FFFFFF;\n",
              "      }\n",
              "    </style>\n",
              "    <button class=\"colab-df-generate\" onclick=\"generateWithVariable('X_train')\"\n",
              "            title=\"Generate code using this dataframe.\"\n",
              "            style=\"display:none;\">\n",
              "\n",
              "  <svg xmlns=\"http://www.w3.org/2000/svg\" height=\"24px\"viewBox=\"0 0 24 24\"\n",
              "       width=\"24px\">\n",
              "    <path d=\"M7,19H8.4L18.45,9,17,7.55,7,17.6ZM5,21V16.75L18.45,3.32a2,2,0,0,1,2.83,0l1.4,1.43a1.91,1.91,0,0,1,.58,1.4,1.91,1.91,0,0,1-.58,1.4L9.25,21ZM18.45,9,17,7.55Zm-12,3A5.31,5.31,0,0,0,4.9,8.1,5.31,5.31,0,0,0,1,6.5,5.31,5.31,0,0,0,4.9,4.9,5.31,5.31,0,0,0,6.5,1,5.31,5.31,0,0,0,8.1,4.9,5.31,5.31,0,0,0,12,6.5,5.46,5.46,0,0,0,6.5,12Z\"/>\n",
              "  </svg>\n",
              "    </button>\n",
              "    <script>\n",
              "      (() => {\n",
              "      const buttonEl =\n",
              "        document.querySelector('#id_fb51aa5b-3f94-40f0-8655-34bf851918b7 button.colab-df-generate');\n",
              "      buttonEl.style.display =\n",
              "        google.colab.kernel.accessAllowed ? 'block' : 'none';\n",
              "\n",
              "      buttonEl.onclick = () => {\n",
              "        google.colab.notebook.generateWithVariable('X_train');\n",
              "      }\n",
              "      })();\n",
              "    </script>\n",
              "  </div>\n",
              "\n",
              "    </div>\n",
              "  </div>\n"
            ],
            "application/vnd.google.colaboratory.intrinsic+json": {
              "type": "dataframe",
              "variable_name": "X_train"
            }
          },
          "metadata": {},
          "execution_count": 6
        }
      ]
    },
    {
      "cell_type": "code",
      "source": [],
      "metadata": {
        "id": "6b__c1pnA0FC"
      },
      "execution_count": null,
      "outputs": []
    },
    {
      "cell_type": "code",
      "source": [
        "0# Reshape the input data to be 3D for RNN\n",
        "# The input shape for RNN should be (batch_size, timesteps, features)\n",
        "X_train = X_train.values\n",
        "X_test = X_test.values\n",
        "\n",
        "features = X_train.shape[1]\n",
        "timesteps = 1\n",
        "X_train = X_train.reshape(X_train.shape[0], timesteps, features)\n",
        "X_test = X_test.reshape(X_test.shape[0], timesteps, features)"
      ],
      "metadata": {
        "id": "K7sNv7MA-mBd"
      },
      "execution_count": null,
      "outputs": []
    },
    {
      "cell_type": "code",
      "source": [
        "lstm_model = Sequential()\n",
        "\n",
        "lstm_model.add(LSTM(64, activation='relu', input_shape=(timesteps, features),return_sequences=True))\n",
        "# lstm_model.add(Dropout(0.2))\n",
        "\n",
        "# lstm_model.add(LSTM(64, activation='relu',return_sequences=True))\n",
        "# lstm_model.add(Dropout(0.2))\n",
        "\n",
        "lstm_model.add(LSTM(32, activation='relu'))\n",
        "\n",
        "lstm_model.add(Dense(21, activation='softmax'))\n",
        "\n",
        "lstm_model.summary()"
      ],
      "metadata": {
        "colab": {
          "base_uri": "https://localhost:8080/"
        },
        "id": "jo8vlfS8BE43",
        "outputId": "a35dc263-50ff-4f81-f745-e91241c9d264"
      },
      "execution_count": null,
      "outputs": [
        {
          "output_type": "stream",
          "name": "stdout",
          "text": [
            "Model: \"sequential\"\n",
            "_________________________________________________________________\n",
            " Layer (type)                Output Shape              Param #   \n",
            "=================================================================\n",
            " lstm (LSTM)                 (None, 1, 64)             29440     \n",
            "                                                                 \n",
            " lstm_1 (LSTM)               (None, 32)                12416     \n",
            "                                                                 \n",
            " dense (Dense)               (None, 21)                693       \n",
            "                                                                 \n",
            "=================================================================\n",
            "Total params: 42549 (166.21 KB)\n",
            "Trainable params: 42549 (166.21 KB)\n",
            "Non-trainable params: 0 (0.00 Byte)\n",
            "_________________________________________________________________\n"
          ]
        }
      ]
    },
    {
      "cell_type": "code",
      "source": [
        "from tensorflow.keras.utils import to_categorical\n",
        "\n",
        "y_train_encoded = to_categorical(y_freq_train)\n",
        "y_test_encoded = to_categorical(y_freq_test)\n",
        "y_train_encoded.shape"
      ],
      "metadata": {
        "colab": {
          "base_uri": "https://localhost:8080/"
        },
        "id": "a6L0gVHCC6YL",
        "outputId": "6e4698d5-8f30-4571-8219-186d09577434"
      },
      "execution_count": null,
      "outputs": [
        {
          "output_type": "execute_result",
          "data": {
            "text/plain": [
              "(16316, 21)"
            ]
          },
          "metadata": {},
          "execution_count": 9
        }
      ]
    },
    {
      "cell_type": "code",
      "source": [
        "opt = keras.optimizers.Adamax(learning_rate=0.001)\n",
        "lstm_model.compile(optimizer=opt, loss='categorical_crossentropy', metrics=['accuracy'])"
      ],
      "metadata": {
        "id": "Tg9-DvvtB3Mc"
      },
      "execution_count": null,
      "outputs": []
    },
    {
      "cell_type": "code",
      "source": [
        "lstm_history = lstm_model.fit(X_train, y_train_encoded, epochs=20, batch_size=64, validation_split=0.1, shuffle = True)"
      ],
      "metadata": {
        "colab": {
          "base_uri": "https://localhost:8080/"
        },
        "id": "UbEUPfhiB6rq",
        "outputId": "4ac0ee29-61b0-4eb8-f3e4-2fa1fcdb079e"
      },
      "execution_count": null,
      "outputs": [
        {
          "output_type": "stream",
          "name": "stdout",
          "text": [
            "Epoch 1/20\n",
            "230/230 [==============================] - 10s 14ms/step - loss: 2.7108 - accuracy: 0.5984 - val_loss: 1.8903 - val_accuracy: 0.7929\n",
            "Epoch 2/20\n",
            "230/230 [==============================] - 3s 13ms/step - loss: 0.7771 - accuracy: 0.9326 - val_loss: 0.1108 - val_accuracy: 1.0000\n",
            "Epoch 3/20\n",
            "230/230 [==============================] - 3s 14ms/step - loss: 0.0410 - accuracy: 0.9999 - val_loss: 0.0174 - val_accuracy: 1.0000\n",
            "Epoch 4/20\n",
            "230/230 [==============================] - 2s 11ms/step - loss: 0.0111 - accuracy: 1.0000 - val_loss: 0.0075 - val_accuracy: 1.0000\n",
            "Epoch 5/20\n",
            "230/230 [==============================] - 2s 9ms/step - loss: 0.0054 - accuracy: 1.0000 - val_loss: 0.0041 - val_accuracy: 1.0000\n",
            "Epoch 6/20\n",
            "230/230 [==============================] - 2s 8ms/step - loss: 0.0032 - accuracy: 1.0000 - val_loss: 0.0026 - val_accuracy: 1.0000\n",
            "Epoch 7/20\n",
            "230/230 [==============================] - 1s 5ms/step - loss: 0.0020 - accuracy: 1.0000 - val_loss: 0.0017 - val_accuracy: 1.0000\n",
            "Epoch 8/20\n",
            "230/230 [==============================] - 1s 5ms/step - loss: 0.0014 - accuracy: 1.0000 - val_loss: 0.0012 - val_accuracy: 1.0000\n",
            "Epoch 9/20\n",
            "230/230 [==============================] - 2s 8ms/step - loss: 9.6314e-04 - accuracy: 1.0000 - val_loss: 8.2971e-04 - val_accuracy: 1.0000\n",
            "Epoch 10/20\n",
            "230/230 [==============================] - 2s 9ms/step - loss: 6.8913e-04 - accuracy: 1.0000 - val_loss: 5.9963e-04 - val_accuracy: 1.0000\n",
            "Epoch 11/20\n",
            "230/230 [==============================] - 1s 6ms/step - loss: 5.0125e-04 - accuracy: 1.0000 - val_loss: 4.3967e-04 - val_accuracy: 1.0000\n",
            "Epoch 12/20\n",
            "230/230 [==============================] - 1s 5ms/step - loss: 3.6941e-04 - accuracy: 1.0000 - val_loss: 3.2565e-04 - val_accuracy: 1.0000\n",
            "Epoch 13/20\n",
            "230/230 [==============================] - 1s 5ms/step - loss: 2.7495e-04 - accuracy: 1.0000 - val_loss: 2.4324e-04 - val_accuracy: 1.0000\n",
            "Epoch 14/20\n",
            "230/230 [==============================] - 1s 5ms/step - loss: 2.0623e-04 - accuracy: 1.0000 - val_loss: 1.8283e-04 - val_accuracy: 1.0000\n",
            "Epoch 15/20\n",
            "230/230 [==============================] - 1s 5ms/step - loss: 1.5547e-04 - accuracy: 1.0000 - val_loss: 1.3821e-04 - val_accuracy: 1.0000\n",
            "Epoch 16/20\n",
            "230/230 [==============================] - 1s 6ms/step - loss: 1.1776e-04 - accuracy: 1.0000 - val_loss: 1.0491e-04 - val_accuracy: 1.0000\n",
            "Epoch 17/20\n",
            "230/230 [==============================] - 1s 5ms/step - loss: 8.9563e-05 - accuracy: 1.0000 - val_loss: 7.9834e-05 - val_accuracy: 1.0000\n",
            "Epoch 18/20\n",
            "230/230 [==============================] - 1s 6ms/step - loss: 6.8273e-05 - accuracy: 1.0000 - val_loss: 6.0979e-05 - val_accuracy: 1.0000\n",
            "Epoch 19/20\n",
            "230/230 [==============================] - 2s 7ms/step - loss: 5.2217e-05 - accuracy: 1.0000 - val_loss: 4.6646e-05 - val_accuracy: 1.0000\n",
            "Epoch 20/20\n",
            "230/230 [==============================] - 2s 8ms/step - loss: 3.9990e-05 - accuracy: 1.0000 - val_loss: 3.5764e-05 - val_accuracy: 1.0000\n"
          ]
        }
      ]
    },
    {
      "cell_type": "code",
      "source": [
        "# Model evaluation\n",
        "loss_lstm, accuracy_lstm = lstm_model.evaluate(X_test, y_test_encoded)\n",
        "print('Test loss:', loss_lstm, 'Test accuracy:', accuracy_lstm)"
      ],
      "metadata": {
        "colab": {
          "base_uri": "https://localhost:8080/"
        },
        "id": "y7ECs9veCSrr",
        "outputId": "c0fd9343-630e-4bbf-c418-97e0f585f756"
      },
      "execution_count": null,
      "outputs": [
        {
          "output_type": "stream",
          "name": "stdout",
          "text": [
            "140/140 [==============================] - 0s 2ms/step - loss: 0.6221 - accuracy: 0.9145\n",
            "Test loss: 0.6221373081207275 Test accuracy: 0.9144707322120667\n"
          ]
        }
      ]
    },
    {
      "cell_type": "code",
      "source": [
        "# Evaluate the model\n",
        "y_pred_lstm = lstm_model.predict(X_test)\n",
        "\n",
        "# Convert one-hot encoded predictions to class labels\n",
        "y_pred_lstm = np.argmax(y_pred_lstm, axis=1)\n",
        "y_test = np.argmax(y_test_encoded, axis=1)\n",
        "\n",
        "# Calculate accuracy\n",
        "accuracy_lstm = accuracy_score(y_test, y_pred_lstm)\n",
        "print(\"Accuracy:  %.5f\" %accuracy_lstm)\n",
        "\n",
        "# Calculate precision\n",
        "precision_lstm = precision_score(y_test, y_pred_lstm, average='weighted')\n",
        "print(\"Precision:  %.5f\" % precision_lstm)\n",
        "\n",
        "# Calculate recall\n",
        "recall_lstm = recall_score(y_test, y_pred_lstm, average='weighted')\n",
        "print(\"Recall:  %.5f\" % recall_lstm)\n",
        "\n",
        "# Calculate F1 score\n",
        "f1_lstm = f1_score(y_test, y_pred_lstm, average='weighted')\n",
        "print(\"F1 Score:  %.5f\" %f1_lstm)\n",
        "\n",
        "# Generate classification report\n",
        "report_lstm = classification_report(y_test, y_pred_lstm)\n",
        "print(\"Classification Report:\")\n",
        "print(report_lstm)\n",
        "\n",
        "# Calculate confusion matrix\n",
        "conf_matrix_lstm = confusion_matrix(y_test, y_pred_lstm)"
      ],
      "metadata": {
        "colab": {
          "base_uri": "https://localhost:8080/"
        },
        "id": "H_ro_3gyDm8d",
        "outputId": "926ae7c5-cb7b-4d0c-af6e-9a03ddd522f5"
      },
      "execution_count": null,
      "outputs": [
        {
          "output_type": "stream",
          "name": "stdout",
          "text": [
            "140/140 [==============================] - 1s 2ms/step\n",
            "Accuracy:  0.91447\n",
            "Precision:  0.91621\n",
            "Recall:  0.91447\n",
            "F1 Score:  0.91486\n",
            "Classification Report:\n",
            "              precision    recall  f1-score   support\n",
            "\n",
            "           0       0.91      0.90      0.90       193\n",
            "           1       0.98      0.89      0.94       189\n",
            "           2       0.95      0.92      0.93       244\n",
            "           3       0.87      0.91      0.89       217\n",
            "           4       0.96      0.91      0.93       233\n",
            "           5       0.96      0.91      0.94       232\n",
            "           6       0.94      0.93      0.93       234\n",
            "           7       0.99      0.90      0.94       206\n",
            "           8       0.86      0.92      0.89       248\n",
            "           9       0.95      0.96      0.96       188\n",
            "          10       0.87      0.90      0.89       198\n",
            "          11       0.92      0.91      0.91       211\n",
            "          12       0.90      0.94      0.92       213\n",
            "          13       0.83      0.86      0.84       139\n",
            "          14       0.91      0.94      0.92       235\n",
            "          15       0.86      0.89      0.88       190\n",
            "          16       0.85      0.92      0.88       239\n",
            "          17       0.90      0.93      0.92       225\n",
            "          18       0.91      0.90      0.91       203\n",
            "          19       0.95      0.92      0.94       216\n",
            "          20       0.94      0.91      0.93       225\n",
            "\n",
            "    accuracy                           0.91      4478\n",
            "   macro avg       0.92      0.91      0.91      4478\n",
            "weighted avg       0.92      0.91      0.91      4478\n",
            "\n"
          ]
        }
      ]
    },
    {
      "cell_type": "code",
      "source": [
        "# Plot training & validation accuracy values\n",
        "plt.plot(lstm_history.history['accuracy'])\n",
        "plt.plot(lstm_history.history['val_accuracy'])\n",
        "plt.title('Model accuracy')\n",
        "plt.ylabel('Accuracy')\n",
        "plt.xlabel('Epoch')\n",
        "plt.legend(['Train', 'Validation'], loc='upper left')\n",
        "plt.show()\n",
        "\n",
        "# Plot training & validation loss values\n",
        "plt.plot(lstm_history.history['loss'])\n",
        "plt.plot(lstm_history.history['val_loss'])\n",
        "plt.title('Model loss')\n",
        "plt.ylabel('Loss')\n",
        "plt.xlabel('Epoch')\n",
        "plt.legend(['Train', 'Validation'], loc='upper left')\n",
        "plt.show()"
      ],
      "metadata": {
        "colab": {
          "base_uri": "https://localhost:8080/",
          "height": 927
        },
        "id": "d9gFYL49D-pn",
        "outputId": "2325c7bd-15ca-4f40-fcd4-4bb977faca42"
      },
      "execution_count": null,
      "outputs": [
        {
          "output_type": "display_data",
          "data": {
            "text/plain": [
              "<Figure size 640x480 with 1 Axes>"
            ],
            "image/png": "[encoded data removed]"
          },
          "metadata": {}
        },
        {
          "output_type": "display_data",
          "data": {
            "text/plain": [
              "<Figure size 640x480 with 1 Axes>"
            ],
            "image/png": "[encoded data removed]"
          },
          "metadata": {}
        }
      ]
    },
    {
      "cell_type": "code",
      "source": [
        "plt.figure(figsize=(8, 6))\n",
        "sns.heatmap(conf_matrix_lstm, annot=True, fmt=\"d\", cmap=\"Blues\", cbar=False)\n",
        "plt.title(\"Confusion Matrix\")\n",
        "plt.xlabel(\"Predicted Labels\")\n",
        "plt.ylabel(\"True Labels\")\n",
        "plt.show()"
      ],
      "metadata": {
        "colab": {
          "base_uri": "https://localhost:8080/",
          "height": 564
        },
        "id": "ikt776YuEsiN",
        "outputId": "18307e19-103f-4159-9948-41306688a9de"
      },
      "execution_count": null,
      "outputs": [
        {
          "output_type": "display_data",
          "data": {
            "text/plain": [
              "<Figure size 800x600 with 1 Axes>"
            ],
            "image/png": "[encoded data removed]"
          },
          "metadata": {}
        }
      ]
    },
    {
      "cell_type": "code",
      "source": [
        "from tensorflow.keras.utils import to_categorical\n",
        "\n",
        "y_train_encoded = to_categorical(y_fault_train)\n",
        "y_test_encoded = to_categorical(y_fault_test)\n",
        "y_train_encoded.shape"
      ],
      "metadata": {
        "colab": {
          "base_uri": "https://localhost:8080/"
        },
        "id": "7PX4DNxIGNG5",
        "outputId": "c350c569-eb59-4ead-ca57-a061ec15480b"
      },
      "execution_count": null,
      "outputs": [
        {
          "output_type": "execute_result",
          "data": {
            "text/plain": [
              "(16316, 2)"
            ]
          },
          "metadata": {},
          "execution_count": 16
        }
      ]
    },
    {
      "cell_type": "code",
      "source": [
        "lstm_model = Sequential()\n",
        "\n",
        "lstm_model.add(LSTM(64, activation='relu', input_shape=(timesteps, features),return_sequences=True))\n",
        "# lstm_model.add(Dropout(0.2))\n",
        "\n",
        "# lstm_model.add(LSTM(64, activation='relu',return_sequences=True))\n",
        "# lstm_model.add(Dropout(0.2))\n",
        "\n",
        "lstm_model.add(LSTM(32, activation='relu'))\n",
        "\n",
        "lstm_model.add(Dense(2, activation='sigmoid'))\n",
        "\n",
        "lstm_model.summary()"
      ],
      "metadata": {
        "colab": {
          "base_uri": "https://localhost:8080/"
        },
        "id": "D3gi2dzGGx_R",
        "outputId": "918e8f23-4fb2-47a7-e6a1-fe6ce08a1609"
      },
      "execution_count": null,
      "outputs": [
        {
          "output_type": "stream",
          "name": "stdout",
          "text": [
            "Model: \"sequential_1\"\n",
            "_________________________________________________________________\n",
            " Layer (type)                Output Shape              Param #   \n",
            "=================================================================\n",
            " lstm_2 (LSTM)               (None, 1, 64)             29440     \n",
            "                                                                 \n",
            " lstm_3 (LSTM)               (None, 32)                12416     \n",
            "                                                                 \n",
            " dense_1 (Dense)             (None, 2)                 66        \n",
            "                                                                 \n",
            "=================================================================\n",
            "Total params: 41922 (163.76 KB)\n",
            "Trainable params: 41922 (163.76 KB)\n",
            "Non-trainable params: 0 (0.00 Byte)\n",
            "_________________________________________________________________\n"
          ]
        }
      ]
    },
    {
      "cell_type": "code",
      "source": [
        "opt = keras.optimizers.Adamax(learning_rate=0.001)\n",
        "lstm_model.compile(optimizer=opt, loss='categorical_crossentropy', metrics=['accuracy'])\n",
        "lstm_history = lstm_model.fit(X_train, y_train_encoded, epochs=20, batch_size=64, validation_split=0.1, shuffle = True)"
      ],
      "metadata": {
        "colab": {
          "base_uri": "https://localhost:8080/"
        },
        "id": "LlpdvM0oGbur",
        "outputId": "c681c4f8-e544-4226-c747-a437ad3f675e"
      },
      "execution_count": null,
      "outputs": [
        {
          "output_type": "stream",
          "name": "stdout",
          "text": [
            "Epoch 1/20\n",
            "230/230 [==============================] - 5s 10ms/step - loss: 0.4080 - accuracy: 0.9461 - val_loss: 0.0364 - val_accuracy: 1.0000\n",
            "Epoch 2/20\n",
            "230/230 [==============================] - 1s 5ms/step - loss: 0.0088 - accuracy: 1.0000 - val_loss: 0.0024 - val_accuracy: 1.0000\n",
            "Epoch 3/20\n",
            "230/230 [==============================] - 1s 4ms/step - loss: 0.0013 - accuracy: 1.0000 - val_loss: 8.3299e-04 - val_accuracy: 1.0000\n",
            "Epoch 4/20\n",
            "230/230 [==============================] - 1s 5ms/step - loss: 5.6708e-04 - accuracy: 1.0000 - val_loss: 4.1957e-04 - val_accuracy: 1.0000\n",
            "Epoch 5/20\n",
            "230/230 [==============================] - 1s 5ms/step - loss: 3.0748e-04 - accuracy: 1.0000 - val_loss: 2.4467e-04 - val_accuracy: 1.0000\n",
            "Epoch 6/20\n",
            "230/230 [==============================] - 1s 5ms/step - loss: 1.8725e-04 - accuracy: 1.0000 - val_loss: 1.5500e-04 - val_accuracy: 1.0000\n",
            "Epoch 7/20\n",
            "230/230 [==============================] - 1s 4ms/step - loss: 1.2194e-04 - accuracy: 1.0000 - val_loss: 1.0347e-04 - val_accuracy: 1.0000\n",
            "Epoch 8/20\n",
            "230/230 [==============================] - 1s 4ms/step - loss: 8.2717e-05 - accuracy: 1.0000 - val_loss: 7.1251e-05 - val_accuracy: 1.0000\n",
            "Epoch 9/20\n",
            "230/230 [==============================] - 1s 4ms/step - loss: 5.7801e-05 - accuracy: 1.0000 - val_loss: 5.0317e-05 - val_accuracy: 1.0000\n",
            "Epoch 10/20\n",
            "230/230 [==============================] - 1s 4ms/step - loss: 4.1241e-05 - accuracy: 1.0000 - val_loss: 3.6206e-05 - val_accuracy: 1.0000\n",
            "Epoch 11/20\n",
            "230/230 [==============================] - 2s 7ms/step - loss: 2.9870e-05 - accuracy: 1.0000 - val_loss: 2.6373e-05 - val_accuracy: 1.0000\n",
            "Epoch 12/20\n",
            "230/230 [==============================] - 2s 7ms/step - loss: 2.1872e-05 - accuracy: 1.0000 - val_loss: 1.9413e-05 - val_accuracy: 1.0000\n",
            "Epoch 13/20\n",
            "230/230 [==============================] - 1s 6ms/step - loss: 1.6178e-05 - accuracy: 1.0000 - val_loss: 1.4391e-05 - val_accuracy: 1.0000\n",
            "Epoch 14/20\n",
            "230/230 [==============================] - 1s 4ms/step - loss: 1.2050e-05 - accuracy: 1.0000 - val_loss: 1.0753e-05 - val_accuracy: 1.0000\n",
            "Epoch 15/20\n",
            "230/230 [==============================] - 1s 4ms/step - loss: 9.0310e-06 - accuracy: 1.0000 - val_loss: 8.0786e-06 - val_accuracy: 1.0000\n",
            "Epoch 16/20\n",
            "230/230 [==============================] - 1s 4ms/step - loss: 6.7956e-06 - accuracy: 1.0000 - val_loss: 6.0835e-06 - val_accuracy: 1.0000\n",
            "Epoch 17/20\n",
            "230/230 [==============================] - 1s 4ms/step - loss: 5.1329e-06 - accuracy: 1.0000 - val_loss: 4.6011e-06 - val_accuracy: 1.0000\n",
            "Epoch 18/20\n",
            "230/230 [==============================] - 1s 5ms/step - loss: 3.8928e-06 - accuracy: 1.0000 - val_loss: 3.4929e-06 - val_accuracy: 1.0000\n",
            "Epoch 19/20\n",
            "230/230 [==============================] - 1s 5ms/step - loss: 2.9610e-06 - accuracy: 1.0000 - val_loss: 2.6557e-06 - val_accuracy: 1.0000\n",
            "Epoch 20/20\n",
            "230/230 [==============================] - 1s 5ms/step - loss: 2.2576e-06 - accuracy: 1.0000 - val_loss: 2.0276e-06 - val_accuracy: 1.0000\n"
          ]
        }
      ]
    },
    {
      "cell_type": "code",
      "source": [
        "# Model evaluation\n",
        "loss_lstm, accuracy_lstm = lstm_model.evaluate(X_test, y_test_encoded)\n",
        "print('Test loss:', loss_lstm, 'Test accuracy:', accuracy_lstm)"
      ],
      "metadata": {
        "colab": {
          "base_uri": "https://localhost:8080/"
        },
        "id": "Sm1u0Q4eGuy7",
        "outputId": "8cf4c3e6-931a-4675-f492-9be8104dd449"
      },
      "execution_count": null,
      "outputs": [
        {
          "output_type": "stream",
          "name": "stdout",
          "text": [
            "140/140 [==============================] - 0s 2ms/step - loss: 0.3116 - accuracy: 0.9544\n",
            "Test loss: 0.3115793466567993 Test accuracy: 0.9544439315795898\n"
          ]
        }
      ]
    },
    {
      "cell_type": "code",
      "source": [
        "# Evaluate the model\n",
        "y_pred_lstm = lstm_model.predict(X_test)\n",
        "\n",
        "# Convert one-hot encoded predictions to class labels\n",
        "y_pred_lstm = np.argmax(y_pred_lstm, axis=1)\n",
        "y_test = np.argmax(y_test_encoded, axis=1)\n",
        "\n",
        "# Calculate accuracy\n",
        "accuracy_lstm = accuracy_score(y_test, y_pred_lstm)\n",
        "print(\"Accuracy:  %.5f\" %accuracy_lstm)\n",
        "\n",
        "# Calculate precision\n",
        "precision_lstm = precision_score(y_test, y_pred_lstm, average='weighted')\n",
        "print(\"Precision:  %.5f\" % precision_lstm)\n",
        "\n",
        "# Calculate recall\n",
        "recall_lstm = recall_score(y_test, y_pred_lstm, average='weighted')\n",
        "print(\"Recall:  %.5f\" % recall_lstm)\n",
        "\n",
        "# Calculate F1 score\n",
        "f1_lstm = f1_score(y_test, y_pred_lstm, average='weighted')\n",
        "print(\"F1 Score:  %.5f\" %f1_lstm)\n",
        "\n",
        "# Generate classification report\n",
        "report_lstm = classification_report(y_test, y_pred_lstm)\n",
        "print(\"Classification Report:\")\n",
        "print(report_lstm)\n",
        "\n",
        "# Calculate confusion matrix\n",
        "conf_matrix_lstm = confusion_matrix(y_test, y_pred_lstm)"
      ],
      "metadata": {
        "colab": {
          "base_uri": "https://localhost:8080/"
        },
        "id": "a1WsA7OdHmQp",
        "outputId": "97159801-c8c8-4520-fab6-b8438340b96b"
      },
      "execution_count": null,
      "outputs": [
        {
          "output_type": "stream",
          "name": "stdout",
          "text": [
            "140/140 [==============================] - 1s 2ms/step\n",
            "Accuracy:  0.95444\n",
            "Precision:  0.95447\n",
            "Recall:  0.95444\n",
            "F1 Score:  0.95444\n",
            "Classification Report:\n",
            "              precision    recall  f1-score   support\n",
            "\n",
            "           0       0.96      0.95      0.95      2184\n",
            "           1       0.95      0.96      0.96      2294\n",
            "\n",
            "    accuracy                           0.95      4478\n",
            "   macro avg       0.95      0.95      0.95      4478\n",
            "weighted avg       0.95      0.95      0.95      4478\n",
            "\n"
          ]
        }
      ]
    },
    {
      "cell_type": "code",
      "source": [
        "plt.figure(figsize=(8, 6))\n",
        "sns.heatmap(conf_matrix_lstm, annot=True, fmt=\"d\", cmap=\"Blues\", cbar=False)\n",
        "plt.title(\"Confusion Matrix\")\n",
        "plt.xlabel(\"Predicted Labels\")\n",
        "plt.ylabel(\"True Labels\")\n",
        "plt.show()"
      ],
      "metadata": {
        "colab": {
          "base_uri": "https://localhost:8080/",
          "height": 564
        },
        "id": "Elz-8INhHnIs",
        "outputId": "31cbd7b8-7158-4e7c-c130-eb27a8f0d926"
      },
      "execution_count": null,
      "outputs": [
        {
          "output_type": "display_data",
          "data": {
            "text/plain": [
              "<Figure size 800x600 with 1 Axes>"
            ],
            "image/png": "[encoded data removed]"
          },
          "metadata": {}
        }
      ]
    },
    {
      "cell_type": "code",
      "source": [],
      "metadata": {
        "id": "cR1dKsipL-25"
      },
      "execution_count": null,
      "outputs": []
    }
  ]
}