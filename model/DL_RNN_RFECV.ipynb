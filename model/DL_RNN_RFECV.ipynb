{
  "nbformat": 4,
  "nbformat_minor": 0,
  "metadata": {
    "colab": {
      "provenance": [],
      "authorship_tag": "ABX9TyMMLSIiEAHtL+Bw3tkWz+Mo",
      "include_colab_link": true
    },
    "kernelspec": {
      "name": "python3",
      "display_name": "Python 3"
    },
    "language_info": {
      "name": "python"
    }
  },
  "cells": [
    {
      "cell_type": "markdown",
      "metadata": {
        "id": "view-in-github",
        "colab_type": "text"
      },
      "source": [
        "<a href=\"https://colab.research.google.com/github/Tahsin-Azad-Tias/Thesis/blob/main/model/DL_RNN_RFECV.ipynb\" target=\"_parent\"><img src=\"https://colab.research.google.com/assets/colab-badge.svg\" alt=\"Open In Colab\"/></a>"
      ]
    },
    {
      "cell_type": "code",
      "execution_count": null,
      "metadata": {
        "colab": {
          "base_uri": "https://localhost:8080/"
        },
        "id": "Inu4feES3gqh",
        "outputId": "05a567c4-59a0-4de6-ef76-c05c24ea6072"
      },
      "outputs": [
        {
          "output_type": "stream",
          "name": "stdout",
          "text": [
            "/usr/local/lib/python3.10/dist-packages/gdown/__main__.py:132: FutureWarning: Option `--id` was deprecated in version 4.3.1 and will be removed in 5.0. You don't need to pass it anymore to use a file ID.\n",
            "  warnings.warn(\n",
            "Downloading...\n",
            "From: https://drive.google.com/uc?id=1M9TX_sIGURVyGory7oHh5oO_gfjoWnx3\n",
            "To: /content/train_data_rfecv.csv\n",
            "100% 48.1M/48.1M [00:02<00:00, 22.9MB/s]\n",
            "/usr/local/lib/python3.10/dist-packages/gdown/__main__.py:132: FutureWarning: Option `--id` was deprecated in version 4.3.1 and will be removed in 5.0. You don't need to pass it anymore to use a file ID.\n",
            "  warnings.warn(\n",
            "Downloading...\n",
            "From: https://drive.google.com/uc?id=1-pUUsukgZizH-dJobClAlXeHwSyiR2cB\n",
            "To: /content/test_data_rfecv.csv\n",
            "100% 17.3M/17.3M [00:00<00:00, 19.9MB/s]\n"
          ]
        }
      ],
      "source": [
        "!gdown --id \"1M9TX_sIGURVyGory7oHh5oO_gfjoWnx3\"\n",
        "!gdown --id \"1-pUUsukgZizH-dJobClAlXeHwSyiR2cB\""
      ]
    },
    {
      "cell_type": "code",
      "source": [
        "import pandas as pd\n",
        "import numpy as np\n",
        "from tensorflow import keras\n",
        "import matplotlib.pyplot as plt\n",
        "import seaborn as sns\n",
        "from sklearn.metrics import precision_recall_fscore_support\n",
        "from sklearn.ensemble import RandomForestClassifier\n",
        "from sklearn.metrics import classification_report\n",
        "from sklearn.metrics import accuracy_score, precision_score, recall_score, f1_score, confusion_matrix, classification_report\n",
        "from xgboost import XGBClassifier\n",
        "from sklearn.tree import DecisionTreeClassifier\n",
        "from sklearn.svm import SVC\n",
        "import lightgbm as lgb\n",
        "from sklearn import metrics\n",
        "from sklearn.metrics import confusion_matrix\n",
        "\n",
        "from keras.models import Sequential, Model\n",
        "from keras.layers import LSTM, SimpleRNN, Dense, Dropout\n",
        "from keras.utils import to_categorical"
      ],
      "metadata": {
        "id": "MQM331hS3mAo"
      },
      "execution_count": null,
      "outputs": []
    },
    {
      "cell_type": "code",
      "source": [
        "train_df = pd.read_csv(\"/content/train_data_rfecv.csv\")\n",
        "test_df = pd.read_csv(\"/content/test_data_rfecv.csv\")"
      ],
      "metadata": {
        "id": "zxbSJUuO3l9N"
      },
      "execution_count": null,
      "outputs": []
    },
    {
      "cell_type": "code",
      "source": [
        "X_train = train_df.drop(['label1','label2'], axis =1)\n",
        "y_freq_train = train_df['label1'].astype(int)\n",
        "y_fault_train = train_df['label2'].astype(int)"
      ],
      "metadata": {
        "id": "-Kv6xDIz3l6r"
      },
      "execution_count": null,
      "outputs": []
    },
    {
      "cell_type": "code",
      "source": [
        "X_test = test_df.drop(['label1','label2'], axis =1)\n",
        "y_freq_test = test_df['label1'].astype(int)\n",
        "y_fault_test = test_df['label2'].astype(int)"
      ],
      "metadata": {
        "id": "6U-rURck3l30"
      },
      "execution_count": null,
      "outputs": []
    },
    {
      "cell_type": "code",
      "source": [
        "X_train"
      ],
      "metadata": {
        "colab": {
          "base_uri": "https://localhost:8080/",
          "height": 424
        },
        "id": "dW-mMLgH-EpX",
        "outputId": "5906bac1-8b63-4f93-c740-86a1dd3ee39e"
      },
      "execution_count": null,
      "outputs": [
        {
          "output_type": "execute_result",
          "data": {
            "text/plain": [
              "               0          1          2          4          5          6  \\\n",
              "0      42.131684  40.198692  23.295811  42.437660  40.618163  22.516047   \n",
              "1      41.149020  42.743316  19.823443  41.422845  43.053617  18.102406   \n",
              "2      41.854588  34.129095  31.378763  42.062527  35.059588  33.303153   \n",
              "3      43.472609  42.817066  20.935997  43.785358  43.162140  22.476721   \n",
              "4      42.247463  39.830320  32.858643  42.602896  40.315056  32.921425   \n",
              "...          ...        ...        ...        ...        ...        ...   \n",
              "15745  42.607721  38.071786  27.555174  42.856488  38.401378  28.385550   \n",
              "15746  41.939031  39.431528  31.742094  42.139471  39.735224  32.566624   \n",
              "15747  43.517337  43.391835  24.953416  43.841067  43.771983  25.769725   \n",
              "15748  42.489554  40.198161  32.727996  42.753112  40.678305  32.791951   \n",
              "15749  41.570809  28.921519  29.084380  40.229646  30.106975  32.312158   \n",
              "\n",
              "               8          9         10         12  ...        214        215  \\\n",
              "0      42.773624  41.110187  22.901312  42.769196  ...  40.405141  43.042069   \n",
              "1      41.683776  43.430899  16.896830  41.679114  ...  37.191340  42.664985   \n",
              "2      42.254823  36.022832  34.698240  42.096596  ...  25.697635  40.603158   \n",
              "3      44.093411  43.483245  23.509539  44.095669  ...  40.055603  39.500188   \n",
              "4      42.901737  40.917644  33.213103  42.956198  ...  39.930059  43.171794   \n",
              "...          ...        ...        ...        ...  ...        ...        ...   \n",
              "15745  43.011532  38.785837  29.528026  43.008774  ...  34.882848  37.201409   \n",
              "15746  42.294252  40.139324  33.238061  42.236316  ...  30.877344  39.243023   \n",
              "15747  44.129801  44.140853  26.093739  44.125175  ...  39.287306  40.583766   \n",
              "15748  43.080763  41.209993  33.332575  43.075146  ...  40.517660  43.589151   \n",
              "15749  42.135276  31.431948  33.972979  43.247988  ...  26.024790  40.395241   \n",
              "\n",
              "             216        217        218        219        220        221  \\\n",
              "0      36.369730  28.364376  39.615743  42.373942  35.977329  31.385686   \n",
              "1      36.213186  36.653671  36.377874  41.825076  35.951959  36.538728   \n",
              "2      44.246206  30.550164  29.007724  40.057353  44.083880  29.945770   \n",
              "3      39.807780  39.198818  39.120456  38.759232  39.535083  38.637622   \n",
              "4      33.734390  33.008035  39.363798  42.430480  33.569334  34.939712   \n",
              "...          ...        ...        ...        ...        ...        ...   \n",
              "15745  40.071490  37.720101  33.541961  36.311801  39.819528  37.674224   \n",
              "15746  40.011769  37.815055  28.901339  38.491291  39.634712  37.953458   \n",
              "15747  39.948809  38.160284  38.243417  39.881435  39.582650  37.814258   \n",
              "15748  34.863469  33.131683  39.755507  42.784276  34.719576  35.105691   \n",
              "15749  41.900622  35.396283  28.563153  40.088403  41.552034  33.503368   \n",
              "\n",
              "             222        223  \n",
              "0      38.843000  41.610540  \n",
              "1      35.797628  40.791213  \n",
              "2      30.997983  39.505920  \n",
              "3      38.177943  37.788244  \n",
              "4      38.695254  41.578602  \n",
              "...          ...        ...  \n",
              "15745  32.114949  35.313950  \n",
              "15746  26.926494  37.558711  \n",
              "15747  37.311726  38.910409  \n",
              "15748  39.103691  41.927853  \n",
              "15749  29.053897  39.638654  \n",
              "\n",
              "[15750 rows x 168 columns]"
            ],
            "text/html": [
              "\n",
              "  <div id=\"df-2defc6b7-be59-4b81-a1aa-b9ac814f2b34\" class=\"colab-df-container\">\n",
              "    <div>\n",
              "<style scoped>\n",
              "    .dataframe tbody tr th:only-of-type {\n",
              "        vertical-align: middle;\n",
              "    }\n",
              "\n",
              "    .dataframe tbody tr th {\n",
              "        vertical-align: top;\n",
              "    }\n",
              "\n",
              "    .dataframe thead th {\n",
              "        text-align: right;\n",
              "    }\n",
              "</style>\n",
              "<table border=\"1\" class=\"dataframe\">\n",
              "  <thead>\n",
              "    <tr style=\"text-align: right;\">\n",
              "      <th></th>\n",
              "      <th>0</th>\n",
              "      <th>1</th>\n",
              "      <th>2</th>\n",
              "      <th>4</th>\n",
              "      <th>5</th>\n",
              "      <th>6</th>\n",
              "      <th>8</th>\n",
              "      <th>9</th>\n",
              "      <th>10</th>\n",
              "      <th>12</th>\n",
              "      <th>...</th>\n",
              "      <th>214</th>\n",
              "      <th>215</th>\n",
              "      <th>216</th>\n",
              "      <th>217</th>\n",
              "      <th>218</th>\n",
              "      <th>219</th>\n",
              "      <th>220</th>\n",
              "      <th>221</th>\n",
              "      <th>222</th>\n",
              "      <th>223</th>\n",
              "    </tr>\n",
              "  </thead>\n",
              "  <tbody>\n",
              "    <tr>\n",
              "      <th>0</th>\n",
              "      <td>42.131684</td>\n",
              "      <td>40.198692</td>\n",
              "      <td>23.295811</td>\n",
              "      <td>42.437660</td>\n",
              "      <td>40.618163</td>\n",
              "      <td>22.516047</td>\n",
              "      <td>42.773624</td>\n",
              "      <td>41.110187</td>\n",
              "      <td>22.901312</td>\n",
              "      <td>42.769196</td>\n",
              "      <td>...</td>\n",
              "      <td>40.405141</td>\n",
              "      <td>43.042069</td>\n",
              "      <td>36.369730</td>\n",
              "      <td>28.364376</td>\n",
              "      <td>39.615743</td>\n",
              "      <td>42.373942</td>\n",
              "      <td>35.977329</td>\n",
              "      <td>31.385686</td>\n",
              "      <td>38.843000</td>\n",
              "      <td>41.610540</td>\n",
              "    </tr>\n",
              "    <tr>\n",
              "      <th>1</th>\n",
              "      <td>41.149020</td>\n",
              "      <td>42.743316</td>\n",
              "      <td>19.823443</td>\n",
              "      <td>41.422845</td>\n",
              "      <td>43.053617</td>\n",
              "      <td>18.102406</td>\n",
              "      <td>41.683776</td>\n",
              "      <td>43.430899</td>\n",
              "      <td>16.896830</td>\n",
              "      <td>41.679114</td>\n",
              "      <td>...</td>\n",
              "      <td>37.191340</td>\n",
              "      <td>42.664985</td>\n",
              "      <td>36.213186</td>\n",
              "      <td>36.653671</td>\n",
              "      <td>36.377874</td>\n",
              "      <td>41.825076</td>\n",
              "      <td>35.951959</td>\n",
              "      <td>36.538728</td>\n",
              "      <td>35.797628</td>\n",
              "      <td>40.791213</td>\n",
              "    </tr>\n",
              "    <tr>\n",
              "      <th>2</th>\n",
              "      <td>41.854588</td>\n",
              "      <td>34.129095</td>\n",
              "      <td>31.378763</td>\n",
              "      <td>42.062527</td>\n",
              "      <td>35.059588</td>\n",
              "      <td>33.303153</td>\n",
              "      <td>42.254823</td>\n",
              "      <td>36.022832</td>\n",
              "      <td>34.698240</td>\n",
              "      <td>42.096596</td>\n",
              "      <td>...</td>\n",
              "      <td>25.697635</td>\n",
              "      <td>40.603158</td>\n",
              "      <td>44.246206</td>\n",
              "      <td>30.550164</td>\n",
              "      <td>29.007724</td>\n",
              "      <td>40.057353</td>\n",
              "      <td>44.083880</td>\n",
              "      <td>29.945770</td>\n",
              "      <td>30.997983</td>\n",
              "      <td>39.505920</td>\n",
              "    </tr>\n",
              "    <tr>\n",
              "      <th>3</th>\n",
              "      <td>43.472609</td>\n",
              "      <td>42.817066</td>\n",
              "      <td>20.935997</td>\n",
              "      <td>43.785358</td>\n",
              "      <td>43.162140</td>\n",
              "      <td>22.476721</td>\n",
              "      <td>44.093411</td>\n",
              "      <td>43.483245</td>\n",
              "      <td>23.509539</td>\n",
              "      <td>44.095669</td>\n",
              "      <td>...</td>\n",
              "      <td>40.055603</td>\n",
              "      <td>39.500188</td>\n",
              "      <td>39.807780</td>\n",
              "      <td>39.198818</td>\n",
              "      <td>39.120456</td>\n",
              "      <td>38.759232</td>\n",
              "      <td>39.535083</td>\n",
              "      <td>38.637622</td>\n",
              "      <td>38.177943</td>\n",
              "      <td>37.788244</td>\n",
              "    </tr>\n",
              "    <tr>\n",
              "      <th>4</th>\n",
              "      <td>42.247463</td>\n",
              "      <td>39.830320</td>\n",
              "      <td>32.858643</td>\n",
              "      <td>42.602896</td>\n",
              "      <td>40.315056</td>\n",
              "      <td>32.921425</td>\n",
              "      <td>42.901737</td>\n",
              "      <td>40.917644</td>\n",
              "      <td>33.213103</td>\n",
              "      <td>42.956198</td>\n",
              "      <td>...</td>\n",
              "      <td>39.930059</td>\n",
              "      <td>43.171794</td>\n",
              "      <td>33.734390</td>\n",
              "      <td>33.008035</td>\n",
              "      <td>39.363798</td>\n",
              "      <td>42.430480</td>\n",
              "      <td>33.569334</td>\n",
              "      <td>34.939712</td>\n",
              "      <td>38.695254</td>\n",
              "      <td>41.578602</td>\n",
              "    </tr>\n",
              "    <tr>\n",
              "      <th>...</th>\n",
              "      <td>...</td>\n",
              "      <td>...</td>\n",
              "      <td>...</td>\n",
              "      <td>...</td>\n",
              "      <td>...</td>\n",
              "      <td>...</td>\n",
              "      <td>...</td>\n",
              "      <td>...</td>\n",
              "      <td>...</td>\n",
              "      <td>...</td>\n",
              "      <td>...</td>\n",
              "      <td>...</td>\n",
              "      <td>...</td>\n",
              "      <td>...</td>\n",
              "      <td>...</td>\n",
              "      <td>...</td>\n",
              "      <td>...</td>\n",
              "      <td>...</td>\n",
              "      <td>...</td>\n",
              "      <td>...</td>\n",
              "      <td>...</td>\n",
              "    </tr>\n",
              "    <tr>\n",
              "      <th>15745</th>\n",
              "      <td>42.607721</td>\n",
              "      <td>38.071786</td>\n",
              "      <td>27.555174</td>\n",
              "      <td>42.856488</td>\n",
              "      <td>38.401378</td>\n",
              "      <td>28.385550</td>\n",
              "      <td>43.011532</td>\n",
              "      <td>38.785837</td>\n",
              "      <td>29.528026</td>\n",
              "      <td>43.008774</td>\n",
              "      <td>...</td>\n",
              "      <td>34.882848</td>\n",
              "      <td>37.201409</td>\n",
              "      <td>40.071490</td>\n",
              "      <td>37.720101</td>\n",
              "      <td>33.541961</td>\n",
              "      <td>36.311801</td>\n",
              "      <td>39.819528</td>\n",
              "      <td>37.674224</td>\n",
              "      <td>32.114949</td>\n",
              "      <td>35.313950</td>\n",
              "    </tr>\n",
              "    <tr>\n",
              "      <th>15746</th>\n",
              "      <td>41.939031</td>\n",
              "      <td>39.431528</td>\n",
              "      <td>31.742094</td>\n",
              "      <td>42.139471</td>\n",
              "      <td>39.735224</td>\n",
              "      <td>32.566624</td>\n",
              "      <td>42.294252</td>\n",
              "      <td>40.139324</td>\n",
              "      <td>33.238061</td>\n",
              "      <td>42.236316</td>\n",
              "      <td>...</td>\n",
              "      <td>30.877344</td>\n",
              "      <td>39.243023</td>\n",
              "      <td>40.011769</td>\n",
              "      <td>37.815055</td>\n",
              "      <td>28.901339</td>\n",
              "      <td>38.491291</td>\n",
              "      <td>39.634712</td>\n",
              "      <td>37.953458</td>\n",
              "      <td>26.926494</td>\n",
              "      <td>37.558711</td>\n",
              "    </tr>\n",
              "    <tr>\n",
              "      <th>15747</th>\n",
              "      <td>43.517337</td>\n",
              "      <td>43.391835</td>\n",
              "      <td>24.953416</td>\n",
              "      <td>43.841067</td>\n",
              "      <td>43.771983</td>\n",
              "      <td>25.769725</td>\n",
              "      <td>44.129801</td>\n",
              "      <td>44.140853</td>\n",
              "      <td>26.093739</td>\n",
              "      <td>44.125175</td>\n",
              "      <td>...</td>\n",
              "      <td>39.287306</td>\n",
              "      <td>40.583766</td>\n",
              "      <td>39.948809</td>\n",
              "      <td>38.160284</td>\n",
              "      <td>38.243417</td>\n",
              "      <td>39.881435</td>\n",
              "      <td>39.582650</td>\n",
              "      <td>37.814258</td>\n",
              "      <td>37.311726</td>\n",
              "      <td>38.910409</td>\n",
              "    </tr>\n",
              "    <tr>\n",
              "      <th>15748</th>\n",
              "      <td>42.489554</td>\n",
              "      <td>40.198161</td>\n",
              "      <td>32.727996</td>\n",
              "      <td>42.753112</td>\n",
              "      <td>40.678305</td>\n",
              "      <td>32.791951</td>\n",
              "      <td>43.080763</td>\n",
              "      <td>41.209993</td>\n",
              "      <td>33.332575</td>\n",
              "      <td>43.075146</td>\n",
              "      <td>...</td>\n",
              "      <td>40.517660</td>\n",
              "      <td>43.589151</td>\n",
              "      <td>34.863469</td>\n",
              "      <td>33.131683</td>\n",
              "      <td>39.755507</td>\n",
              "      <td>42.784276</td>\n",
              "      <td>34.719576</td>\n",
              "      <td>35.105691</td>\n",
              "      <td>39.103691</td>\n",
              "      <td>41.927853</td>\n",
              "    </tr>\n",
              "    <tr>\n",
              "      <th>15749</th>\n",
              "      <td>41.570809</td>\n",
              "      <td>28.921519</td>\n",
              "      <td>29.084380</td>\n",
              "      <td>40.229646</td>\n",
              "      <td>30.106975</td>\n",
              "      <td>32.312158</td>\n",
              "      <td>42.135276</td>\n",
              "      <td>31.431948</td>\n",
              "      <td>33.972979</td>\n",
              "      <td>43.247988</td>\n",
              "      <td>...</td>\n",
              "      <td>26.024790</td>\n",
              "      <td>40.395241</td>\n",
              "      <td>41.900622</td>\n",
              "      <td>35.396283</td>\n",
              "      <td>28.563153</td>\n",
              "      <td>40.088403</td>\n",
              "      <td>41.552034</td>\n",
              "      <td>33.503368</td>\n",
              "      <td>29.053897</td>\n",
              "      <td>39.638654</td>\n",
              "    </tr>\n",
              "  </tbody>\n",
              "</table>\n",
              "<p>15750 rows × 168 columns</p>\n",
              "</div>\n",
              "    <div class=\"colab-df-buttons\">\n",
              "\n",
              "  <div class=\"colab-df-container\">\n",
              "    <button class=\"colab-df-convert\" onclick=\"convertToInteractive('df-2defc6b7-be59-4b81-a1aa-b9ac814f2b34')\"\n",
              "            title=\"Convert this dataframe to an interactive table.\"\n",
              "            style=\"display:none;\">\n",
              "\n",
              "  <svg xmlns=\"http://www.w3.org/2000/svg\" height=\"24px\" viewBox=\"0 -960 960 960\">\n",
              "    <path d=\"M120-120v-720h720v720H120Zm60-500h600v-160H180v160Zm220 220h160v-160H400v160Zm0 220h160v-160H400v160ZM180-400h160v-160H180v160Zm440 0h160v-160H620v160ZM180-180h160v-160H180v160Zm440 0h160v-160H620v160Z\"/>\n",
              "  </svg>\n",
              "    </button>\n",
              "\n",
              "  <style>\n",
              "    .colab-df-container {\n",
              "      display:flex;\n",
              "      gap: 12px;\n",
              "    }\n",
              "\n",
              "    .colab-df-convert {\n",
              "      background-color: #E8F0FE;\n",
              "      border: none;\n",
              "      border-radius: 50%;\n",
              "      cursor: pointer;\n",
              "      display: none;\n",
              "      fill: #1967D2;\n",
              "      height: 32px;\n",
              "      padding: 0 0 0 0;\n",
              "      width: 32px;\n",
              "    }\n",
              "\n",
              "    .colab-df-convert:hover {\n",
              "      background-color: #E2EBFA;\n",
              "      box-shadow: 0px 1px 2px rgba(60, 64, 67, 0.3), 0px 1px 3px 1px rgba(60, 64, 67, 0.15);\n",
              "      fill: #174EA6;\n",
              "    }\n",
              "\n",
              "    .colab-df-buttons div {\n",
              "      margin-bottom: 4px;\n",
              "    }\n",
              "\n",
              "    [theme=dark] .colab-df-convert {\n",
              "      background-color: #3B4455;\n",
              "      fill: #D2E3FC;\n",
              "    }\n",
              "\n",
              "    [theme=dark] .colab-df-convert:hover {\n",
              "      background-color: #434B5C;\n",
              "      box-shadow: 0px 1px 3px 1px rgba(0, 0, 0, 0.15);\n",
              "      filter: drop-shadow(0px 1px 2px rgba(0, 0, 0, 0.3));\n",
              "      fill: #FFFFFF;\n",
              "    }\n",
              "  </style>\n",
              "\n",
              "    <script>\n",
              "      const buttonEl =\n",
              "        document.querySelector('#df-2defc6b7-be59-4b81-a1aa-b9ac814f2b34 button.colab-df-convert');\n",
              "      buttonEl.style.display =\n",
              "        google.colab.kernel.accessAllowed ? 'block' : 'none';\n",
              "\n",
              "      async function convertToInteractive(key) {\n",
              "        const element = document.querySelector('#df-2defc6b7-be59-4b81-a1aa-b9ac814f2b34');\n",
              "        const dataTable =\n",
              "          await google.colab.kernel.invokeFunction('convertToInteractive',\n",
              "                                                    [key], {});\n",
              "        if (!dataTable) return;\n",
              "\n",
              "        const docLinkHtml = 'Like what you see? Visit the ' +\n",
              "          '<a target=\"_blank\" href=https://colab.research.google.com/notebooks/data_table.ipynb>data table notebook</a>'\n",
              "          + ' to learn more about interactive tables.';\n",
              "        element.innerHTML = '';\n",
              "        dataTable['output_type'] = 'display_data';\n",
              "        await google.colab.output.renderOutput(dataTable, element);\n",
              "        const docLink = document.createElement('div');\n",
              "        docLink.innerHTML = docLinkHtml;\n",
              "        element.appendChild(docLink);\n",
              "      }\n",
              "    </script>\n",
              "  </div>\n",
              "\n",
              "\n",
              "<div id=\"df-86972b2c-858e-4f9d-8f47-2c50167f0c1f\">\n",
              "  <button class=\"colab-df-quickchart\" onclick=\"quickchart('df-86972b2c-858e-4f9d-8f47-2c50167f0c1f')\"\n",
              "            title=\"Suggest charts\"\n",
              "            style=\"display:none;\">\n",
              "\n",
              "<svg xmlns=\"http://www.w3.org/2000/svg\" height=\"24px\"viewBox=\"0 0 24 24\"\n",
              "     width=\"24px\">\n",
              "    <g>\n",
              "        <path d=\"M19 3H5c-1.1 0-2 .9-2 2v14c0 1.1.9 2 2 2h14c1.1 0 2-.9 2-2V5c0-1.1-.9-2-2-2zM9 17H7v-7h2v7zm4 0h-2V7h2v10zm4 0h-2v-4h2v4z\"/>\n",
              "    </g>\n",
              "</svg>\n",
              "  </button>\n",
              "\n",
              "<style>\n",
              "  .colab-df-quickchart {\n",
              "      --bg-color: #E8F0FE;\n",
              "      --fill-color: #1967D2;\n",
              "      --hover-bg-color: #E2EBFA;\n",
              "      --hover-fill-color: #174EA6;\n",
              "      --disabled-fill-color: #AAA;\n",
              "      --disabled-bg-color: #DDD;\n",
              "  }\n",
              "\n",
              "  [theme=dark] .colab-df-quickchart {\n",
              "      --bg-color: #3B4455;\n",
              "      --fill-color: #D2E3FC;\n",
              "      --hover-bg-color: #434B5C;\n",
              "      --hover-fill-color: #FFFFFF;\n",
              "      --disabled-bg-color: #3B4455;\n",
              "      --disabled-fill-color: #666;\n",
              "  }\n",
              "\n",
              "  .colab-df-quickchart {\n",
              "    background-color: var(--bg-color);\n",
              "    border: none;\n",
              "    border-radius: 50%;\n",
              "    cursor: pointer;\n",
              "    display: none;\n",
              "    fill: var(--fill-color);\n",
              "    height: 32px;\n",
              "    padding: 0;\n",
              "    width: 32px;\n",
              "  }\n",
              "\n",
              "  .colab-df-quickchart:hover {\n",
              "    background-color: var(--hover-bg-color);\n",
              "    box-shadow: 0 1px 2px rgba(60, 64, 67, 0.3), 0 1px 3px 1px rgba(60, 64, 67, 0.15);\n",
              "    fill: var(--button-hover-fill-color);\n",
              "  }\n",
              "\n",
              "  .colab-df-quickchart-complete:disabled,\n",
              "  .colab-df-quickchart-complete:disabled:hover {\n",
              "    background-color: var(--disabled-bg-color);\n",
              "    fill: var(--disabled-fill-color);\n",
              "    box-shadow: none;\n",
              "  }\n",
              "\n",
              "  .colab-df-spinner {\n",
              "    border: 2px solid var(--fill-color);\n",
              "    border-color: transparent;\n",
              "    border-bottom-color: var(--fill-color);\n",
              "    animation:\n",
              "      spin 1s steps(1) infinite;\n",
              "  }\n",
              "\n",
              "  @keyframes spin {\n",
              "    0% {\n",
              "      border-color: transparent;\n",
              "      border-bottom-color: var(--fill-color);\n",
              "      border-left-color: var(--fill-color);\n",
              "    }\n",
              "    20% {\n",
              "      border-color: transparent;\n",
              "      border-left-color: var(--fill-color);\n",
              "      border-top-color: var(--fill-color);\n",
              "    }\n",
              "    30% {\n",
              "      border-color: transparent;\n",
              "      border-left-color: var(--fill-color);\n",
              "      border-top-color: var(--fill-color);\n",
              "      border-right-color: var(--fill-color);\n",
              "    }\n",
              "    40% {\n",
              "      border-color: transparent;\n",
              "      border-right-color: var(--fill-color);\n",
              "      border-top-color: var(--fill-color);\n",
              "    }\n",
              "    60% {\n",
              "      border-color: transparent;\n",
              "      border-right-color: var(--fill-color);\n",
              "    }\n",
              "    80% {\n",
              "      border-color: transparent;\n",
              "      border-right-color: var(--fill-color);\n",
              "      border-bottom-color: var(--fill-color);\n",
              "    }\n",
              "    90% {\n",
              "      border-color: transparent;\n",
              "      border-bottom-color: var(--fill-color);\n",
              "    }\n",
              "  }\n",
              "</style>\n",
              "\n",
              "  <script>\n",
              "    async function quickchart(key) {\n",
              "      const quickchartButtonEl =\n",
              "        document.querySelector('#' + key + ' button');\n",
              "      quickchartButtonEl.disabled = true;  // To prevent multiple clicks.\n",
              "      quickchartButtonEl.classList.add('colab-df-spinner');\n",
              "      try {\n",
              "        const charts = await google.colab.kernel.invokeFunction(\n",
              "            'suggestCharts', [key], {});\n",
              "      } catch (error) {\n",
              "        console.error('Error during call to suggestCharts:', error);\n",
              "      }\n",
              "      quickchartButtonEl.classList.remove('colab-df-spinner');\n",
              "      quickchartButtonEl.classList.add('colab-df-quickchart-complete');\n",
              "    }\n",
              "    (() => {\n",
              "      let quickchartButtonEl =\n",
              "        document.querySelector('#df-86972b2c-858e-4f9d-8f47-2c50167f0c1f button');\n",
              "      quickchartButtonEl.style.display =\n",
              "        google.colab.kernel.accessAllowed ? 'block' : 'none';\n",
              "    })();\n",
              "  </script>\n",
              "</div>\n",
              "\n",
              "  <div id=\"id_102c47f6-34ee-4ba4-9f74-393e7e18d2a8\">\n",
              "    <style>\n",
              "      .colab-df-generate {\n",
              "        background-color: #E8F0FE;\n",
              "        border: none;\n",
              "        border-radius: 50%;\n",
              "        cursor: pointer;\n",
              "        display: none;\n",
              "        fill: #1967D2;\n",
              "        height: 32px;\n",
              "        padding: 0 0 0 0;\n",
              "        width: 32px;\n",
              "      }\n",
              "\n",
              "      .colab-df-generate:hover {\n",
              "        background-color: #E2EBFA;\n",
              "        box-shadow: 0px 1px 2px rgba(60, 64, 67, 0.3), 0px 1px 3px 1px rgba(60, 64, 67, 0.15);\n",
              "        fill: #174EA6;\n",
              "      }\n",
              "\n",
              "      [theme=dark] .colab-df-generate {\n",
              "        background-color: #3B4455;\n",
              "        fill: #D2E3FC;\n",
              "      }\n",
              "\n",
              "      [theme=dark] .colab-df-generate:hover {\n",
              "        background-color: #434B5C;\n",
              "        box-shadow: 0px 1px 3px 1px rgba(0, 0, 0, 0.15);\n",
              "        filter: drop-shadow(0px 1px 2px rgba(0, 0, 0, 0.3));\n",
              "        fill: #FFFFFF;\n",
              "      }\n",
              "    </style>\n",
              "    <button class=\"colab-df-generate\" onclick=\"generateWithVariable('X_train')\"\n",
              "            title=\"Generate code using this dataframe.\"\n",
              "            style=\"display:none;\">\n",
              "\n",
              "  <svg xmlns=\"http://www.w3.org/2000/svg\" height=\"24px\"viewBox=\"0 0 24 24\"\n",
              "       width=\"24px\">\n",
              "    <path d=\"M7,19H8.4L18.45,9,17,7.55,7,17.6ZM5,21V16.75L18.45,3.32a2,2,0,0,1,2.83,0l1.4,1.43a1.91,1.91,0,0,1,.58,1.4,1.91,1.91,0,0,1-.58,1.4L9.25,21ZM18.45,9,17,7.55Zm-12,3A5.31,5.31,0,0,0,4.9,8.1,5.31,5.31,0,0,0,1,6.5,5.31,5.31,0,0,0,4.9,4.9,5.31,5.31,0,0,0,6.5,1,5.31,5.31,0,0,0,8.1,4.9,5.31,5.31,0,0,0,12,6.5,5.46,5.46,0,0,0,6.5,12Z\"/>\n",
              "  </svg>\n",
              "    </button>\n",
              "    <script>\n",
              "      (() => {\n",
              "      const buttonEl =\n",
              "        document.querySelector('#id_102c47f6-34ee-4ba4-9f74-393e7e18d2a8 button.colab-df-generate');\n",
              "      buttonEl.style.display =\n",
              "        google.colab.kernel.accessAllowed ? 'block' : 'none';\n",
              "\n",
              "      buttonEl.onclick = () => {\n",
              "        google.colab.notebook.generateWithVariable('X_train');\n",
              "      }\n",
              "      })();\n",
              "    </script>\n",
              "  </div>\n",
              "\n",
              "    </div>\n",
              "  </div>\n"
            ],
            "application/vnd.google.colaboratory.intrinsic+json": {
              "type": "dataframe",
              "variable_name": "X_train"
            }
          },
          "metadata": {},
          "execution_count": 28
        }
      ]
    },
    {
      "cell_type": "code",
      "source": [
        "# Reshape the input data to be 3D for RNN\n",
        "# The input shape for RNN should be (batch_size, timesteps, features)\n",
        "X_train = X_train.values\n",
        "X_test = X_test.values\n",
        "\n",
        "features = X_train.shape[1]\n",
        "timesteps = 1\n",
        "X_train = X_train.reshape(X_train.shape[0], timesteps, features)\n",
        "X_test = X_test.reshape(X_test.shape[0], timesteps, features)"
      ],
      "metadata": {
        "id": "K7sNv7MA-mBd"
      },
      "execution_count": null,
      "outputs": []
    },
    {
      "cell_type": "code",
      "source": [
        "X_train.shape, X_test.shape"
      ],
      "metadata": {
        "colab": {
          "base_uri": "https://localhost:8080/"
        },
        "id": "sHP6jCksPc2J",
        "outputId": "c3d8e374-dc00-4df7-ebf9-5ddede421029"
      },
      "execution_count": null,
      "outputs": [
        {
          "output_type": "execute_result",
          "data": {
            "text/plain": [
              "((15750, 1, 168), (5670, 1, 168))"
            ]
          },
          "metadata": {},
          "execution_count": 30
        }
      ]
    },
    {
      "cell_type": "code",
      "source": [],
      "metadata": {
        "id": "DAZglnSsPiKr"
      },
      "execution_count": null,
      "outputs": []
    },
    {
      "cell_type": "code",
      "source": [
        "rnn_model = Sequential()\n",
        "\n",
        "rnn_model.add(SimpleRNN(64, activation='relu', input_shape=(timesteps, features),return_sequences=True))\n",
        "\n",
        "#rnn_model.add(SimpleRNN(32, activation='relu'))\n",
        "\n",
        "rnn_model.add(SimpleRNN(21, activation='softmax'))\n",
        "\n",
        "rnn_model.summary()"
      ],
      "metadata": {
        "colab": {
          "base_uri": "https://localhost:8080/"
        },
        "id": "jo8vlfS8BE43",
        "outputId": "0ab175fd-76b2-43e8-837a-68e64b6aa868"
      },
      "execution_count": null,
      "outputs": [
        {
          "output_type": "stream",
          "name": "stdout",
          "text": [
            "Model: \"sequential_4\"\n",
            "_________________________________________________________________\n",
            " Layer (type)                Output Shape              Param #   \n",
            "=================================================================\n",
            " simple_rnn_9 (SimpleRNN)    (None, 1, 64)             14912     \n",
            "                                                                 \n",
            " simple_rnn_10 (SimpleRNN)   (None, 21)                1806      \n",
            "                                                                 \n",
            "=================================================================\n",
            "Total params: 16718 (65.30 KB)\n",
            "Trainable params: 16718 (65.30 KB)\n",
            "Non-trainable params: 0 (0.00 Byte)\n",
            "_________________________________________________________________\n"
          ]
        }
      ]
    },
    {
      "cell_type": "code",
      "source": [
        "from tensorflow.keras.utils import to_categorical\n",
        "\n",
        "y_train_encoded = to_categorical(y_freq_train)\n",
        "y_test_encoded = to_categorical(y_freq_test)\n",
        "y_train_encoded.shape"
      ],
      "metadata": {
        "colab": {
          "base_uri": "https://localhost:8080/"
        },
        "id": "a6L0gVHCC6YL",
        "outputId": "48f780f8-6628-4042-b14b-35f7b217a965"
      },
      "execution_count": null,
      "outputs": [
        {
          "output_type": "execute_result",
          "data": {
            "text/plain": [
              "(15750, 21)"
            ]
          },
          "metadata": {},
          "execution_count": 34
        }
      ]
    },
    {
      "cell_type": "code",
      "source": [
        "opt = keras.optimizers.Adamax(learning_rate=0.001)\n",
        "rnn_model.compile(optimizer=opt, loss='categorical_crossentropy', metrics=['accuracy'])"
      ],
      "metadata": {
        "id": "Tg9-DvvtB3Mc"
      },
      "execution_count": null,
      "outputs": []
    },
    {
      "cell_type": "code",
      "source": [
        "rnn_history = rnn_model.fit(X_train, y_train_encoded, epochs=20, batch_size=64, validation_split=0.1, shuffle = True)"
      ],
      "metadata": {
        "colab": {
          "base_uri": "https://localhost:8080/"
        },
        "id": "UbEUPfhiB6rq",
        "outputId": "f1823da8-2c61-40c6-9b26-af2dbe17a57c"
      },
      "execution_count": null,
      "outputs": [
        {
          "output_type": "stream",
          "name": "stdout",
          "text": [
            "Epoch 1/20\n",
            "222/222 [==============================] - 3s 5ms/step - loss: 15.3585 - accuracy: 0.0471 - val_loss: 15.3608 - val_accuracy: 0.0470\n",
            "Epoch 2/20\n",
            "222/222 [==============================] - 1s 4ms/step - loss: 15.3585 - accuracy: 0.0471 - val_loss: 15.3608 - val_accuracy: 0.0470\n",
            "Epoch 3/20\n",
            "222/222 [==============================] - 1s 4ms/step - loss: 15.3585 - accuracy: 0.0471 - val_loss: 15.3608 - val_accuracy: 0.0470\n",
            "Epoch 4/20\n",
            "222/222 [==============================] - 1s 4ms/step - loss: 15.3585 - accuracy: 0.0471 - val_loss: 15.3608 - val_accuracy: 0.0470\n",
            "Epoch 5/20\n",
            "222/222 [==============================] - 1s 4ms/step - loss: 15.3585 - accuracy: 0.0471 - val_loss: 15.3608 - val_accuracy: 0.0470\n",
            "Epoch 6/20\n",
            "222/222 [==============================] - 1s 6ms/step - loss: 15.3585 - accuracy: 0.0471 - val_loss: 15.3608 - val_accuracy: 0.0470\n",
            "Epoch 7/20\n",
            "222/222 [==============================] - 1s 6ms/step - loss: 15.3585 - accuracy: 0.0471 - val_loss: 15.3608 - val_accuracy: 0.0470\n",
            "Epoch 8/20\n",
            "222/222 [==============================] - 1s 6ms/step - loss: 15.3585 - accuracy: 0.0471 - val_loss: 15.3608 - val_accuracy: 0.0470\n",
            "Epoch 9/20\n",
            "222/222 [==============================] - 1s 4ms/step - loss: 15.3585 - accuracy: 0.0471 - val_loss: 15.3608 - val_accuracy: 0.0470\n",
            "Epoch 10/20\n",
            "222/222 [==============================] - 1s 4ms/step - loss: 15.3585 - accuracy: 0.0471 - val_loss: 15.3608 - val_accuracy: 0.0470\n",
            "Epoch 11/20\n",
            "222/222 [==============================] - 1s 4ms/step - loss: 15.3585 - accuracy: 0.0471 - val_loss: 15.3608 - val_accuracy: 0.0470\n",
            "Epoch 12/20\n",
            "222/222 [==============================] - 1s 4ms/step - loss: 15.3585 - accuracy: 0.0471 - val_loss: 15.3608 - val_accuracy: 0.0470\n",
            "Epoch 13/20\n",
            "222/222 [==============================] - 1s 4ms/step - loss: 15.3585 - accuracy: 0.0471 - val_loss: 15.3608 - val_accuracy: 0.0470\n",
            "Epoch 14/20\n",
            "222/222 [==============================] - 1s 4ms/step - loss: 15.3585 - accuracy: 0.0471 - val_loss: 15.3608 - val_accuracy: 0.0470\n",
            "Epoch 15/20\n",
            "222/222 [==============================] - 1s 4ms/step - loss: 15.3585 - accuracy: 0.0471 - val_loss: 15.3608 - val_accuracy: 0.0470\n",
            "Epoch 16/20\n",
            "222/222 [==============================] - 1s 4ms/step - loss: 15.3585 - accuracy: 0.0471 - val_loss: 15.3608 - val_accuracy: 0.0470\n",
            "Epoch 17/20\n",
            "222/222 [==============================] - 1s 4ms/step - loss: 15.3585 - accuracy: 0.0471 - val_loss: 15.3608 - val_accuracy: 0.0470\n",
            "Epoch 18/20\n",
            "222/222 [==============================] - 1s 4ms/step - loss: 15.3585 - accuracy: 0.0471 - val_loss: 15.3608 - val_accuracy: 0.0470\n",
            "Epoch 19/20\n",
            "222/222 [==============================] - 1s 4ms/step - loss: 15.3585 - accuracy: 0.0471 - val_loss: 15.3608 - val_accuracy: 0.0470\n",
            "Epoch 20/20\n",
            "222/222 [==============================] - 1s 6ms/step - loss: 15.3585 - accuracy: 0.0471 - val_loss: 15.3608 - val_accuracy: 0.0470\n"
          ]
        }
      ]
    },
    {
      "cell_type": "code",
      "source": [
        "# Model evaluation\n",
        "loss_rnn, accuracy_rnn = rnn_model.evaluate(X_test, y_test_encoded)\n",
        "print('Test loss:', loss_rnn, 'Test accuracy:', accuracy_rnn)"
      ],
      "metadata": {
        "colab": {
          "base_uri": "https://localhost:8080/"
        },
        "id": "y7ECs9veCSrr",
        "outputId": "8ebbe051-d8fd-4a11-9009-f243dd0739ba"
      },
      "execution_count": null,
      "outputs": [
        {
          "output_type": "stream",
          "name": "stdout",
          "text": [
            "178/178 [==============================] - 1s 4ms/step - loss: 15.3278 - accuracy: 0.0490\n",
            "Test loss: 15.327824592590332 Test accuracy: 0.04902998358011246\n"
          ]
        }
      ]
    },
    {
      "cell_type": "code",
      "source": [
        "# Evaluate the model\n",
        "y_pred_rnn = rnn_model.predict(X_test)\n",
        "\n",
        "# Convert one-hot encoded predictions to class labels\n",
        "y_pred_lstm = np.argmax(y_pred_rnn, axis=1)\n",
        "y_test = np.argmax(y_test_encoded, axis=1)\n",
        "\n",
        "# Calculate accuracy\n",
        "accuracy_lstm = accuracy_score(y_test, y_pred_lstm)\n",
        "print(\"Accuracy:  %.5f\" %accuracy_rnn)\n",
        "\n",
        "# Calculate precision\n",
        "precision_rnn= precision_score(y_test, y_pred_lstm, average='weighted')\n",
        "print(\"Precision:  %.5f\" % precision_rnn)\n",
        "\n",
        "# Calculate recall\n",
        "recall_rnn = recall_score(y_test, y_pred_lstm, average='weighted')\n",
        "print(\"Recall:  %.5f\" % recall_rnn)\n",
        "\n",
        "# Calculate F1 score\n",
        "f1_rnn = f1_score(y_test, y_pred_lstm, average='weighted')\n",
        "print(\"F1 Score:  %.5f\" %f1_rnn)\n",
        "\n",
        "# Generate classification report\n",
        "report_rnn = classification_report(y_test, y_pred_lstm)\n",
        "print(\"Classification Report:\")\n",
        "print(report_rnn)\n",
        "\n",
        "# Calculate confusion matrix\n",
        "conf_matrix_rnn = confusion_matrix(y_test, y_pred_lstm)"
      ],
      "metadata": {
        "colab": {
          "base_uri": "https://localhost:8080/"
        },
        "id": "H_ro_3gyDm8d",
        "outputId": "0ee79890-3da7-485c-c0b0-362ebb6e2ffc"
      },
      "execution_count": null,
      "outputs": [
        {
          "output_type": "stream",
          "name": "stdout",
          "text": [
            "178/178 [==============================] - 1s 2ms/step\n",
            "Accuracy:  0.04903\n",
            "Precision:  0.00240\n",
            "Recall:  0.04903\n",
            "F1 Score:  0.00458\n",
            "Classification Report:\n",
            "              precision    recall  f1-score   support\n",
            "\n",
            "           0       0.00      0.00      0.00       245\n",
            "           1       0.00      0.00      0.00       251\n",
            "           2       0.00      0.00      0.00       298\n",
            "           3       0.00      0.00      0.00       276\n",
            "           4       0.00      0.00      0.00       277\n",
            "           5       0.00      0.00      0.00       271\n",
            "           6       0.00      0.00      0.00       284\n",
            "           7       0.05      1.00      0.09       278\n",
            "           8       0.00      0.00      0.00       286\n",
            "           9       0.00      0.00      0.00       281\n",
            "          10       0.00      0.00      0.00       260\n",
            "          11       0.00      0.00      0.00       253\n",
            "          12       0.00      0.00      0.00       262\n",
            "          13       0.00      0.00      0.00       271\n",
            "          14       0.00      0.00      0.00       283\n",
            "          15       0.00      0.00      0.00       275\n",
            "          16       0.00      0.00      0.00       277\n",
            "          17       0.00      0.00      0.00       274\n",
            "          18       0.00      0.00      0.00       242\n",
            "          19       0.00      0.00      0.00       253\n",
            "          20       0.00      0.00      0.00       273\n",
            "\n",
            "    accuracy                           0.05      5670\n",
            "   macro avg       0.00      0.05      0.00      5670\n",
            "weighted avg       0.00      0.05      0.00      5670\n",
            "\n"
          ]
        },
        {
          "output_type": "stream",
          "name": "stderr",
          "text": [
            "/usr/local/lib/python3.10/dist-packages/sklearn/metrics/_classification.py:1344: UndefinedMetricWarning: Precision is ill-defined and being set to 0.0 in labels with no predicted samples. Use `zero_division` parameter to control this behavior.\n",
            "  _warn_prf(average, modifier, msg_start, len(result))\n",
            "/usr/local/lib/python3.10/dist-packages/sklearn/metrics/_classification.py:1344: UndefinedMetricWarning: Precision and F-score are ill-defined and being set to 0.0 in labels with no predicted samples. Use `zero_division` parameter to control this behavior.\n",
            "  _warn_prf(average, modifier, msg_start, len(result))\n",
            "/usr/local/lib/python3.10/dist-packages/sklearn/metrics/_classification.py:1344: UndefinedMetricWarning: Precision and F-score are ill-defined and being set to 0.0 in labels with no predicted samples. Use `zero_division` parameter to control this behavior.\n",
            "  _warn_prf(average, modifier, msg_start, len(result))\n",
            "/usr/local/lib/python3.10/dist-packages/sklearn/metrics/_classification.py:1344: UndefinedMetricWarning: Precision and F-score are ill-defined and being set to 0.0 in labels with no predicted samples. Use `zero_division` parameter to control this behavior.\n",
            "  _warn_prf(average, modifier, msg_start, len(result))\n"
          ]
        }
      ]
    },
    {
      "cell_type": "code",
      "source": [
        "# Plot training & validation accuracy values\n",
        "plt.plot(rnn_history.history['accuracy'])\n",
        "plt.plot(rnn_history.history['val_accuracy'])\n",
        "plt.title('Model accuracy')\n",
        "plt.ylabel('Accuracy')\n",
        "plt.xlabel('Epoch')\n",
        "plt.legend(['Train', 'Validation'], loc='upper left')\n",
        "plt.show()\n",
        "\n",
        "# Plot training & validation loss values\n",
        "plt.plot(rnn_history.history['loss'])\n",
        "plt.plot(rnn_history.history['val_loss'])\n",
        "plt.title('Model loss')\n",
        "plt.ylabel('Loss')\n",
        "plt.xlabel('Epoch')\n",
        "plt.legend(['Train', 'Validation'], loc='upper left')\n",
        "plt.show()"
      ],
      "metadata": {
        "colab": {
          "base_uri": "https://localhost:8080/",
          "height": 927
        },
        "id": "d9gFYL49D-pn",
        "outputId": "1a76440c-26b9-4431-9dec-e3060280c9fe"
      },
      "execution_count": null,
      "outputs": [
        {
          "output_type": "display_data",
          "data": {
            "text/plain": [
              "<Figure size 640x480 with 1 Axes>"
            ],
            "image/png": "[encoded data removed]"
          },
          "metadata": {}
        },
        {
          "output_type": "display_data",
          "data": {
            "text/plain": [
              "<Figure size 640x480 with 1 Axes>"
            ],
            "image/png": "[encoded data removed]"
          },
          "metadata": {}
        }
      ]
    },
    {
      "cell_type": "code",
      "source": [
        "plt.figure(figsize=(8, 6))\n",
        "sns.heatmap(conf_matrix_rnn, annot=True, fmt=\"d\", cmap=\"Blues\", cbar=False)\n",
        "plt.title(\"Confusion Matrix\")\n",
        "plt.xlabel(\"Predicted Labels\")\n",
        "plt.ylabel(\"True Labels\")\n",
        "plt.show()"
      ],
      "metadata": {
        "colab": {
          "base_uri": "https://localhost:8080/",
          "height": 564
        },
        "id": "ikt776YuEsiN",
        "outputId": "57fb8dc7-c4b6-453f-c6c4-d52e9372f9ce"
      },
      "execution_count": null,
      "outputs": [
        {
          "output_type": "display_data",
          "data": {
            "text/plain": [
              "<Figure size 800x600 with 1 Axes>"
            ],
            "image/png": "[encoded data removed]"
          },
          "metadata": {}
        }
      ]
    },
    {
      "cell_type": "code",
      "source": [
        "from tensorflow.keras.utils import to_categorical\n",
        "\n",
        "y_train_encoded = to_categorical(y_fault_train)\n",
        "y_test_encoded = to_categorical(y_fault_test)\n",
        "y_train_encoded.shape"
      ],
      "metadata": {
        "colab": {
          "base_uri": "https://localhost:8080/"
        },
        "id": "7PX4DNxIGNG5",
        "outputId": "2c3141df-64c3-4596-d1aa-2b688273b07b"
      },
      "execution_count": null,
      "outputs": [
        {
          "output_type": "execute_result",
          "data": {
            "text/plain": [
              "(15750, 2)"
            ]
          },
          "metadata": {},
          "execution_count": 41
        }
      ]
    },
    {
      "cell_type": "code",
      "source": [
        "rnn_model = Sequential()\n",
        "\n",
        "rnn_model.add(SimpleRNN(64, activation='relu', input_shape=(timesteps, features),return_sequences=True))\n",
        "# lstm_model.add(Dropout(0.2))\n",
        "\n",
        "# lstm_model.add(LSTM(64, activation='relu',return_sequences=True))\n",
        "# lstm_model.add(Dropout(0.2))\n",
        "\n",
        "rnn_model.add(SimpleRNN(32, activation='relu'))\n",
        "\n",
        "rnn_model.add(Dense(2, activation='sigmoid'))\n",
        "\n",
        "rnn_model.summary()"
      ],
      "metadata": {
        "colab": {
          "base_uri": "https://localhost:8080/"
        },
        "id": "D3gi2dzGGx_R",
        "outputId": "735b04a7-b8f5-4fb4-920a-cd8eaa5f4c9a"
      },
      "execution_count": null,
      "outputs": [
        {
          "output_type": "stream",
          "name": "stdout",
          "text": [
            "Model: \"sequential_5\"\n",
            "_________________________________________________________________\n",
            " Layer (type)                Output Shape              Param #   \n",
            "=================================================================\n",
            " simple_rnn_11 (SimpleRNN)   (None, 1, 64)             14912     \n",
            "                                                                 \n",
            " simple_rnn_12 (SimpleRNN)   (None, 32)                3104      \n",
            "                                                                 \n",
            " dense_1 (Dense)             (None, 2)                 66        \n",
            "                                                                 \n",
            "=================================================================\n",
            "Total params: 18082 (70.63 KB)\n",
            "Trainable params: 18082 (70.63 KB)\n",
            "Non-trainable params: 0 (0.00 Byte)\n",
            "_________________________________________________________________\n"
          ]
        }
      ]
    },
    {
      "cell_type": "code",
      "source": [
        "opt = keras.optimizers.Adamax(learning_rate=0.001)\n",
        "rnn_model.compile(optimizer=opt, loss='categorical_crossentropy', metrics=['accuracy'])\n",
        "lstm_history = rnn_model.fit(X_train, y_train_encoded, epochs=20, batch_size=64, validation_split=0.1, shuffle = True)"
      ],
      "metadata": {
        "colab": {
          "base_uri": "https://localhost:8080/"
        },
        "id": "LlpdvM0oGbur",
        "outputId": "3c81e908-caff-4258-ac50-7a92ef5f3ee4"
      },
      "execution_count": null,
      "outputs": [
        {
          "output_type": "stream",
          "name": "stdout",
          "text": [
            "Epoch 1/20\n",
            "222/222 [==============================] - 3s 5ms/step - loss: 0.5666 - accuracy: 0.8114 - val_loss: 0.2646 - val_accuracy: 0.8540\n",
            "Epoch 2/20\n",
            "222/222 [==============================] - 1s 4ms/step - loss: 0.1606 - accuracy: 0.9646 - val_loss: 0.1219 - val_accuracy: 0.9892\n",
            "Epoch 3/20\n",
            "222/222 [==============================] - 1s 4ms/step - loss: 0.0979 - accuracy: 0.9939 - val_loss: 0.0771 - val_accuracy: 0.9968\n",
            "Epoch 4/20\n",
            "222/222 [==============================] - 1s 4ms/step - loss: 0.0758 - accuracy: 0.9958 - val_loss: 0.0626 - val_accuracy: 1.0000\n",
            "Epoch 5/20\n",
            "222/222 [==============================] - 1s 4ms/step - loss: 0.0550 - accuracy: 0.9977 - val_loss: 0.0411 - val_accuracy: 1.0000\n",
            "Epoch 6/20\n",
            "222/222 [==============================] - 1s 4ms/step - loss: 0.0406 - accuracy: 0.9990 - val_loss: 0.0367 - val_accuracy: 0.9994\n",
            "Epoch 7/20\n",
            "222/222 [==============================] - 1s 6ms/step - loss: 0.0314 - accuracy: 0.9992 - val_loss: 0.0276 - val_accuracy: 1.0000\n",
            "Epoch 8/20\n",
            "222/222 [==============================] - 1s 6ms/step - loss: 0.0243 - accuracy: 0.9994 - val_loss: 0.0776 - val_accuracy: 0.9886\n",
            "Epoch 9/20\n",
            "222/222 [==============================] - 1s 6ms/step - loss: 0.0220 - accuracy: 0.9980 - val_loss: 0.0148 - val_accuracy: 1.0000\n",
            "Epoch 10/20\n",
            "222/222 [==============================] - 1s 4ms/step - loss: 0.0120 - accuracy: 1.0000 - val_loss: 0.0103 - val_accuracy: 1.0000\n",
            "Epoch 11/20\n",
            "222/222 [==============================] - 1s 4ms/step - loss: 0.0107 - accuracy: 1.0000 - val_loss: 0.0087 - val_accuracy: 1.0000\n",
            "Epoch 12/20\n",
            "222/222 [==============================] - 1s 4ms/step - loss: 0.0095 - accuracy: 1.0000 - val_loss: 0.0069 - val_accuracy: 1.0000\n",
            "Epoch 13/20\n",
            "222/222 [==============================] - 1s 4ms/step - loss: 0.0065 - accuracy: 1.0000 - val_loss: 0.0095 - val_accuracy: 1.0000\n",
            "Epoch 14/20\n",
            "222/222 [==============================] - 1s 4ms/step - loss: 0.0091 - accuracy: 0.9994 - val_loss: 0.0038 - val_accuracy: 1.0000\n",
            "Epoch 15/20\n",
            "222/222 [==============================] - 1s 4ms/step - loss: 0.0041 - accuracy: 1.0000 - val_loss: 0.0036 - val_accuracy: 1.0000\n",
            "Epoch 16/20\n",
            "222/222 [==============================] - 1s 4ms/step - loss: 0.0040 - accuracy: 1.0000 - val_loss: 0.0060 - val_accuracy: 1.0000\n",
            "Epoch 17/20\n",
            "222/222 [==============================] - 1s 4ms/step - loss: 0.0082 - accuracy: 0.9987 - val_loss: 0.0026 - val_accuracy: 1.0000\n",
            "Epoch 18/20\n",
            "222/222 [==============================] - 1s 4ms/step - loss: 0.0026 - accuracy: 1.0000 - val_loss: 0.0023 - val_accuracy: 1.0000\n",
            "Epoch 19/20\n",
            "222/222 [==============================] - 1s 4ms/step - loss: 0.0024 - accuracy: 1.0000 - val_loss: 0.0023 - val_accuracy: 1.0000\n",
            "Epoch 20/20\n",
            "222/222 [==============================] - 1s 5ms/step - loss: 0.0022 - accuracy: 1.0000 - val_loss: 0.0018 - val_accuracy: 1.0000\n"
          ]
        }
      ]
    },
    {
      "cell_type": "code",
      "source": [
        "# Model evaluation\n",
        "loss_rnn, accuracy_rnn = rnn_model.evaluate(X_test, y_test_encoded)\n",
        "print('Test loss:', loss_rnn, 'Test accuracy:', accuracy_rnn)"
      ],
      "metadata": {
        "colab": {
          "base_uri": "https://localhost:8080/"
        },
        "id": "Sm1u0Q4eGuy7",
        "outputId": "778e9bcf-395b-4c9a-abb5-cfffe9f4dea3"
      },
      "execution_count": null,
      "outputs": [
        {
          "output_type": "stream",
          "name": "stdout",
          "text": [
            "178/178 [==============================] - 1s 3ms/step - loss: 0.0855 - accuracy: 0.9873\n",
            "Test loss: 0.08551282435655594 Test accuracy: 0.9873015880584717\n"
          ]
        }
      ]
    },
    {
      "cell_type": "code",
      "source": [
        "# Evaluate the model\n",
        "y_pred_rnn = rnn_model.predict(X_test)\n",
        "\n",
        "# Convert one-hot encoded predictions to class labels\n",
        "y_pred_rnn= np.argmax(y_pred_rnn, axis=1)\n",
        "y_test = np.argmax(y_test_encoded, axis=1)\n",
        "\n",
        "# Calculate accuracy\n",
        "accuracy_rnn = accuracy_score(y_test, y_pred_rnn)\n",
        "print(\"Accuracy:  %.5f\" %accuracy_rnn)\n",
        "\n",
        "# Calculate precision\n",
        "precision_rnn = precision_score(y_test, y_pred_rnn, average='weighted')\n",
        "print(\"Precision:  %.5f\" % precision_rnn)\n",
        "\n",
        "# Calculate recall\n",
        "recall_rnn = recall_score(y_test, y_pred_rnn, average='weighted')\n",
        "print(\"Recall:  %.5f\" % recall_rnn)\n",
        "\n",
        "# Calculate F1 score\n",
        "f1_rnn = f1_score(y_test, y_pred_rnn, average='weighted')\n",
        "print(\"F1 Score:  %.5f\" %f1_rnn)\n",
        "\n",
        "# Generate classification report\n",
        "report_rnn = classification_report(y_test, y_pred_rnn)\n",
        "print(\"Classification Report:\")\n",
        "print(report_rnn)\n",
        "\n",
        "# Calculate confusion matrix\n",
        "conf_matrix_rnn = confusion_matrix(y_test, y_pred_rnn)"
      ],
      "metadata": {
        "colab": {
          "base_uri": "https://localhost:8080/"
        },
        "id": "a1WsA7OdHmQp",
        "outputId": "b1b28271-9d7f-45c0-9f43-278d71ccc456"
      },
      "execution_count": null,
      "outputs": [
        {
          "output_type": "stream",
          "name": "stdout",
          "text": [
            "178/178 [==============================] - 1s 3ms/step\n",
            "Accuracy:  0.98730\n",
            "Precision:  0.98736\n",
            "Recall:  0.98730\n",
            "F1 Score:  0.98730\n",
            "Classification Report:\n",
            "              precision    recall  f1-score   support\n",
            "\n",
            "           0       0.99      0.98      0.99      2666\n",
            "           1       0.98      0.99      0.99      3004\n",
            "\n",
            "    accuracy                           0.99      5670\n",
            "   macro avg       0.99      0.99      0.99      5670\n",
            "weighted avg       0.99      0.99      0.99      5670\n",
            "\n"
          ]
        }
      ]
    },
    {
      "cell_type": "code",
      "source": [
        "plt.figure(figsize=(8, 6))\n",
        "sns.heatmap(conf_matrix_rnn, annot=True, fmt=\"d\", cmap=\"Blues\", cbar=False)\n",
        "plt.title(\"Confusion Matrix\")\n",
        "plt.xlabel(\"Predicted Labels\")\n",
        "plt.ylabel(\"True Labels\")\n",
        "plt.show()"
      ],
      "metadata": {
        "colab": {
          "base_uri": "https://localhost:8080/",
          "height": 564
        },
        "id": "Elz-8INhHnIs",
        "outputId": "b34da6b9-bbb0-4d42-8e11-1e6c10823217"
      },
      "execution_count": null,
      "outputs": [
        {
          "output_type": "display_data",
          "data": {
            "text/plain": [
              "<Figure size 800x600 with 1 Axes>"
            ],
            "image/png": "[encoded data removed]"
          },
          "metadata": {}
        }
      ]
    }
  ]
}