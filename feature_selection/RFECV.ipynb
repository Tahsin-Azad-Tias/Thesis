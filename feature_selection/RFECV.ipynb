{
  "cells": [
    {
      "cell_type": "markdown",
      "metadata": {
        "id": "view-in-github",
        "colab_type": "text"
      },
      "source": [
        "<a href=\"https://colab.research.google.com/github/Tahsin-Azad-Tias/Thesis/blob/main/feature_selection/RFECV.ipynb\" target=\"_parent\"><img src=\"https://colab.research.google.com/assets/colab-badge.svg\" alt=\"Open In Colab\"/></a>"
      ]
    },
    {
      "cell_type": "code",
      "execution_count": null,
      "id": "78566718",
      "metadata": {
        "execution": {
          "iopub.execute_input": "2024-05-24T19:31:06.542758Z",
          "iopub.status.busy": "2024-05-24T19:31:06.542316Z",
          "iopub.status.idle": "2024-05-24T19:31:16.851481Z",
          "shell.execute_reply": "2024-05-24T19:31:16.850348Z"
        },
        "papermill": {
          "duration": 10.345975,
          "end_time": "2024-05-24T19:31:16.854386",
          "exception": false,
          "start_time": "2024-05-24T19:31:06.508411",
          "status": "completed"
        },
        "tags": [],
        "id": "78566718",
        "outputId": "1f92ce10-e78f-4e4b-9fb2-7bcec80bf708"
      },
      "outputs": [
        {
          "name": "stdout",
          "output_type": "stream",
          "text": [
            "/opt/conda/lib/python3.10/site-packages/gdown/__main__.py:140: FutureWarning: Option `--id` was deprecated in version 4.3.1 and will be removed in 5.0. You don't need to pass it anymore to use a file ID.\r\n",
            "  warnings.warn(\r\n",
            "Downloading...\r\n",
            "From: https://drive.google.com/uc?id=1RgRboMvECzLO8rOz9PRIa_MKGa8D-WTN\r\n",
            "To: /kaggle/working/preprocessed_data.csv\r\n",
            "100%|██████████████████████████████████████| 86.0M/86.0M [00:01<00:00, 46.6MB/s]\r\n",
            "/opt/conda/lib/python3.10/site-packages/gdown/__main__.py:140: FutureWarning: Option `--id` was deprecated in version 4.3.1 and will be removed in 5.0. You don't need to pass it anymore to use a file ID.\r\n",
            "  warnings.warn(\r\n",
            "Downloading...\r\n",
            "From: https://drive.google.com/uc?id=1vNJKw3cPFho87sGMjxkEL-hQKAnfhECX\r\n",
            "To: /kaggle/working/preprocessed_test_data.csv\r\n",
            "100%|███████████████████████████████████████| 25.8M/25.8M [00:00<00:00, 101MB/s]\r\n"
          ]
        }
      ],
      "source": [
        "!gdown --id \"1RgRboMvECzLO8rOz9PRIa_MKGa8D-WTN\"\n",
        "!gdown --id \"1vNJKw3cPFho87sGMjxkEL-hQKAnfhECX\""
      ]
    },
    {
      "cell_type": "code",
      "execution_count": null,
      "id": "30d2cba6",
      "metadata": {
        "execution": {
          "iopub.execute_input": "2024-05-24T19:31:16.920172Z",
          "iopub.status.busy": "2024-05-24T19:31:16.919657Z",
          "iopub.status.idle": "2024-05-24T19:31:19.772072Z",
          "shell.execute_reply": "2024-05-24T19:31:19.770598Z"
        },
        "id": "30d2cba6",
        "papermill": {
          "duration": 2.888964,
          "end_time": "2024-05-24T19:31:19.775171",
          "exception": false,
          "start_time": "2024-05-24T19:31:16.886207",
          "status": "completed"
        },
        "tags": []
      },
      "outputs": [],
      "source": [
        "import pandas as pd\n",
        "import numpy as np\n",
        "import matplotlib.pyplot as plt\n",
        "import seaborn as sns\n",
        "import math\n",
        "from sklearn.preprocessing import StandardScaler\n",
        "from sklearn.model_selection import train_test_split"
      ]
    },
    {
      "cell_type": "code",
      "execution_count": null,
      "id": "8ccad400",
      "metadata": {
        "execution": {
          "iopub.execute_input": "2024-05-24T19:31:19.840933Z",
          "iopub.status.busy": "2024-05-24T19:31:19.840385Z",
          "iopub.status.idle": "2024-05-24T19:31:21.735384Z",
          "shell.execute_reply": "2024-05-24T19:31:21.734137Z"
        },
        "id": "8ccad400",
        "papermill": {
          "duration": 1.93169,
          "end_time": "2024-05-24T19:31:21.738684",
          "exception": false,
          "start_time": "2024-05-24T19:31:19.806994",
          "status": "completed"
        },
        "tags": []
      },
      "outputs": [],
      "source": [
        "df = pd.read_csv(\"/kaggle/working/preprocessed_data.csv\")\n",
        "test_df = pd.read_csv(\"/kaggle/working/preprocessed_test_data.csv\")"
      ]
    },
    {
      "cell_type": "code",
      "execution_count": null,
      "id": "047e9069",
      "metadata": {
        "execution": {
          "iopub.execute_input": "2024-05-24T19:31:21.807643Z",
          "iopub.status.busy": "2024-05-24T19:31:21.807247Z",
          "iopub.status.idle": "2024-05-24T19:31:21.815958Z",
          "shell.execute_reply": "2024-05-24T19:31:21.813983Z"
        },
        "id": "047e9069",
        "outputId": "ce9f84b7-5143-47de-9ba0-6d55f80fc2bc",
        "papermill": {
          "duration": 0.047053,
          "end_time": "2024-05-24T19:31:21.818529",
          "exception": false,
          "start_time": "2024-05-24T19:31:21.771476",
          "status": "completed"
        },
        "tags": []
      },
      "outputs": [
        {
          "data": {
            "text/plain": [
              "((21000, 224), (6300, 224))"
            ]
          },
          "execution_count": 5,
          "metadata": {},
          "output_type": "execute_result"
        }
      ],
      "source": [
        "df.shape, test_df.shape"
      ]
    },
    {
      "cell_type": "code",
      "execution_count": null,
      "id": "f171d724",
      "metadata": {
        "execution": {
          "iopub.execute_input": "2024-05-24T19:31:21.884707Z",
          "iopub.status.busy": "2024-05-24T19:31:21.884291Z",
          "iopub.status.idle": "2024-05-24T19:31:22.436907Z",
          "shell.execute_reply": "2024-05-24T19:31:22.435710Z"
        },
        "id": "f171d724",
        "outputId": "1500a66d-9e21-4664-91fe-e072b7a023db",
        "papermill": {
          "duration": 0.588371,
          "end_time": "2024-05-24T19:31:22.439707",
          "exception": false,
          "start_time": "2024-05-24T19:31:21.851336",
          "status": "completed"
        },
        "tags": []
      },
      "outputs": [
        {
          "data": {
            "text/html": [
              "<div>\n",
              "<style scoped>\n",
              "    .dataframe tbody tr th:only-of-type {\n",
              "        vertical-align: middle;\n",
              "    }\n",
              "\n",
              "    .dataframe tbody tr th {\n",
              "        vertical-align: top;\n",
              "    }\n",
              "\n",
              "    .dataframe thead th {\n",
              "        text-align: right;\n",
              "    }\n",
              "</style>\n",
              "<table border=\"1\" class=\"dataframe\">\n",
              "  <thead>\n",
              "    <tr style=\"text-align: right;\">\n",
              "      <th></th>\n",
              "      <th>0</th>\n",
              "      <th>1</th>\n",
              "      <th>2</th>\n",
              "      <th>3</th>\n",
              "      <th>4</th>\n",
              "      <th>5</th>\n",
              "      <th>6</th>\n",
              "      <th>7</th>\n",
              "      <th>8</th>\n",
              "      <th>9</th>\n",
              "      <th>...</th>\n",
              "      <th>215</th>\n",
              "      <th>216</th>\n",
              "      <th>217</th>\n",
              "      <th>218</th>\n",
              "      <th>219</th>\n",
              "      <th>220</th>\n",
              "      <th>221</th>\n",
              "      <th>222</th>\n",
              "      <th>223</th>\n",
              "      <th>label1</th>\n",
              "    </tr>\n",
              "  </thead>\n",
              "  <tbody>\n",
              "    <tr>\n",
              "      <th>0</th>\n",
              "      <td>42.649251</td>\n",
              "      <td>38.767720</td>\n",
              "      <td>32.457203</td>\n",
              "      <td>41.388078</td>\n",
              "      <td>42.934857</td>\n",
              "      <td>39.229342</td>\n",
              "      <td>32.399214</td>\n",
              "      <td>41.066192</td>\n",
              "      <td>43.236327</td>\n",
              "      <td>39.799927</td>\n",
              "      <td>...</td>\n",
              "      <td>41.635907</td>\n",
              "      <td>34.055494</td>\n",
              "      <td>32.751259</td>\n",
              "      <td>39.432463</td>\n",
              "      <td>41.247117</td>\n",
              "      <td>34.016271</td>\n",
              "      <td>34.245989</td>\n",
              "      <td>38.779399</td>\n",
              "      <td>40.378112</td>\n",
              "      <td>0</td>\n",
              "    </tr>\n",
              "    <tr>\n",
              "      <th>1</th>\n",
              "      <td>42.646681</td>\n",
              "      <td>38.794525</td>\n",
              "      <td>32.475357</td>\n",
              "      <td>41.388023</td>\n",
              "      <td>42.935162</td>\n",
              "      <td>39.260411</td>\n",
              "      <td>32.428105</td>\n",
              "      <td>41.096963</td>\n",
              "      <td>43.231703</td>\n",
              "      <td>39.824195</td>\n",
              "      <td>...</td>\n",
              "      <td>41.661284</td>\n",
              "      <td>34.068002</td>\n",
              "      <td>32.780622</td>\n",
              "      <td>39.422142</td>\n",
              "      <td>41.250901</td>\n",
              "      <td>34.045279</td>\n",
              "      <td>34.272890</td>\n",
              "      <td>38.762307</td>\n",
              "      <td>40.380140</td>\n",
              "      <td>0</td>\n",
              "    </tr>\n",
              "    <tr>\n",
              "      <th>2</th>\n",
              "      <td>42.642157</td>\n",
              "      <td>38.823611</td>\n",
              "      <td>32.491458</td>\n",
              "      <td>41.392758</td>\n",
              "      <td>42.933086</td>\n",
              "      <td>39.293407</td>\n",
              "      <td>32.451511</td>\n",
              "      <td>41.130370</td>\n",
              "      <td>43.225708</td>\n",
              "      <td>39.851598</td>\n",
              "      <td>...</td>\n",
              "      <td>41.690343</td>\n",
              "      <td>34.078913</td>\n",
              "      <td>32.812977</td>\n",
              "      <td>39.409877</td>\n",
              "      <td>41.259000</td>\n",
              "      <td>34.068001</td>\n",
              "      <td>34.302734</td>\n",
              "      <td>38.744395</td>\n",
              "      <td>40.386653</td>\n",
              "      <td>0</td>\n",
              "    </tr>\n",
              "    <tr>\n",
              "      <th>3</th>\n",
              "      <td>42.634547</td>\n",
              "      <td>38.856565</td>\n",
              "      <td>32.504395</td>\n",
              "      <td>41.405506</td>\n",
              "      <td>42.927218</td>\n",
              "      <td>39.329656</td>\n",
              "      <td>32.466020</td>\n",
              "      <td>41.168349</td>\n",
              "      <td>43.217712</td>\n",
              "      <td>39.884547</td>\n",
              "      <td>...</td>\n",
              "      <td>41.725618</td>\n",
              "      <td>34.086963</td>\n",
              "      <td>32.850102</td>\n",
              "      <td>39.394764</td>\n",
              "      <td>41.274208</td>\n",
              "      <td>34.079752</td>\n",
              "      <td>34.337226</td>\n",
              "      <td>38.725534</td>\n",
              "      <td>40.400572</td>\n",
              "      <td>0</td>\n",
              "    </tr>\n",
              "    <tr>\n",
              "      <th>4</th>\n",
              "      <td>42.623944</td>\n",
              "      <td>38.893494</td>\n",
              "      <td>32.514205</td>\n",
              "      <td>41.427199</td>\n",
              "      <td>42.917599</td>\n",
              "      <td>39.369161</td>\n",
              "      <td>32.471317</td>\n",
              "      <td>41.211253</td>\n",
              "      <td>43.208129</td>\n",
              "      <td>39.923785</td>\n",
              "      <td>...</td>\n",
              "      <td>41.767471</td>\n",
              "      <td>34.091368</td>\n",
              "      <td>32.891512</td>\n",
              "      <td>39.377517</td>\n",
              "      <td>41.297146</td>\n",
              "      <td>34.078598</td>\n",
              "      <td>34.375952</td>\n",
              "      <td>38.706636</td>\n",
              "      <td>40.422606</td>\n",
              "      <td>0</td>\n",
              "    </tr>\n",
              "  </tbody>\n",
              "</table>\n",
              "<p>5 rows × 225 columns</p>\n",
              "</div>"
            ],
            "text/plain": [
              "           0          1          2          3          4          5  \\\n",
              "0  42.649251  38.767720  32.457203  41.388078  42.934857  39.229342   \n",
              "1  42.646681  38.794525  32.475357  41.388023  42.935162  39.260411   \n",
              "2  42.642157  38.823611  32.491458  41.392758  42.933086  39.293407   \n",
              "3  42.634547  38.856565  32.504395  41.405506  42.927218  39.329656   \n",
              "4  42.623944  38.893494  32.514205  41.427199  42.917599  39.369161   \n",
              "\n",
              "           6          7          8          9  ...        215        216  \\\n",
              "0  32.399214  41.066192  43.236327  39.799927  ...  41.635907  34.055494   \n",
              "1  32.428105  41.096963  43.231703  39.824195  ...  41.661284  34.068002   \n",
              "2  32.451511  41.130370  43.225708  39.851598  ...  41.690343  34.078913   \n",
              "3  32.466020  41.168349  43.217712  39.884547  ...  41.725618  34.086963   \n",
              "4  32.471317  41.211253  43.208129  39.923785  ...  41.767471  34.091368   \n",
              "\n",
              "         217        218        219        220        221        222  \\\n",
              "0  32.751259  39.432463  41.247117  34.016271  34.245989  38.779399   \n",
              "1  32.780622  39.422142  41.250901  34.045279  34.272890  38.762307   \n",
              "2  32.812977  39.409877  41.259000  34.068001  34.302734  38.744395   \n",
              "3  32.850102  39.394764  41.274208  34.079752  34.337226  38.725534   \n",
              "4  32.891512  39.377517  41.297146  34.078598  34.375952  38.706636   \n",
              "\n",
              "         223  label1  \n",
              "0  40.378112       0  \n",
              "1  40.380140       0  \n",
              "2  40.386653       0  \n",
              "3  40.400572       0  \n",
              "4  40.422606       0  \n",
              "\n",
              "[5 rows x 225 columns]"
            ]
          },
          "execution_count": 6,
          "metadata": {},
          "output_type": "execute_result"
        }
      ],
      "source": [
        "df['label1'] = ''\n",
        "for i in range(df.shape[0]):\n",
        "    label = math.floor(i / 1000)\n",
        "    if label > 20:\n",
        "        label = 20\n",
        "    df.at[i, 'label1'] = label\n",
        "\n",
        "df.head()"
      ]
    },
    {
      "cell_type": "code",
      "execution_count": null,
      "id": "2e889ece",
      "metadata": {
        "execution": {
          "iopub.execute_input": "2024-05-24T19:31:22.507208Z",
          "iopub.status.busy": "2024-05-24T19:31:22.506816Z",
          "iopub.status.idle": "2024-05-24T19:31:22.692191Z",
          "shell.execute_reply": "2024-05-24T19:31:22.690938Z"
        },
        "id": "2e889ece",
        "outputId": "acf7620c-c66c-4d10-cbcb-8a4edef09a91",
        "papermill": {
          "duration": 0.222209,
          "end_time": "2024-05-24T19:31:22.694792",
          "exception": false,
          "start_time": "2024-05-24T19:31:22.472583",
          "status": "completed"
        },
        "tags": []
      },
      "outputs": [
        {
          "data": {
            "text/html": [
              "<div>\n",
              "<style scoped>\n",
              "    .dataframe tbody tr th:only-of-type {\n",
              "        vertical-align: middle;\n",
              "    }\n",
              "\n",
              "    .dataframe tbody tr th {\n",
              "        vertical-align: top;\n",
              "    }\n",
              "\n",
              "    .dataframe thead th {\n",
              "        text-align: right;\n",
              "    }\n",
              "</style>\n",
              "<table border=\"1\" class=\"dataframe\">\n",
              "  <thead>\n",
              "    <tr style=\"text-align: right;\">\n",
              "      <th></th>\n",
              "      <th>0</th>\n",
              "      <th>1</th>\n",
              "      <th>2</th>\n",
              "      <th>3</th>\n",
              "      <th>4</th>\n",
              "      <th>5</th>\n",
              "      <th>6</th>\n",
              "      <th>7</th>\n",
              "      <th>8</th>\n",
              "      <th>9</th>\n",
              "      <th>...</th>\n",
              "      <th>215</th>\n",
              "      <th>216</th>\n",
              "      <th>217</th>\n",
              "      <th>218</th>\n",
              "      <th>219</th>\n",
              "      <th>220</th>\n",
              "      <th>221</th>\n",
              "      <th>222</th>\n",
              "      <th>223</th>\n",
              "      <th>label1</th>\n",
              "    </tr>\n",
              "  </thead>\n",
              "  <tbody>\n",
              "    <tr>\n",
              "      <th>0</th>\n",
              "      <td>42.147346</td>\n",
              "      <td>39.326350</td>\n",
              "      <td>29.890985</td>\n",
              "      <td>43.136659</td>\n",
              "      <td>42.461703</td>\n",
              "      <td>39.826034</td>\n",
              "      <td>29.672381</td>\n",
              "      <td>43.273464</td>\n",
              "      <td>42.778527</td>\n",
              "      <td>40.467358</td>\n",
              "      <td>...</td>\n",
              "      <td>43.769518</td>\n",
              "      <td>33.717622</td>\n",
              "      <td>30.327831</td>\n",
              "      <td>39.794666</td>\n",
              "      <td>43.154503</td>\n",
              "      <td>33.230918</td>\n",
              "      <td>32.108199</td>\n",
              "      <td>39.197549</td>\n",
              "      <td>42.432484</td>\n",
              "      <td>0</td>\n",
              "    </tr>\n",
              "    <tr>\n",
              "      <th>1</th>\n",
              "      <td>42.102956</td>\n",
              "      <td>39.291122</td>\n",
              "      <td>29.793977</td>\n",
              "      <td>43.096137</td>\n",
              "      <td>42.413188</td>\n",
              "      <td>39.795178</td>\n",
              "      <td>29.598609</td>\n",
              "      <td>43.232861</td>\n",
              "      <td>42.726119</td>\n",
              "      <td>40.426489</td>\n",
              "      <td>...</td>\n",
              "      <td>43.736592</td>\n",
              "      <td>33.699082</td>\n",
              "      <td>30.242326</td>\n",
              "      <td>39.744955</td>\n",
              "      <td>43.119075</td>\n",
              "      <td>33.201103</td>\n",
              "      <td>32.066806</td>\n",
              "      <td>39.143163</td>\n",
              "      <td>42.394341</td>\n",
              "      <td>0</td>\n",
              "    </tr>\n",
              "    <tr>\n",
              "      <th>2</th>\n",
              "      <td>42.063699</td>\n",
              "      <td>39.264767</td>\n",
              "      <td>29.708427</td>\n",
              "      <td>43.065561</td>\n",
              "      <td>42.369692</td>\n",
              "      <td>39.772260</td>\n",
              "      <td>29.533573</td>\n",
              "      <td>43.201669</td>\n",
              "      <td>42.678824</td>\n",
              "      <td>40.394525</td>\n",
              "      <td>...</td>\n",
              "      <td>43.712852</td>\n",
              "      <td>33.684147</td>\n",
              "      <td>30.172112</td>\n",
              "      <td>39.700804</td>\n",
              "      <td>43.092839</td>\n",
              "      <td>33.174210</td>\n",
              "      <td>32.035914</td>\n",
              "      <td>39.095089</td>\n",
              "      <td>42.365697</td>\n",
              "      <td>0</td>\n",
              "    </tr>\n",
              "    <tr>\n",
              "      <th>3</th>\n",
              "      <td>42.034200</td>\n",
              "      <td>39.253706</td>\n",
              "      <td>29.643911</td>\n",
              "      <td>43.052223</td>\n",
              "      <td>42.335739</td>\n",
              "      <td>39.762965</td>\n",
              "      <td>29.484701</td>\n",
              "      <td>43.186793</td>\n",
              "      <td>42.641297</td>\n",
              "      <td>40.377930</td>\n",
              "      <td>...</td>\n",
              "      <td>43.704868</td>\n",
              "      <td>33.676245</td>\n",
              "      <td>30.128628</td>\n",
              "      <td>39.667167</td>\n",
              "      <td>43.082515</td>\n",
              "      <td>33.153135</td>\n",
              "      <td>32.022934</td>\n",
              "      <td>39.058826</td>\n",
              "      <td>42.353496</td>\n",
              "      <td>0</td>\n",
              "    </tr>\n",
              "    <tr>\n",
              "      <th>4</th>\n",
              "      <td>42.018088</td>\n",
              "      <td>39.260527</td>\n",
              "      <td>29.606505</td>\n",
              "      <td>43.059177</td>\n",
              "      <td>42.314895</td>\n",
              "      <td>39.769486</td>\n",
              "      <td>29.456900</td>\n",
              "      <td>43.191129</td>\n",
              "      <td>42.617338</td>\n",
              "      <td>40.379274</td>\n",
              "      <td>...</td>\n",
              "      <td>43.714983</td>\n",
              "      <td>33.678181</td>\n",
              "      <td>30.117147</td>\n",
              "      <td>39.647968</td>\n",
              "      <td>43.090907</td>\n",
              "      <td>33.140730</td>\n",
              "      <td>32.030418</td>\n",
              "      <td>39.038428</td>\n",
              "      <td>42.360581</td>\n",
              "      <td>0</td>\n",
              "    </tr>\n",
              "  </tbody>\n",
              "</table>\n",
              "<p>5 rows × 225 columns</p>\n",
              "</div>"
            ],
            "text/plain": [
              "           0          1          2          3          4          5  \\\n",
              "0  42.147346  39.326350  29.890985  43.136659  42.461703  39.826034   \n",
              "1  42.102956  39.291122  29.793977  43.096137  42.413188  39.795178   \n",
              "2  42.063699  39.264767  29.708427  43.065561  42.369692  39.772260   \n",
              "3  42.034200  39.253706  29.643911  43.052223  42.335739  39.762965   \n",
              "4  42.018088  39.260527  29.606505  43.059177  42.314895  39.769486   \n",
              "\n",
              "           6          7          8          9  ...        215        216  \\\n",
              "0  29.672381  43.273464  42.778527  40.467358  ...  43.769518  33.717622   \n",
              "1  29.598609  43.232861  42.726119  40.426489  ...  43.736592  33.699082   \n",
              "2  29.533573  43.201669  42.678824  40.394525  ...  43.712852  33.684147   \n",
              "3  29.484701  43.186793  42.641297  40.377930  ...  43.704868  33.676245   \n",
              "4  29.456900  43.191129  42.617338  40.379274  ...  43.714983  33.678181   \n",
              "\n",
              "         217        218        219        220        221        222  \\\n",
              "0  30.327831  39.794666  43.154503  33.230918  32.108199  39.197549   \n",
              "1  30.242326  39.744955  43.119075  33.201103  32.066806  39.143163   \n",
              "2  30.172112  39.700804  43.092839  33.174210  32.035914  39.095089   \n",
              "3  30.128628  39.667167  43.082515  33.153135  32.022934  39.058826   \n",
              "4  30.117147  39.647968  43.090907  33.140730  32.030418  39.038428   \n",
              "\n",
              "         223  label1  \n",
              "0  42.432484       0  \n",
              "1  42.394341       0  \n",
              "2  42.365697       0  \n",
              "3  42.353496       0  \n",
              "4  42.360581       0  \n",
              "\n",
              "[5 rows x 225 columns]"
            ]
          },
          "execution_count": 7,
          "metadata": {},
          "output_type": "execute_result"
        }
      ],
      "source": [
        "test_df['label1'] = ''\n",
        "for i in range(test_df.shape[0]):\n",
        "    label = math.floor(i / 300)\n",
        "    if label > 20:\n",
        "        label = 20\n",
        "    test_df.at[i, 'label1'] = label\n",
        "\n",
        "test_df.head()"
      ]
    },
    {
      "cell_type": "code",
      "execution_count": null,
      "id": "49cf4f21",
      "metadata": {
        "execution": {
          "iopub.execute_input": "2024-05-24T19:31:22.763711Z",
          "iopub.status.busy": "2024-05-24T19:31:22.763309Z",
          "iopub.status.idle": "2024-05-24T19:31:22.778280Z",
          "shell.execute_reply": "2024-05-24T19:31:22.777166Z"
        },
        "id": "49cf4f21",
        "outputId": "4563f968-ec0c-45b6-96a6-dbbc0f213b79",
        "papermill": {
          "duration": 0.051603,
          "end_time": "2024-05-24T19:31:22.780589",
          "exception": false,
          "start_time": "2024-05-24T19:31:22.728986",
          "status": "completed"
        },
        "tags": []
      },
      "outputs": [
        {
          "data": {
            "text/plain": [
              "label1\n",
              "0     1000\n",
              "1     1000\n",
              "2     1000\n",
              "3     1000\n",
              "4     1000\n",
              "5     1000\n",
              "6     1000\n",
              "7     1000\n",
              "8     1000\n",
              "9     1000\n",
              "10    1000\n",
              "11    1000\n",
              "12    1000\n",
              "13    1000\n",
              "14    1000\n",
              "15    1000\n",
              "16    1000\n",
              "17    1000\n",
              "18    1000\n",
              "19    1000\n",
              "20    1000\n",
              "dtype: int64"
            ]
          },
          "execution_count": 8,
          "metadata": {},
          "output_type": "execute_result"
        }
      ],
      "source": [
        "df.groupby('label1').size()"
      ]
    },
    {
      "cell_type": "code",
      "execution_count": null,
      "id": "77154aa4",
      "metadata": {
        "execution": {
          "iopub.execute_input": "2024-05-24T19:31:22.848668Z",
          "iopub.status.busy": "2024-05-24T19:31:22.848299Z",
          "iopub.status.idle": "2024-05-24T19:31:23.195262Z",
          "shell.execute_reply": "2024-05-24T19:31:23.193940Z"
        },
        "id": "77154aa4",
        "outputId": "c00dd6ac-4e1e-4f9c-db17-bfcfe003bccc",
        "papermill": {
          "duration": 0.383702,
          "end_time": "2024-05-24T19:31:23.197958",
          "exception": false,
          "start_time": "2024-05-24T19:31:22.814256",
          "status": "completed"
        },
        "tags": []
      },
      "outputs": [
        {
          "data": {
            "text/plain": [
              "<Axes: >"
            ]
          },
          "execution_count": 9,
          "metadata": {},
          "output_type": "execute_result"
        },
        {
          "data": {
            "image/png": "[encoded data removed]",
            "text/plain": [
              "<Figure size 640x480 with 1 Axes>"
            ]
          },
          "metadata": {},
          "output_type": "display_data"
        }
      ],
      "source": [
        "df.iloc[:,8].hist()"
      ]
    },
    {
      "cell_type": "code",
      "execution_count": null,
      "id": "250a8853",
      "metadata": {
        "execution": {
          "iopub.execute_input": "2024-05-24T19:31:23.266946Z",
          "iopub.status.busy": "2024-05-24T19:31:23.266054Z",
          "iopub.status.idle": "2024-05-24T19:31:23.780160Z",
          "shell.execute_reply": "2024-05-24T19:31:23.778838Z"
        },
        "id": "250a8853",
        "outputId": "f25b8198-6e17-4843-8759-f23fa222854c",
        "papermill": {
          "duration": 0.551722,
          "end_time": "2024-05-24T19:31:23.783228",
          "exception": false,
          "start_time": "2024-05-24T19:31:23.231506",
          "status": "completed"
        },
        "tags": []
      },
      "outputs": [
        {
          "name": "stderr",
          "output_type": "stream",
          "text": [
            "/opt/conda/lib/python3.10/site-packages/seaborn/_oldcore.py:1119: FutureWarning: use_inf_as_na option is deprecated and will be removed in a future version. Convert inf values to NaN before operating instead.\n",
            "  with pd.option_context('mode.use_inf_as_na', True):\n"
          ]
        },
        {
          "data": {
            "image/png": "[encoded data removed]",
            "text/plain": [
              "<Figure size 640x480 with 1 Axes>"
            ]
          },
          "metadata": {},
          "output_type": "display_data"
        }
      ],
      "source": [
        "sns.histplot(df.iloc[:, 8], kde=True, bins=20)\n",
        "plt.show()"
      ]
    },
    {
      "cell_type": "code",
      "execution_count": null,
      "id": "edf4340c",
      "metadata": {
        "execution": {
          "iopub.execute_input": "2024-05-24T19:31:23.856640Z",
          "iopub.status.busy": "2024-05-24T19:31:23.856247Z",
          "iopub.status.idle": "2024-05-24T19:31:23.861302Z",
          "shell.execute_reply": "2024-05-24T19:31:23.860093Z"
        },
        "id": "edf4340c",
        "papermill": {
          "duration": 0.044718,
          "end_time": "2024-05-24T19:31:23.863708",
          "exception": false,
          "start_time": "2024-05-24T19:31:23.818990",
          "status": "completed"
        },
        "tags": []
      },
      "outputs": [],
      "source": [
        "feature_1  = df.columns[:5]"
      ]
    },
    {
      "cell_type": "code",
      "execution_count": null,
      "id": "2ce02e42",
      "metadata": {
        "execution": {
          "iopub.execute_input": "2024-05-24T19:31:23.934610Z",
          "iopub.status.busy": "2024-05-24T19:31:23.934205Z",
          "iopub.status.idle": "2024-05-24T19:31:24.373608Z",
          "shell.execute_reply": "2024-05-24T19:31:24.372134Z"
        },
        "id": "2ce02e42",
        "outputId": "5126d0ed-011c-48c1-a944-abceb8c3d3ea",
        "papermill": {
          "duration": 0.477441,
          "end_time": "2024-05-24T19:31:24.376158",
          "exception": false,
          "start_time": "2024-05-24T19:31:23.898717",
          "status": "completed"
        },
        "tags": []
      },
      "outputs": [
        {
          "data": {
            "text/plain": [
              "<Axes: >"
            ]
          },
          "execution_count": 12,
          "metadata": {},
          "output_type": "execute_result"
        },
        {
          "data": {
            "image/png": "[encoded data removed]",
            "text/plain": [
              "<Figure size 1500x1500 with 1 Axes>"
            ]
          },
          "metadata": {},
          "output_type": "display_data"
        }
      ],
      "source": [
        "fig, ax = plt.subplots(figsize = (15, 15))\n",
        "sns.boxplot(data = df[feature_1], ax=ax)"
      ]
    },
    {
      "cell_type": "code",
      "execution_count": null,
      "id": "166a0ff3",
      "metadata": {
        "execution": {
          "iopub.execute_input": "2024-05-24T19:31:24.448267Z",
          "iopub.status.busy": "2024-05-24T19:31:24.447000Z",
          "iopub.status.idle": "2024-05-24T19:31:24.885343Z",
          "shell.execute_reply": "2024-05-24T19:31:24.884366Z"
        },
        "id": "166a0ff3",
        "outputId": "93bf8295-62e1-4959-ba2b-5ac7723570c1",
        "papermill": {
          "duration": 0.476607,
          "end_time": "2024-05-24T19:31:24.887783",
          "exception": false,
          "start_time": "2024-05-24T19:31:24.411176",
          "status": "completed"
        },
        "tags": []
      },
      "outputs": [
        {
          "data": {
            "text/plain": [
              "<Axes: >"
            ]
          },
          "execution_count": 13,
          "metadata": {},
          "output_type": "execute_result"
        },
        {
          "data": {
            "image/png": "[encoded data removed]",
            "text/plain": [
              "<Figure size 1500x1500 with 1 Axes>"
            ]
          },
          "metadata": {},
          "output_type": "display_data"
        }
      ],
      "source": [
        "feature_2  = df.columns[5:10]\n",
        "fig, ax = plt.subplots(figsize = (15, 15))\n",
        "sns.boxplot(data = df[feature_2], ax=ax)"
      ]
    },
    {
      "cell_type": "code",
      "execution_count": null,
      "id": "e249e08a",
      "metadata": {
        "execution": {
          "iopub.execute_input": "2024-05-24T19:31:24.961000Z",
          "iopub.status.busy": "2024-05-24T19:31:24.960339Z",
          "iopub.status.idle": "2024-05-24T19:31:25.378488Z",
          "shell.execute_reply": "2024-05-24T19:31:25.377291Z"
        },
        "id": "e249e08a",
        "outputId": "c463266c-68fc-4396-f585-70e1ed3df364",
        "papermill": {
          "duration": 0.457887,
          "end_time": "2024-05-24T19:31:25.380971",
          "exception": false,
          "start_time": "2024-05-24T19:31:24.923084",
          "status": "completed"
        },
        "tags": []
      },
      "outputs": [
        {
          "data": {
            "text/plain": [
              "<Axes: >"
            ]
          },
          "execution_count": 14,
          "metadata": {},
          "output_type": "execute_result"
        },
        {
          "data": {
            "image/png": "[encoded data removed]",
            "text/plain": [
              "<Figure size 1500x1500 with 1 Axes>"
            ]
          },
          "metadata": {},
          "output_type": "display_data"
        }
      ],
      "source": [
        "fig, ax = plt.subplots(figsize = (15, 15))\n",
        "sns.boxplot(data = df[df.columns[10:15]], ax=ax)"
      ]
    },
    {
      "cell_type": "code",
      "execution_count": null,
      "id": "f4d307ac",
      "metadata": {
        "execution": {
          "iopub.execute_input": "2024-05-24T19:31:25.456018Z",
          "iopub.status.busy": "2024-05-24T19:31:25.455348Z",
          "iopub.status.idle": "2024-05-24T19:31:25.463068Z",
          "shell.execute_reply": "2024-05-24T19:31:25.461819Z"
        },
        "id": "f4d307ac",
        "outputId": "e7831d64-13aa-420c-b09e-055df911dbc7",
        "papermill": {
          "duration": 0.047596,
          "end_time": "2024-05-24T19:31:25.465408",
          "exception": false,
          "start_time": "2024-05-24T19:31:25.417812",
          "status": "completed"
        },
        "tags": []
      },
      "outputs": [
        {
          "data": {
            "text/plain": [
              "Index(['0', '1', '2', '3', '4', '5', '6', '7', '8', '9',\n",
              "       ...\n",
              "       '215', '216', '217', '218', '219', '220', '221', '222', '223',\n",
              "       'label1'],\n",
              "      dtype='object', length=225)"
            ]
          },
          "execution_count": 15,
          "metadata": {},
          "output_type": "execute_result"
        }
      ],
      "source": [
        "df.columns"
      ]
    },
    {
      "cell_type": "code",
      "execution_count": null,
      "id": "a78d0b09",
      "metadata": {
        "execution": {
          "iopub.execute_input": "2024-05-24T19:31:25.540052Z",
          "iopub.status.busy": "2024-05-24T19:31:25.539387Z",
          "iopub.status.idle": "2024-05-24T19:31:25.558782Z",
          "shell.execute_reply": "2024-05-24T19:31:25.557405Z"
        },
        "id": "a78d0b09",
        "outputId": "2ddb54cf-20c5-4588-fb7f-166c44d104e9",
        "papermill": {
          "duration": 0.059757,
          "end_time": "2024-05-24T19:31:25.561280",
          "exception": false,
          "start_time": "2024-05-24T19:31:25.501523",
          "status": "completed"
        },
        "tags": []
      },
      "outputs": [
        {
          "data": {
            "text/plain": [
              "0         0\n",
              "1         0\n",
              "2         0\n",
              "3         0\n",
              "4         0\n",
              "         ..\n",
              "220       0\n",
              "221       0\n",
              "222       0\n",
              "223       0\n",
              "label1    0\n",
              "Length: 225, dtype: int64"
            ]
          },
          "execution_count": 16,
          "metadata": {},
          "output_type": "execute_result"
        }
      ],
      "source": [
        "df.isnull().sum()"
      ]
    },
    {
      "cell_type": "code",
      "execution_count": null,
      "id": "1ce2ef80",
      "metadata": {
        "execution": {
          "iopub.execute_input": "2024-05-24T19:31:25.697816Z",
          "iopub.status.busy": "2024-05-24T19:31:25.697090Z",
          "iopub.status.idle": "2024-05-24T19:31:25.982597Z",
          "shell.execute_reply": "2024-05-24T19:31:25.981397Z"
        },
        "id": "1ce2ef80",
        "papermill": {
          "duration": 0.387527,
          "end_time": "2024-05-24T19:31:25.985324",
          "exception": false,
          "start_time": "2024-05-24T19:31:25.597797",
          "status": "completed"
        },
        "tags": []
      },
      "outputs": [],
      "source": [
        "from sklearn.ensemble import RandomForestClassifier\n",
        "from sklearn.preprocessing import LabelEncoder\n",
        "X = df.drop('label1', axis=1)\n",
        "\n",
        "le = LabelEncoder()\n",
        "\n",
        "y = le.fit_transform(df['label1'])\n",
        "# Get the feature names\n",
        "col_names = X.columns.tolist()"
      ]
    },
    {
      "cell_type": "code",
      "execution_count": null,
      "id": "03f8ee5d",
      "metadata": {
        "execution": {
          "iopub.execute_input": "2024-05-24T19:31:26.061302Z",
          "iopub.status.busy": "2024-05-24T19:31:26.060677Z",
          "iopub.status.idle": "2024-05-24T21:18:28.235738Z",
          "shell.execute_reply": "2024-05-24T21:18:28.234451Z"
        },
        "id": "03f8ee5d",
        "papermill": {
          "duration": 6422.254824,
          "end_time": "2024-05-24T21:18:28.276917",
          "exception": false,
          "start_time": "2024-05-24T19:31:26.022093",
          "status": "completed"
        },
        "tags": [],
        "outputId": "c718a304-3ddf-4ed9-aa8b-ea94e52c1ba6"
      },
      "outputs": [
        {
          "data": {
            "text/html": [
              "<style>#sk-container-id-1 {color: black;background-color: white;}#sk-container-id-1 pre{padding: 0;}#sk-container-id-1 div.sk-toggleable {background-color: white;}#sk-container-id-1 label.sk-toggleable__label {cursor: pointer;display: block;width: 100%;margin-bottom: 0;padding: 0.3em;box-sizing: border-box;text-align: center;}#sk-container-id-1 label.sk-toggleable__label-arrow:before {content: \"▸\";float: left;margin-right: 0.25em;color: #696969;}#sk-container-id-1 label.sk-toggleable__label-arrow:hover:before {color: black;}#sk-container-id-1 div.sk-estimator:hover label.sk-toggleable__label-arrow:before {color: black;}#sk-container-id-1 div.sk-toggleable__content {max-height: 0;max-width: 0;overflow: hidden;text-align: left;background-color: #f0f8ff;}#sk-container-id-1 div.sk-toggleable__content pre {margin: 0.2em;color: black;border-radius: 0.25em;background-color: #f0f8ff;}#sk-container-id-1 input.sk-toggleable__control:checked~div.sk-toggleable__content {max-height: 200px;max-width: 100%;overflow: auto;}#sk-container-id-1 input.sk-toggleable__control:checked~label.sk-toggleable__label-arrow:before {content: \"▾\";}#sk-container-id-1 div.sk-estimator input.sk-toggleable__control:checked~label.sk-toggleable__label {background-color: #d4ebff;}#sk-container-id-1 div.sk-label input.sk-toggleable__control:checked~label.sk-toggleable__label {background-color: #d4ebff;}#sk-container-id-1 input.sk-hidden--visually {border: 0;clip: rect(1px 1px 1px 1px);clip: rect(1px, 1px, 1px, 1px);height: 1px;margin: -1px;overflow: hidden;padding: 0;position: absolute;width: 1px;}#sk-container-id-1 div.sk-estimator {font-family: monospace;background-color: #f0f8ff;border: 1px dotted black;border-radius: 0.25em;box-sizing: border-box;margin-bottom: 0.5em;}#sk-container-id-1 div.sk-estimator:hover {background-color: #d4ebff;}#sk-container-id-1 div.sk-parallel-item::after {content: \"\";width: 100%;border-bottom: 1px solid gray;flex-grow: 1;}#sk-container-id-1 div.sk-label:hover label.sk-toggleable__label {background-color: #d4ebff;}#sk-container-id-1 div.sk-serial::before {content: \"\";position: absolute;border-left: 1px solid gray;box-sizing: border-box;top: 0;bottom: 0;left: 50%;z-index: 0;}#sk-container-id-1 div.sk-serial {display: flex;flex-direction: column;align-items: center;background-color: white;padding-right: 0.2em;padding-left: 0.2em;position: relative;}#sk-container-id-1 div.sk-item {position: relative;z-index: 1;}#sk-container-id-1 div.sk-parallel {display: flex;align-items: stretch;justify-content: center;background-color: white;position: relative;}#sk-container-id-1 div.sk-item::before, #sk-container-id-1 div.sk-parallel-item::before {content: \"\";position: absolute;border-left: 1px solid gray;box-sizing: border-box;top: 0;bottom: 0;left: 50%;z-index: -1;}#sk-container-id-1 div.sk-parallel-item {display: flex;flex-direction: column;z-index: 1;position: relative;background-color: white;}#sk-container-id-1 div.sk-parallel-item:first-child::after {align-self: flex-end;width: 50%;}#sk-container-id-1 div.sk-parallel-item:last-child::after {align-self: flex-start;width: 50%;}#sk-container-id-1 div.sk-parallel-item:only-child::after {width: 0;}#sk-container-id-1 div.sk-dashed-wrapped {border: 1px dashed gray;margin: 0 0.4em 0.5em 0.4em;box-sizing: border-box;padding-bottom: 0.4em;background-color: white;}#sk-container-id-1 div.sk-label label {font-family: monospace;font-weight: bold;display: inline-block;line-height: 1.2em;}#sk-container-id-1 div.sk-label-container {text-align: center;}#sk-container-id-1 div.sk-container {/* jupyter's `normalize.less` sets `[hidden] { display: none; }` but bootstrap.min.css set `[hidden] { display: none !important; }` so we also need the `!important` here to be able to override the default hidden behavior on the sphinx rendered scikit-learn.org. See: https://github.com/scikit-learn/scikit-learn/issues/21755 */display: inline-block !important;position: relative;}#sk-container-id-1 div.sk-text-repr-fallback {display: none;}</style><div id=\"sk-container-id-1\" class=\"sk-top-container\"><div class=\"sk-text-repr-fallback\"><pre>RFECV(cv=StratifiedKFold(n_splits=5, random_state=None, shuffle=False),\n",
              "      estimator=RandomForestClassifier(n_jobs=-1), scoring=&#x27;accuracy&#x27;)</pre><b>In a Jupyter environment, please rerun this cell to show the HTML representation or trust the notebook. <br />On GitHub, the HTML representation is unable to render, please try loading this page with nbviewer.org.</b></div><div class=\"sk-container\" hidden><div class=\"sk-item sk-dashed-wrapped\"><div class=\"sk-label-container\"><div class=\"sk-label sk-toggleable\"><input class=\"sk-toggleable__control sk-hidden--visually\" id=\"sk-estimator-id-1\" type=\"checkbox\" ><label for=\"sk-estimator-id-1\" class=\"sk-toggleable__label sk-toggleable__label-arrow\">RFECV</label><div class=\"sk-toggleable__content\"><pre>RFECV(cv=StratifiedKFold(n_splits=5, random_state=None, shuffle=False),\n",
              "      estimator=RandomForestClassifier(n_jobs=-1), scoring=&#x27;accuracy&#x27;)</pre></div></div></div><div class=\"sk-parallel\"><div class=\"sk-parallel-item\"><div class=\"sk-item\"><div class=\"sk-label-container\"><div class=\"sk-label sk-toggleable\"><input class=\"sk-toggleable__control sk-hidden--visually\" id=\"sk-estimator-id-2\" type=\"checkbox\" ><label for=\"sk-estimator-id-2\" class=\"sk-toggleable__label sk-toggleable__label-arrow\">estimator: RandomForestClassifier</label><div class=\"sk-toggleable__content\"><pre>RandomForestClassifier(n_jobs=-1)</pre></div></div></div><div class=\"sk-serial\"><div class=\"sk-item\"><div class=\"sk-estimator sk-toggleable\"><input class=\"sk-toggleable__control sk-hidden--visually\" id=\"sk-estimator-id-3\" type=\"checkbox\" ><label for=\"sk-estimator-id-3\" class=\"sk-toggleable__label sk-toggleable__label-arrow\">RandomForestClassifier</label><div class=\"sk-toggleable__content\"><pre>RandomForestClassifier(n_jobs=-1)</pre></div></div></div></div></div></div></div></div></div></div>"
            ],
            "text/plain": [
              "RFECV(cv=StratifiedKFold(n_splits=5, random_state=None, shuffle=False),\n",
              "      estimator=RandomForestClassifier(n_jobs=-1), scoring='accuracy')"
            ]
          },
          "execution_count": 18,
          "metadata": {},
          "output_type": "execute_result"
        }
      ],
      "source": [
        "from sklearn.model_selection import StratifiedKFold\n",
        "from sklearn.feature_selection import RFECV\n",
        "from sklearn.ensemble import RandomForestClassifier\n",
        "\n",
        "model = RandomForestClassifier(n_jobs = -1)\n",
        "rfecv = RFECV(estimator=model, step=1, cv=StratifiedKFold(5), scoring='accuracy')\n",
        "rfecv.fit(X, y)"
      ]
    },
    {
      "cell_type": "code",
      "execution_count": null,
      "id": "ef7479f6",
      "metadata": {
        "execution": {
          "iopub.execute_input": "2024-05-24T21:18:28.354373Z",
          "iopub.status.busy": "2024-05-24T21:18:28.353899Z",
          "iopub.status.idle": "2024-05-24T21:18:28.359727Z",
          "shell.execute_reply": "2024-05-24T21:18:28.358473Z"
        },
        "id": "ef7479f6",
        "papermill": {
          "duration": 0.046889,
          "end_time": "2024-05-24T21:18:28.362020",
          "exception": false,
          "start_time": "2024-05-24T21:18:28.315131",
          "status": "completed"
        },
        "tags": [],
        "outputId": "47cd5778-d5a9-4d82-a581-d3a1d81cbe52"
      },
      "outputs": [
        {
          "name": "stdout",
          "output_type": "stream",
          "text": [
            "Optimal number of features : 168\n"
          ]
        }
      ],
      "source": [
        "print(\"Optimal number of features : %d\" % rfecv.n_features_)"
      ]
    },
    {
      "cell_type": "code",
      "execution_count": null,
      "id": "e14d039b",
      "metadata": {
        "execution": {
          "iopub.execute_input": "2024-05-24T21:18:28.438705Z",
          "iopub.status.busy": "2024-05-24T21:18:28.438280Z",
          "iopub.status.idle": "2024-05-24T21:18:28.450906Z",
          "shell.execute_reply": "2024-05-24T21:18:28.449644Z"
        },
        "id": "e14d039b",
        "papermill": {
          "duration": 0.054453,
          "end_time": "2024-05-24T21:18:28.453787",
          "exception": false,
          "start_time": "2024-05-24T21:18:28.399334",
          "status": "completed"
        },
        "tags": []
      },
      "outputs": [],
      "source": [
        "# Get the mask of selected features\n",
        "mask = rfecv.support_\n",
        "\n",
        "# Get the names of the selected features\n",
        "selected_features = X.columns[mask]\n",
        "\n",
        "# Create a new DataFrame with the selected features\n",
        "X_selected = X[selected_features]\n",
        "\n",
        "# Save the DataFrame to a CSV file\n",
        "# X_selected.to_csv('selected_features.csv', index=False)"
      ]
    },
    {
      "cell_type": "code",
      "execution_count": null,
      "id": "00633eba",
      "metadata": {
        "execution": {
          "iopub.execute_input": "2024-05-24T21:18:28.530671Z",
          "iopub.status.busy": "2024-05-24T21:18:28.529794Z",
          "iopub.status.idle": "2024-05-24T21:18:36.703942Z",
          "shell.execute_reply": "2024-05-24T21:18:36.702582Z"
        },
        "id": "00633eba",
        "papermill": {
          "duration": 8.215655,
          "end_time": "2024-05-24T21:18:36.707083",
          "exception": false,
          "start_time": "2024-05-24T21:18:28.491428",
          "status": "completed"
        },
        "tags": []
      },
      "outputs": [],
      "source": [
        "X_selected.to_csv('selected_features.csv', index=False)"
      ]
    },
    {
      "cell_type": "code",
      "execution_count": null,
      "id": "ae5ca427",
      "metadata": {
        "execution": {
          "iopub.execute_input": "2024-05-24T21:18:36.860016Z",
          "iopub.status.busy": "2024-05-24T21:18:36.859578Z",
          "iopub.status.idle": "2024-05-24T21:18:37.344031Z",
          "shell.execute_reply": "2024-05-24T21:18:37.342777Z"
        },
        "id": "ae5ca427",
        "papermill": {
          "duration": 0.526536,
          "end_time": "2024-05-24T21:18:37.346979",
          "exception": false,
          "start_time": "2024-05-24T21:18:36.820443",
          "status": "completed"
        },
        "tags": []
      },
      "outputs": [],
      "source": [
        "X = df.drop('label1', axis=1)\n",
        "y = df['label1']\n",
        "\n",
        "for col in df.columns[:-1]:\n",
        "    Q1 = X[col].quantile(0.25)\n",
        "    Q3 = X[col].quantile(0.75)\n",
        "    IQR = Q3 - Q1\n",
        "    lower_bound = Q1 - 1.5 * IQR\n",
        "    upper_bound = Q3 + 1.5 * IQR\n",
        "    mask = (X[col] >= lower_bound) & (X[col] <= upper_bound)"
      ]
    },
    {
      "cell_type": "code",
      "execution_count": null,
      "id": "65972ea3",
      "metadata": {
        "execution": {
          "iopub.execute_input": "2024-05-24T21:18:37.500605Z",
          "iopub.status.busy": "2024-05-24T21:18:37.500193Z",
          "iopub.status.idle": "2024-05-24T21:18:37.523097Z",
          "shell.execute_reply": "2024-05-24T21:18:37.521922Z"
        },
        "id": "65972ea3",
        "papermill": {
          "duration": 0.066224,
          "end_time": "2024-05-24T21:18:37.525911",
          "exception": false,
          "start_time": "2024-05-24T21:18:37.459687",
          "status": "completed"
        },
        "tags": []
      },
      "outputs": [],
      "source": [
        "X_outlier_detection = X[mask]\n",
        "y_outlier_detection = y[mask]"
      ]
    },
    {
      "cell_type": "code",
      "execution_count": null,
      "id": "3e4ff32e",
      "metadata": {
        "execution": {
          "iopub.execute_input": "2024-05-24T21:18:37.603760Z",
          "iopub.status.busy": "2024-05-24T21:18:37.603362Z",
          "iopub.status.idle": "2024-05-24T21:18:37.691538Z",
          "shell.execute_reply": "2024-05-24T21:18:37.690182Z"
        },
        "id": "3e4ff32e",
        "papermill": {
          "duration": 0.130762,
          "end_time": "2024-05-24T21:18:37.694652",
          "exception": false,
          "start_time": "2024-05-24T21:18:37.563890",
          "status": "completed"
        },
        "tags": []
      },
      "outputs": [],
      "source": [
        "scaler = StandardScaler()\n",
        "X_scaled = scaler.fit_transform(X_outlier_detection)"
      ]
    },
    {
      "cell_type": "code",
      "execution_count": null,
      "id": "26c75864",
      "metadata": {
        "execution": {
          "iopub.execute_input": "2024-05-24T21:18:37.773002Z",
          "iopub.status.busy": "2024-05-24T21:18:37.772580Z",
          "iopub.status.idle": "2024-05-24T21:18:37.778940Z",
          "shell.execute_reply": "2024-05-24T21:18:37.777459Z"
        },
        "id": "26c75864",
        "papermill": {
          "duration": 0.048503,
          "end_time": "2024-05-24T21:18:37.781640",
          "exception": false,
          "start_time": "2024-05-24T21:18:37.733137",
          "status": "completed"
        },
        "tags": []
      },
      "outputs": [],
      "source": [
        "new_df = pd.DataFrame(X_scaled, columns=X_outlier_detection.columns)"
      ]
    },
    {
      "cell_type": "code",
      "execution_count": null,
      "id": "ef01fbff",
      "metadata": {
        "execution": {
          "iopub.execute_input": "2024-05-24T21:18:37.858745Z",
          "iopub.status.busy": "2024-05-24T21:18:37.858337Z",
          "iopub.status.idle": "2024-05-24T21:18:37.864478Z",
          "shell.execute_reply": "2024-05-24T21:18:37.863314Z"
        },
        "id": "ef01fbff",
        "papermill": {
          "duration": 0.047849,
          "end_time": "2024-05-24T21:18:37.867386",
          "exception": false,
          "start_time": "2024-05-24T21:18:37.819537",
          "status": "completed"
        },
        "tags": []
      },
      "outputs": [],
      "source": [
        "new_df.reset_index(drop=True, inplace=True)\n",
        "y_outlier_detection.reset_index(drop=True, inplace=True)"
      ]
    },
    {
      "cell_type": "code",
      "execution_count": null,
      "id": "0a1a2c4b",
      "metadata": {
        "execution": {
          "iopub.execute_input": "2024-05-24T21:18:37.946741Z",
          "iopub.status.busy": "2024-05-24T21:18:37.946290Z",
          "iopub.status.idle": "2024-05-24T21:18:37.953063Z",
          "shell.execute_reply": "2024-05-24T21:18:37.951694Z"
        },
        "id": "0a1a2c4b",
        "papermill": {
          "duration": 0.050159,
          "end_time": "2024-05-24T21:18:37.955730",
          "exception": false,
          "start_time": "2024-05-24T21:18:37.905571",
          "status": "completed"
        },
        "tags": []
      },
      "outputs": [],
      "source": [
        "new_df['label1'] = y_outlier_detection"
      ]
    },
    {
      "cell_type": "code",
      "execution_count": null,
      "id": "2fffbc27",
      "metadata": {
        "execution": {
          "iopub.execute_input": "2024-05-24T21:18:38.033992Z",
          "iopub.status.busy": "2024-05-24T21:18:38.033532Z",
          "iopub.status.idle": "2024-05-24T21:18:38.047192Z",
          "shell.execute_reply": "2024-05-24T21:18:38.045996Z"
        },
        "id": "2fffbc27",
        "papermill": {
          "duration": 0.056237,
          "end_time": "2024-05-24T21:18:38.049663",
          "exception": false,
          "start_time": "2024-05-24T21:18:37.993426",
          "status": "completed"
        },
        "tags": []
      },
      "outputs": [],
      "source": [
        "new_df['label2'] = np.where(new_df['label1'].isin(range(5)), 0, 1)"
      ]
    },
    {
      "cell_type": "code",
      "execution_count": null,
      "id": "8168416e",
      "metadata": {
        "execution": {
          "iopub.execute_input": "2024-05-24T21:18:38.129516Z",
          "iopub.status.busy": "2024-05-24T21:18:38.128976Z",
          "iopub.status.idle": "2024-05-24T21:18:38.138989Z",
          "shell.execute_reply": "2024-05-24T21:18:38.137871Z"
        },
        "id": "8168416e",
        "outputId": "6ed20e21-5371-4966-fa91-96d8e10fb9dc",
        "papermill": {
          "duration": 0.05192,
          "end_time": "2024-05-24T21:18:38.141427",
          "exception": false,
          "start_time": "2024-05-24T21:18:38.089507",
          "status": "completed"
        },
        "tags": []
      },
      "outputs": [
        {
          "data": {
            "text/plain": [
              "label2\n",
              "0     4861\n",
              "1    15906\n",
              "dtype: int64"
            ]
          },
          "execution_count": 29,
          "metadata": {},
          "output_type": "execute_result"
        }
      ],
      "source": [
        "new_df.groupby('label2').size()"
      ]
    },
    {
      "cell_type": "code",
      "execution_count": null,
      "id": "84481fcf",
      "metadata": {
        "execution": {
          "iopub.execute_input": "2024-05-24T21:18:38.220382Z",
          "iopub.status.busy": "2024-05-24T21:18:38.219914Z",
          "iopub.status.idle": "2024-05-24T21:18:38.657333Z",
          "shell.execute_reply": "2024-05-24T21:18:38.656146Z"
        },
        "id": "84481fcf",
        "outputId": "792e3c62-ef01-4964-f373-ce6004e8d86c",
        "papermill": {
          "duration": 0.479913,
          "end_time": "2024-05-24T21:18:38.659944",
          "exception": false,
          "start_time": "2024-05-24T21:18:38.180031",
          "status": "completed"
        },
        "tags": []
      },
      "outputs": [
        {
          "data": {
            "text/plain": [
              "<Axes: >"
            ]
          },
          "execution_count": 30,
          "metadata": {},
          "output_type": "execute_result"
        },
        {
          "data": {
            "image/png": "[encoded data removed]",
            "text/plain": [
              "<Figure size 1500x1500 with 1 Axes>"
            ]
          },
          "metadata": {},
          "output_type": "display_data"
        }
      ],
      "source": [
        "fig, ax = plt.subplots(figsize = (15, 15))\n",
        "sns.boxplot(data = test_df[test_df.columns[0:5]], ax=ax)"
      ]
    },
    {
      "cell_type": "code",
      "execution_count": null,
      "id": "efab3f13",
      "metadata": {
        "execution": {
          "iopub.execute_input": "2024-05-24T21:18:38.742445Z",
          "iopub.status.busy": "2024-05-24T21:18:38.741273Z",
          "iopub.status.idle": "2024-05-24T21:18:39.147169Z",
          "shell.execute_reply": "2024-05-24T21:18:39.145880Z"
        },
        "id": "efab3f13",
        "papermill": {
          "duration": 0.45061,
          "end_time": "2024-05-24T21:18:39.150200",
          "exception": false,
          "start_time": "2024-05-24T21:18:38.699590",
          "status": "completed"
        },
        "tags": []
      },
      "outputs": [],
      "source": [
        "X = test_df.drop('label1', axis=1)\n",
        "y = test_df['label1']\n",
        "\n",
        "for col in test_df.columns[:-1]:\n",
        "    Q1 = X[col].quantile(0.25)\n",
        "    Q3 = X[col].quantile(0.75)\n",
        "    IQR = Q3 - Q1\n",
        "    lower_bound = Q1 - 1.5 * IQR\n",
        "    upper_bound = Q3 + 1.5 * IQR\n",
        "    mask = (X[col] >= lower_bound) & (X[col] <= upper_bound)"
      ]
    },
    {
      "cell_type": "code",
      "execution_count": null,
      "id": "da0ad8fc",
      "metadata": {
        "execution": {
          "iopub.execute_input": "2024-05-24T21:18:39.302478Z",
          "iopub.status.busy": "2024-05-24T21:18:39.302043Z",
          "iopub.status.idle": "2024-05-24T21:18:39.311738Z",
          "shell.execute_reply": "2024-05-24T21:18:39.310286Z"
        },
        "id": "da0ad8fc",
        "papermill": {
          "duration": 0.125114,
          "end_time": "2024-05-24T21:18:39.314589",
          "exception": false,
          "start_time": "2024-05-24T21:18:39.189475",
          "status": "completed"
        },
        "tags": []
      },
      "outputs": [],
      "source": [
        "X_outlier = X[mask]\n",
        "y_outlier = y[mask]"
      ]
    },
    {
      "cell_type": "code",
      "execution_count": null,
      "id": "d401fbe2",
      "metadata": {
        "execution": {
          "iopub.execute_input": "2024-05-24T21:18:39.395473Z",
          "iopub.status.busy": "2024-05-24T21:18:39.394205Z",
          "iopub.status.idle": "2024-05-24T21:18:39.431124Z",
          "shell.execute_reply": "2024-05-24T21:18:39.429828Z"
        },
        "id": "d401fbe2",
        "papermill": {
          "duration": 0.080566,
          "end_time": "2024-05-24T21:18:39.434243",
          "exception": false,
          "start_time": "2024-05-24T21:18:39.353677",
          "status": "completed"
        },
        "tags": []
      },
      "outputs": [],
      "source": [
        "X_test_scaled = scaler.fit_transform(X_outlier)"
      ]
    },
    {
      "cell_type": "code",
      "execution_count": null,
      "id": "84b73765",
      "metadata": {
        "execution": {
          "iopub.execute_input": "2024-05-24T21:18:39.516770Z",
          "iopub.status.busy": "2024-05-24T21:18:39.516342Z",
          "iopub.status.idle": "2024-05-24T21:18:39.523365Z",
          "shell.execute_reply": "2024-05-24T21:18:39.522145Z"
        },
        "id": "84b73765",
        "outputId": "b1af9738-70d0-4d1d-fdf6-0b1142258b79",
        "papermill": {
          "duration": 0.052083,
          "end_time": "2024-05-24T21:18:39.526055",
          "exception": false,
          "start_time": "2024-05-24T21:18:39.473972",
          "status": "completed"
        },
        "tags": []
      },
      "outputs": [
        {
          "data": {
            "text/plain": [
              "(6144, 224)"
            ]
          },
          "execution_count": 34,
          "metadata": {},
          "output_type": "execute_result"
        }
      ],
      "source": [
        "X_test_scaled.shape"
      ]
    },
    {
      "cell_type": "code",
      "execution_count": null,
      "id": "02d5bfce",
      "metadata": {
        "execution": {
          "iopub.execute_input": "2024-05-24T21:18:39.610680Z",
          "iopub.status.busy": "2024-05-24T21:18:39.609660Z",
          "iopub.status.idle": "2024-05-24T21:18:39.614737Z",
          "shell.execute_reply": "2024-05-24T21:18:39.613871Z"
        },
        "id": "02d5bfce",
        "papermill": {
          "duration": 0.048663,
          "end_time": "2024-05-24T21:18:39.617091",
          "exception": false,
          "start_time": "2024-05-24T21:18:39.568428",
          "status": "completed"
        },
        "tags": []
      },
      "outputs": [],
      "source": [
        "test_data = pd.DataFrame(X_test_scaled)"
      ]
    },
    {
      "cell_type": "code",
      "execution_count": null,
      "id": "b78a9ff9",
      "metadata": {
        "execution": {
          "iopub.execute_input": "2024-05-24T21:18:39.698862Z",
          "iopub.status.busy": "2024-05-24T21:18:39.698038Z",
          "iopub.status.idle": "2024-05-24T21:18:39.723559Z",
          "shell.execute_reply": "2024-05-24T21:18:39.722269Z"
        },
        "id": "b78a9ff9",
        "outputId": "d2889d66-8f2c-4fc6-c557-5d0296bd5ea0",
        "papermill": {
          "duration": 0.068974,
          "end_time": "2024-05-24T21:18:39.726402",
          "exception": false,
          "start_time": "2024-05-24T21:18:39.657428",
          "status": "completed"
        },
        "tags": []
      },
      "outputs": [
        {
          "data": {
            "text/html": [
              "<div>\n",
              "<style scoped>\n",
              "    .dataframe tbody tr th:only-of-type {\n",
              "        vertical-align: middle;\n",
              "    }\n",
              "\n",
              "    .dataframe tbody tr th {\n",
              "        vertical-align: top;\n",
              "    }\n",
              "\n",
              "    .dataframe thead th {\n",
              "        text-align: right;\n",
              "    }\n",
              "</style>\n",
              "<table border=\"1\" class=\"dataframe\">\n",
              "  <thead>\n",
              "    <tr style=\"text-align: right;\">\n",
              "      <th></th>\n",
              "      <th>0</th>\n",
              "      <th>1</th>\n",
              "      <th>2</th>\n",
              "      <th>3</th>\n",
              "      <th>4</th>\n",
              "      <th>5</th>\n",
              "      <th>6</th>\n",
              "      <th>7</th>\n",
              "      <th>8</th>\n",
              "      <th>9</th>\n",
              "      <th>...</th>\n",
              "      <th>214</th>\n",
              "      <th>215</th>\n",
              "      <th>216</th>\n",
              "      <th>217</th>\n",
              "      <th>218</th>\n",
              "      <th>219</th>\n",
              "      <th>220</th>\n",
              "      <th>221</th>\n",
              "      <th>222</th>\n",
              "      <th>223</th>\n",
              "    </tr>\n",
              "  </thead>\n",
              "  <tbody>\n",
              "    <tr>\n",
              "      <th>0</th>\n",
              "      <td>0.614594</td>\n",
              "      <td>0.166026</td>\n",
              "      <td>0.126262</td>\n",
              "      <td>0.860486</td>\n",
              "      <td>0.627534</td>\n",
              "      <td>0.163867</td>\n",
              "      <td>-0.041221</td>\n",
              "      <td>0.862561</td>\n",
              "      <td>0.652458</td>\n",
              "      <td>0.191673</td>\n",
              "      <td>...</td>\n",
              "      <td>1.148453</td>\n",
              "      <td>2.167546</td>\n",
              "      <td>-0.635021</td>\n",
              "      <td>-1.417461</td>\n",
              "      <td>1.151806</td>\n",
              "      <td>2.135747</td>\n",
              "      <td>-0.747626</td>\n",
              "      <td>-1.231342</td>\n",
              "      <td>1.111459</td>\n",
              "      <td>2.077124</td>\n",
              "    </tr>\n",
              "    <tr>\n",
              "      <th>1</th>\n",
              "      <td>0.600615</td>\n",
              "      <td>0.158827</td>\n",
              "      <td>0.110377</td>\n",
              "      <td>0.832810</td>\n",
              "      <td>0.612132</td>\n",
              "      <td>0.156825</td>\n",
              "      <td>-0.053570</td>\n",
              "      <td>0.836469</td>\n",
              "      <td>0.635685</td>\n",
              "      <td>0.181163</td>\n",
              "      <td>...</td>\n",
              "      <td>1.135150</td>\n",
              "      <td>2.147232</td>\n",
              "      <td>-0.638823</td>\n",
              "      <td>-1.442786</td>\n",
              "      <td>1.138960</td>\n",
              "      <td>2.114894</td>\n",
              "      <td>-0.753993</td>\n",
              "      <td>-1.247234</td>\n",
              "      <td>1.097588</td>\n",
              "      <td>2.055911</td>\n",
              "    </tr>\n",
              "    <tr>\n",
              "      <th>2</th>\n",
              "      <td>0.588253</td>\n",
              "      <td>0.153442</td>\n",
              "      <td>0.096368</td>\n",
              "      <td>0.811927</td>\n",
              "      <td>0.598324</td>\n",
              "      <td>0.151594</td>\n",
              "      <td>-0.064457</td>\n",
              "      <td>0.816425</td>\n",
              "      <td>0.620548</td>\n",
              "      <td>0.172944</td>\n",
              "      <td>...</td>\n",
              "      <td>1.123405</td>\n",
              "      <td>2.132585</td>\n",
              "      <td>-0.641886</td>\n",
              "      <td>-1.463582</td>\n",
              "      <td>1.127550</td>\n",
              "      <td>2.099451</td>\n",
              "      <td>-0.759736</td>\n",
              "      <td>-1.259095</td>\n",
              "      <td>1.085328</td>\n",
              "      <td>2.039981</td>\n",
              "    </tr>\n",
              "    <tr>\n",
              "      <th>3</th>\n",
              "      <td>0.578964</td>\n",
              "      <td>0.151182</td>\n",
              "      <td>0.085804</td>\n",
              "      <td>0.802818</td>\n",
              "      <td>0.587545</td>\n",
              "      <td>0.149472</td>\n",
              "      <td>-0.072638</td>\n",
              "      <td>0.806866</td>\n",
              "      <td>0.608537</td>\n",
              "      <td>0.168676</td>\n",
              "      <td>...</td>\n",
              "      <td>1.114563</td>\n",
              "      <td>2.127659</td>\n",
              "      <td>-0.643506</td>\n",
              "      <td>-1.476461</td>\n",
              "      <td>1.118858</td>\n",
              "      <td>2.093375</td>\n",
              "      <td>-0.764236</td>\n",
              "      <td>-1.264078</td>\n",
              "      <td>1.076080</td>\n",
              "      <td>2.033196</td>\n",
              "    </tr>\n",
              "    <tr>\n",
              "      <th>4</th>\n",
              "      <td>0.573890</td>\n",
              "      <td>0.152576</td>\n",
              "      <td>0.079679</td>\n",
              "      <td>0.807567</td>\n",
              "      <td>0.580928</td>\n",
              "      <td>0.150961</td>\n",
              "      <td>-0.077292</td>\n",
              "      <td>0.809652</td>\n",
              "      <td>0.600869</td>\n",
              "      <td>0.169022</td>\n",
              "      <td>...</td>\n",
              "      <td>1.109609</td>\n",
              "      <td>2.133900</td>\n",
              "      <td>-0.643109</td>\n",
              "      <td>-1.479861</td>\n",
              "      <td>1.113897</td>\n",
              "      <td>2.098314</td>\n",
              "      <td>-0.766885</td>\n",
              "      <td>-1.261205</td>\n",
              "      <td>1.070878</td>\n",
              "      <td>2.037136</td>\n",
              "    </tr>\n",
              "  </tbody>\n",
              "</table>\n",
              "<p>5 rows × 224 columns</p>\n",
              "</div>"
            ],
            "text/plain": [
              "        0         1         2         3         4         5         6    \\\n",
              "0  0.614594  0.166026  0.126262  0.860486  0.627534  0.163867 -0.041221   \n",
              "1  0.600615  0.158827  0.110377  0.832810  0.612132  0.156825 -0.053570   \n",
              "2  0.588253  0.153442  0.096368  0.811927  0.598324  0.151594 -0.064457   \n",
              "3  0.578964  0.151182  0.085804  0.802818  0.587545  0.149472 -0.072638   \n",
              "4  0.573890  0.152576  0.079679  0.807567  0.580928  0.150961 -0.077292   \n",
              "\n",
              "        7         8         9    ...       214       215       216       217  \\\n",
              "0  0.862561  0.652458  0.191673  ...  1.148453  2.167546 -0.635021 -1.417461   \n",
              "1  0.836469  0.635685  0.181163  ...  1.135150  2.147232 -0.638823 -1.442786   \n",
              "2  0.816425  0.620548  0.172944  ...  1.123405  2.132585 -0.641886 -1.463582   \n",
              "3  0.806866  0.608537  0.168676  ...  1.114563  2.127659 -0.643506 -1.476461   \n",
              "4  0.809652  0.600869  0.169022  ...  1.109609  2.133900 -0.643109 -1.479861   \n",
              "\n",
              "        218       219       220       221       222       223  \n",
              "0  1.151806  2.135747 -0.747626 -1.231342  1.111459  2.077124  \n",
              "1  1.138960  2.114894 -0.753993 -1.247234  1.097588  2.055911  \n",
              "2  1.127550  2.099451 -0.759736 -1.259095  1.085328  2.039981  \n",
              "3  1.118858  2.093375 -0.764236 -1.264078  1.076080  2.033196  \n",
              "4  1.113897  2.098314 -0.766885 -1.261205  1.070878  2.037136  \n",
              "\n",
              "[5 rows x 224 columns]"
            ]
          },
          "execution_count": 36,
          "metadata": {},
          "output_type": "execute_result"
        }
      ],
      "source": [
        "test_data.head()"
      ]
    },
    {
      "cell_type": "code",
      "execution_count": null,
      "id": "2022b63b",
      "metadata": {
        "execution": {
          "iopub.execute_input": "2024-05-24T21:18:39.809965Z",
          "iopub.status.busy": "2024-05-24T21:18:39.809462Z",
          "iopub.status.idle": "2024-05-24T21:18:39.815029Z",
          "shell.execute_reply": "2024-05-24T21:18:39.813875Z"
        },
        "id": "2022b63b",
        "papermill": {
          "duration": 0.050886,
          "end_time": "2024-05-24T21:18:39.817648",
          "exception": false,
          "start_time": "2024-05-24T21:18:39.766762",
          "status": "completed"
        },
        "tags": []
      },
      "outputs": [],
      "source": [
        "test_data.reset_index(drop=True, inplace=True)\n",
        "y_outlier.reset_index(drop=True, inplace=True)"
      ]
    },
    {
      "cell_type": "code",
      "execution_count": null,
      "id": "8a30656e",
      "metadata": {
        "execution": {
          "iopub.execute_input": "2024-05-24T21:18:39.899767Z",
          "iopub.status.busy": "2024-05-24T21:18:39.899023Z",
          "iopub.status.idle": "2024-05-24T21:18:39.905898Z",
          "shell.execute_reply": "2024-05-24T21:18:39.904712Z"
        },
        "id": "8a30656e",
        "outputId": "4007fb55-840c-419b-f71f-c5a639d87fe7",
        "papermill": {
          "duration": 0.050683,
          "end_time": "2024-05-24T21:18:39.908180",
          "exception": false,
          "start_time": "2024-05-24T21:18:39.857497",
          "status": "completed"
        },
        "tags": []
      },
      "outputs": [
        {
          "data": {
            "text/plain": [
              "6144"
            ]
          },
          "execution_count": 38,
          "metadata": {},
          "output_type": "execute_result"
        }
      ],
      "source": [
        "len(y_outlier)"
      ]
    },
    {
      "cell_type": "code",
      "execution_count": null,
      "id": "6599375e",
      "metadata": {
        "execution": {
          "iopub.execute_input": "2024-05-24T21:18:39.993396Z",
          "iopub.status.busy": "2024-05-24T21:18:39.992254Z",
          "iopub.status.idle": "2024-05-24T21:18:39.999138Z",
          "shell.execute_reply": "2024-05-24T21:18:39.997614Z"
        },
        "id": "6599375e",
        "papermill": {
          "duration": 0.051015,
          "end_time": "2024-05-24T21:18:40.001458",
          "exception": false,
          "start_time": "2024-05-24T21:18:39.950443",
          "status": "completed"
        },
        "tags": []
      },
      "outputs": [],
      "source": [
        "test_data.shape"
      ]
    },
    {
      "cell_type": "code",
      "execution_count": null,
      "id": "3d69d509",
      "metadata": {
        "execution": {
          "iopub.execute_input": "2024-05-24T21:18:40.084353Z",
          "iopub.status.busy": "2024-05-24T21:18:40.083859Z",
          "iopub.status.idle": "2024-05-24T21:18:40.090622Z",
          "shell.execute_reply": "2024-05-24T21:18:40.089265Z"
        },
        "id": "3d69d509",
        "papermill": {
          "duration": 0.051169,
          "end_time": "2024-05-24T21:18:40.093044",
          "exception": false,
          "start_time": "2024-05-24T21:18:40.041875",
          "status": "completed"
        },
        "tags": []
      },
      "outputs": [],
      "source": [
        "test_data['label1'] = y_outlier"
      ]
    },
    {
      "cell_type": "code",
      "execution_count": null,
      "id": "d5b5eddb",
      "metadata": {
        "execution": {
          "iopub.execute_input": "2024-05-24T21:18:40.175946Z",
          "iopub.status.busy": "2024-05-24T21:18:40.175459Z",
          "iopub.status.idle": "2024-05-24T21:18:40.183040Z",
          "shell.execute_reply": "2024-05-24T21:18:40.182152Z"
        },
        "id": "d5b5eddb",
        "papermill": {
          "duration": 0.051911,
          "end_time": "2024-05-24T21:18:40.185429",
          "exception": false,
          "start_time": "2024-05-24T21:18:40.133518",
          "status": "completed"
        },
        "tags": []
      },
      "outputs": [],
      "source": [
        "test_data['label2'] = np.where(test_data['label1'].isin([0,1,2,3,4,16,17,18,19,20]), 0, 1)"
      ]
    },
    {
      "cell_type": "code",
      "execution_count": null,
      "id": "1840b808",
      "metadata": {
        "execution": {
          "iopub.execute_input": "2024-05-24T21:18:40.268474Z",
          "iopub.status.busy": "2024-05-24T21:18:40.267758Z",
          "iopub.status.idle": "2024-05-24T21:18:40.276884Z",
          "shell.execute_reply": "2024-05-24T21:18:40.275736Z"
        },
        "id": "1840b808",
        "outputId": "58614a8c-7754-4ce9-9cb0-9d96d4a0c3d5",
        "papermill": {
          "duration": 0.053521,
          "end_time": "2024-05-24T21:18:40.279386",
          "exception": false,
          "start_time": "2024-05-24T21:18:40.225865",
          "status": "completed"
        },
        "tags": []
      },
      "outputs": [
        {
          "data": {
            "text/plain": [
              "label2\n",
              "0    2844\n",
              "1    3300\n",
              "dtype: int64"
            ]
          },
          "execution_count": 42,
          "metadata": {},
          "output_type": "execute_result"
        }
      ],
      "source": [
        "test_data.groupby('label2').size()"
      ]
    },
    {
      "cell_type": "code",
      "execution_count": null,
      "id": "2f9eb62b",
      "metadata": {
        "collapsed": true,
        "execution": {
          "iopub.execute_input": "2024-05-24T21:18:40.363886Z",
          "iopub.status.busy": "2024-05-24T21:18:40.363155Z",
          "iopub.status.idle": "2024-05-24T21:18:40.374865Z",
          "shell.execute_reply": "2024-05-24T21:18:40.373943Z"
        },
        "id": "2f9eb62b",
        "jupyter": {
          "outputs_hidden": true
        },
        "outputId": "a32df6c4-d974-40d0-d760-511793c8cb02",
        "papermill": {
          "duration": 0.056639,
          "end_time": "2024-05-24T21:18:40.377418",
          "exception": false,
          "start_time": "2024-05-24T21:18:40.320779",
          "status": "completed"
        },
        "tags": []
      },
      "outputs": [
        {
          "data": {
            "text/plain": [
              "0         0\n",
              "1         0\n",
              "2         0\n",
              "3         0\n",
              "4         0\n",
              "         ..\n",
              "221       0\n",
              "222       0\n",
              "223       0\n",
              "label1    0\n",
              "label2    0\n",
              "Length: 226, dtype: int64"
            ]
          },
          "execution_count": 43,
          "metadata": {},
          "output_type": "execute_result"
        }
      ],
      "source": [
        "test_data.isnull().sum()"
      ]
    },
    {
      "cell_type": "code",
      "execution_count": null,
      "id": "ab52f234",
      "metadata": {
        "execution": {
          "iopub.execute_input": "2024-05-24T21:18:40.462625Z",
          "iopub.status.busy": "2024-05-24T21:18:40.461794Z",
          "iopub.status.idle": "2024-05-24T21:18:40.467837Z",
          "shell.execute_reply": "2024-05-24T21:18:40.467033Z"
        },
        "id": "ab52f234",
        "outputId": "39ce3e7d-0c2d-41f0-fa37-10054daee12b",
        "papermill": {
          "duration": 0.051792,
          "end_time": "2024-05-24T21:18:40.470243",
          "exception": false,
          "start_time": "2024-05-24T21:18:40.418451",
          "status": "completed"
        },
        "tags": []
      },
      "outputs": [
        {
          "data": {
            "text/plain": [
              "(20767, 226)"
            ]
          },
          "execution_count": 44,
          "metadata": {},
          "output_type": "execute_result"
        }
      ],
      "source": [
        "new_df.shape"
      ]
    },
    {
      "cell_type": "code",
      "execution_count": null,
      "id": "4f550066",
      "metadata": {
        "execution": {
          "iopub.execute_input": "2024-05-24T21:18:40.556335Z",
          "iopub.status.busy": "2024-05-24T21:18:40.555904Z",
          "iopub.status.idle": "2024-05-24T21:18:40.561879Z",
          "shell.execute_reply": "2024-05-24T21:18:40.561053Z"
        },
        "id": "4f550066",
        "outputId": "23c62a27-9196-416c-bd88-d43a111fad0b",
        "papermill": {
          "duration": 0.051364,
          "end_time": "2024-05-24T21:18:40.564064",
          "exception": false,
          "start_time": "2024-05-24T21:18:40.512700",
          "status": "completed"
        },
        "tags": []
      },
      "outputs": [
        {
          "data": {
            "text/plain": [
              "(6144, 226)"
            ]
          },
          "execution_count": 45,
          "metadata": {},
          "output_type": "execute_result"
        }
      ],
      "source": [
        "test_data.shape"
      ]
    },
    {
      "cell_type": "code",
      "execution_count": null,
      "id": "698fe9b5",
      "metadata": {
        "execution": {
          "iopub.execute_input": "2024-05-24T21:18:40.650300Z",
          "iopub.status.busy": "2024-05-24T21:18:40.649063Z",
          "iopub.status.idle": "2024-05-24T21:18:55.391960Z",
          "shell.execute_reply": "2024-05-24T21:18:55.390716Z"
        },
        "id": "698fe9b5",
        "papermill": {
          "duration": 14.78925,
          "end_time": "2024-05-24T21:18:55.395406",
          "exception": false,
          "start_time": "2024-05-24T21:18:40.606156",
          "status": "completed"
        },
        "tags": []
      },
      "outputs": [],
      "source": [
        "new_df.to_csv(\"train_data.csv\",index= False)\n",
        "test_data.to_csv(\"test_data.csv\",index= False)"
      ]
    }
  ],
  "metadata": {
    "colab": {
      "provenance": [],
      "include_colab_link": true
    },
    "kaggle": {
      "accelerator": "none",
      "dataSources": [],
      "dockerImageVersionId": 30698,
      "isGpuEnabled": false,
      "isInternetEnabled": true,
      "language": "python",
      "sourceType": "notebook"
    },
    "kernelspec": {
      "display_name": "Python 3",
      "language": "python",
      "name": "python3"
    },
    "language_info": {
      "codemirror_mode": {
        "name": "ipython",
        "version": 3
      },
      "file_extension": ".py",
      "mimetype": "text/x-python",
      "name": "python",
      "nbconvert_exporter": "python",
      "pygments_lexer": "ipython3",
      "version": "3.10.13"
    },
    "papermill": {
      "default_parameters": {},
      "duration": 6554.29957,
      "end_time": "2024-05-24T21:18:56.277427",
      "environment_variables": {},
      "exception": null,
      "input_path": "__notebook__.ipynb",
      "output_path": "__notebook__.ipynb",
      "parameters": {},
      "start_time": "2024-05-24T19:29:41.977857",
      "version": "2.5.0"
    }
  },
  "nbformat": 4,
  "nbformat_minor": 5
}