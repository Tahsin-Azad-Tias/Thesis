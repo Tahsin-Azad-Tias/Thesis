{
  "nbformat": 4,
  "nbformat_minor": 0,
  "metadata": {
    "colab": {
      "provenance": [],
      "include_colab_link": true
    },
    "kernelspec": {
      "name": "python3",
      "display_name": "Python 3"
    },
    "language_info": {
      "name": "python"
    }
  },
  "cells": [
    {
      "cell_type": "markdown",
      "metadata": {
        "id": "view-in-github",
        "colab_type": "text"
      },
      "source": [
        "<a href=\"https://colab.research.google.com/github/Tahsin-Azad-Tias/Thesis/blob/main/feature_selection/PCA.ipynb\" target=\"_parent\"><img src=\"https://colab.research.google.com/assets/colab-badge.svg\" alt=\"Open In Colab\"/></a>"
      ]
    },
    {
      "cell_type": "code",
      "source": [
        "!gdown --id \"1RgRboMvECzLO8rOz9PRIa_MKGa8D-WTN\"\n",
        "!gdown --id \"1vNJKw3cPFho87sGMjxkEL-hQKAnfhECX\""
      ],
      "metadata": {
        "colab": {
          "base_uri": "https://localhost:8080/"
        },
        "id": "nlYrbh5NUXrN",
        "outputId": "c459d5e0-3e7e-40b6-d136-0ebd0fb9ee36"
      },
      "execution_count": null,
      "outputs": [
        {
          "output_type": "stream",
          "name": "stdout",
          "text": [
            "/usr/local/lib/python3.10/dist-packages/gdown/__main__.py:132: FutureWarning: Option `--id` was deprecated in version 4.3.1 and will be removed in 5.0. You don't need to pass it anymore to use a file ID.\n",
            "  warnings.warn(\n",
            "Downloading...\n",
            "From: https://drive.google.com/uc?id=1RgRboMvECzLO8rOz9PRIa_MKGa8D-WTN\n",
            "To: /content/preprocessed_data.csv\n",
            "100% 86.0M/86.0M [00:02<00:00, 29.7MB/s]\n",
            "/usr/local/lib/python3.10/dist-packages/gdown/__main__.py:132: FutureWarning: Option `--id` was deprecated in version 4.3.1 and will be removed in 5.0. You don't need to pass it anymore to use a file ID.\n",
            "  warnings.warn(\n",
            "Downloading...\n",
            "From: https://drive.google.com/uc?id=1vNJKw3cPFho87sGMjxkEL-hQKAnfhECX\n",
            "To: /content/preprocessed_test_data.csv\n",
            "100% 25.8M/25.8M [00:00<00:00, 26.2MB/s]\n"
          ]
        }
      ]
    },
    {
      "cell_type": "code",
      "source": [
        "import pandas as pd\n",
        "import numpy as np\n",
        "import matplotlib.pyplot as plt\n",
        "import seaborn as sns\n",
        "import math\n",
        "from sklearn.preprocessing import StandardScaler\n",
        "from sklearn.decomposition import PCA\n",
        "from sklearn.model_selection import train_test_split"
      ],
      "metadata": {
        "id": "1yyCQlvZUayt"
      },
      "execution_count": null,
      "outputs": []
    },
    {
      "cell_type": "code",
      "source": [
        "df = pd.read_csv(\"/content/preprocessed_data.csv\")\n",
        "df1 = pd.read_csv(\"/content/preprocessed_test_data.csv\")"
      ],
      "metadata": {
        "id": "396dl-TmUdRm"
      },
      "execution_count": null,
      "outputs": []
    },
    {
      "cell_type": "code",
      "source": [
        "df.shape, df1.shape"
      ],
      "metadata": {
        "colab": {
          "base_uri": "https://localhost:8080/"
        },
        "id": "n4E1zYQNUqsj",
        "outputId": "701cc241-7e76-4470-bb71-aea39f4337f3"
      },
      "execution_count": null,
      "outputs": [
        {
          "output_type": "execute_result",
          "data": {
            "text/plain": [
              "((21000, 224), (6300, 224))"
            ]
          },
          "metadata": {},
          "execution_count": 4
        }
      ]
    },
    {
      "cell_type": "code",
      "source": [
        "# Initialize PCA\n",
        "pca = PCA(n_components=50)\n",
        "\n",
        "# Fit and transform the data\n",
        "data = pca.fit_transform(df)\n",
        "\n",
        "data.shape"
      ],
      "metadata": {
        "colab": {
          "base_uri": "https://localhost:8080/"
        },
        "id": "EJiUN0n0UuAv",
        "outputId": "7d73d72c-dd7e-4239-e359-8ce62d44fba2"
      },
      "execution_count": null,
      "outputs": [
        {
          "output_type": "execute_result",
          "data": {
            "text/plain": [
              "(21000, 50)"
            ]
          },
          "metadata": {},
          "execution_count": 5
        }
      ]
    },
    {
      "cell_type": "code",
      "source": [
        "# Initialize PCA\n",
        "pca = PCA(n_components=50)\n",
        "\n",
        "# Fit and transform the data\n",
        "test_data = pca.fit_transform(df1)\n",
        "\n",
        "test_data.shape"
      ],
      "metadata": {
        "colab": {
          "base_uri": "https://localhost:8080/"
        },
        "id": "goy8BYAqUyTH",
        "outputId": "b86a3705-c8ed-4149-e249-0b45df4d621b"
      },
      "execution_count": null,
      "outputs": [
        {
          "output_type": "execute_result",
          "data": {
            "text/plain": [
              "(6300, 50)"
            ]
          },
          "metadata": {},
          "execution_count": 7
        }
      ]
    },
    {
      "cell_type": "code",
      "source": [
        "df = pd.DataFrame(data)\n",
        "test_df = pd.DataFrame(test_data)\n",
        "df.shape, test_df.shape"
      ],
      "metadata": {
        "colab": {
          "base_uri": "https://localhost:8080/"
        },
        "id": "CErasrc0U0wX",
        "outputId": "497aff1e-edf5-4a6f-d91b-cfaef5ea69cc"
      },
      "execution_count": null,
      "outputs": [
        {
          "output_type": "execute_result",
          "data": {
            "text/plain": [
              "((21000, 50), (6300, 50))"
            ]
          },
          "metadata": {},
          "execution_count": 8
        }
      ]
    },
    {
      "cell_type": "code",
      "source": [
        "df['label1'] = ''\n",
        "for i in range(df.shape[0]):\n",
        "    label = math.floor(i / 1000)\n",
        "    if label > 20:\n",
        "        label = 20\n",
        "    df.at[i, 'label1'] = label\n",
        "\n",
        "df.head()"
      ],
      "metadata": {
        "colab": {
          "base_uri": "https://localhost:8080/",
          "height": 236
        },
        "id": "a02dEjBRVDGK",
        "outputId": "c6389905-c696-42d0-c982-3d23efa5b386"
      },
      "execution_count": null,
      "outputs": [
        {
          "output_type": "execute_result",
          "data": {
            "text/plain": [
              "           0          1          2          3         4         5          6  \\\n",
              "0 -26.343505 -31.132348  33.742849  10.583171 -3.127025 -6.246701  13.858806   \n",
              "1 -26.375971 -31.140441  33.669039  10.572695 -3.002988 -6.204875  13.925566   \n",
              "2 -26.380837 -31.158363  33.569366  10.542697 -2.881589 -6.139857  13.987835   \n",
              "3 -26.341052 -31.192837  33.426092  10.479408 -2.764709 -6.035860  14.041157   \n",
              "4 -26.255677 -31.245526  33.235627  10.379234 -2.654038 -5.889430  14.082411   \n",
              "\n",
              "          7         8         9  ...        41        42        43        44  \\\n",
              "0 -3.262153 -2.133017 -6.069196  ...  0.166712  0.085855 -0.346519  0.867088   \n",
              "1 -3.330699 -2.233516 -6.122638  ...  0.141252  0.117193 -0.349906  0.839542   \n",
              "2 -3.400989 -2.340793 -6.172314  ...  0.118874  0.139165 -0.351571  0.820991   \n",
              "3 -3.473992 -2.459187 -6.214700  ...  0.101961  0.146206 -0.350092  0.816843   \n",
              "4 -3.549291 -2.588612 -6.247084  ...  0.091737  0.138066 -0.344635  0.827468   \n",
              "\n",
              "         45        46        47        48        49  label1  \n",
              "0 -0.583130 -0.623946 -0.066694  0.195189  0.006706       0  \n",
              "1 -0.548456 -0.639010 -0.085505  0.233465  0.039118       0  \n",
              "2 -0.517130 -0.647996 -0.100762  0.262931  0.068261       0  \n",
              "3 -0.491418 -0.647273 -0.110532  0.277851  0.091046       0  \n",
              "4 -0.472270 -0.636684 -0.114866  0.277185  0.105412       0  \n",
              "\n",
              "[5 rows x 51 columns]"
            ],
            "text/html": [
              "\n",
              "  <div id=\"df-40bd7c5c-3b66-409f-b7f7-df573b445e34\" class=\"colab-df-container\">\n",
              "    <div>\n",
              "<style scoped>\n",
              "    .dataframe tbody tr th:only-of-type {\n",
              "        vertical-align: middle;\n",
              "    }\n",
              "\n",
              "    .dataframe tbody tr th {\n",
              "        vertical-align: top;\n",
              "    }\n",
              "\n",
              "    .dataframe thead th {\n",
              "        text-align: right;\n",
              "    }\n",
              "</style>\n",
              "<table border=\"1\" class=\"dataframe\">\n",
              "  <thead>\n",
              "    <tr style=\"text-align: right;\">\n",
              "      <th></th>\n",
              "      <th>0</th>\n",
              "      <th>1</th>\n",
              "      <th>2</th>\n",
              "      <th>3</th>\n",
              "      <th>4</th>\n",
              "      <th>5</th>\n",
              "      <th>6</th>\n",
              "      <th>7</th>\n",
              "      <th>8</th>\n",
              "      <th>9</th>\n",
              "      <th>...</th>\n",
              "      <th>41</th>\n",
              "      <th>42</th>\n",
              "      <th>43</th>\n",
              "      <th>44</th>\n",
              "      <th>45</th>\n",
              "      <th>46</th>\n",
              "      <th>47</th>\n",
              "      <th>48</th>\n",
              "      <th>49</th>\n",
              "      <th>label1</th>\n",
              "    </tr>\n",
              "  </thead>\n",
              "  <tbody>\n",
              "    <tr>\n",
              "      <th>0</th>\n",
              "      <td>-26.343505</td>\n",
              "      <td>-31.132348</td>\n",
              "      <td>33.742849</td>\n",
              "      <td>10.583171</td>\n",
              "      <td>-3.127025</td>\n",
              "      <td>-6.246701</td>\n",
              "      <td>13.858806</td>\n",
              "      <td>-3.262153</td>\n",
              "      <td>-2.133017</td>\n",
              "      <td>-6.069196</td>\n",
              "      <td>...</td>\n",
              "      <td>0.166712</td>\n",
              "      <td>0.085855</td>\n",
              "      <td>-0.346519</td>\n",
              "      <td>0.867088</td>\n",
              "      <td>-0.583130</td>\n",
              "      <td>-0.623946</td>\n",
              "      <td>-0.066694</td>\n",
              "      <td>0.195189</td>\n",
              "      <td>0.006706</td>\n",
              "      <td>0</td>\n",
              "    </tr>\n",
              "    <tr>\n",
              "      <th>1</th>\n",
              "      <td>-26.375971</td>\n",
              "      <td>-31.140441</td>\n",
              "      <td>33.669039</td>\n",
              "      <td>10.572695</td>\n",
              "      <td>-3.002988</td>\n",
              "      <td>-6.204875</td>\n",
              "      <td>13.925566</td>\n",
              "      <td>-3.330699</td>\n",
              "      <td>-2.233516</td>\n",
              "      <td>-6.122638</td>\n",
              "      <td>...</td>\n",
              "      <td>0.141252</td>\n",
              "      <td>0.117193</td>\n",
              "      <td>-0.349906</td>\n",
              "      <td>0.839542</td>\n",
              "      <td>-0.548456</td>\n",
              "      <td>-0.639010</td>\n",
              "      <td>-0.085505</td>\n",
              "      <td>0.233465</td>\n",
              "      <td>0.039118</td>\n",
              "      <td>0</td>\n",
              "    </tr>\n",
              "    <tr>\n",
              "      <th>2</th>\n",
              "      <td>-26.380837</td>\n",
              "      <td>-31.158363</td>\n",
              "      <td>33.569366</td>\n",
              "      <td>10.542697</td>\n",
              "      <td>-2.881589</td>\n",
              "      <td>-6.139857</td>\n",
              "      <td>13.987835</td>\n",
              "      <td>-3.400989</td>\n",
              "      <td>-2.340793</td>\n",
              "      <td>-6.172314</td>\n",
              "      <td>...</td>\n",
              "      <td>0.118874</td>\n",
              "      <td>0.139165</td>\n",
              "      <td>-0.351571</td>\n",
              "      <td>0.820991</td>\n",
              "      <td>-0.517130</td>\n",
              "      <td>-0.647996</td>\n",
              "      <td>-0.100762</td>\n",
              "      <td>0.262931</td>\n",
              "      <td>0.068261</td>\n",
              "      <td>0</td>\n",
              "    </tr>\n",
              "    <tr>\n",
              "      <th>3</th>\n",
              "      <td>-26.341052</td>\n",
              "      <td>-31.192837</td>\n",
              "      <td>33.426092</td>\n",
              "      <td>10.479408</td>\n",
              "      <td>-2.764709</td>\n",
              "      <td>-6.035860</td>\n",
              "      <td>14.041157</td>\n",
              "      <td>-3.473992</td>\n",
              "      <td>-2.459187</td>\n",
              "      <td>-6.214700</td>\n",
              "      <td>...</td>\n",
              "      <td>0.101961</td>\n",
              "      <td>0.146206</td>\n",
              "      <td>-0.350092</td>\n",
              "      <td>0.816843</td>\n",
              "      <td>-0.491418</td>\n",
              "      <td>-0.647273</td>\n",
              "      <td>-0.110532</td>\n",
              "      <td>0.277851</td>\n",
              "      <td>0.091046</td>\n",
              "      <td>0</td>\n",
              "    </tr>\n",
              "    <tr>\n",
              "      <th>4</th>\n",
              "      <td>-26.255677</td>\n",
              "      <td>-31.245526</td>\n",
              "      <td>33.235627</td>\n",
              "      <td>10.379234</td>\n",
              "      <td>-2.654038</td>\n",
              "      <td>-5.889430</td>\n",
              "      <td>14.082411</td>\n",
              "      <td>-3.549291</td>\n",
              "      <td>-2.588612</td>\n",
              "      <td>-6.247084</td>\n",
              "      <td>...</td>\n",
              "      <td>0.091737</td>\n",
              "      <td>0.138066</td>\n",
              "      <td>-0.344635</td>\n",
              "      <td>0.827468</td>\n",
              "      <td>-0.472270</td>\n",
              "      <td>-0.636684</td>\n",
              "      <td>-0.114866</td>\n",
              "      <td>0.277185</td>\n",
              "      <td>0.105412</td>\n",
              "      <td>0</td>\n",
              "    </tr>\n",
              "  </tbody>\n",
              "</table>\n",
              "<p>5 rows × 51 columns</p>\n",
              "</div>\n",
              "    <div class=\"colab-df-buttons\">\n",
              "\n",
              "  <div class=\"colab-df-container\">\n",
              "    <button class=\"colab-df-convert\" onclick=\"convertToInteractive('df-40bd7c5c-3b66-409f-b7f7-df573b445e34')\"\n",
              "            title=\"Convert this dataframe to an interactive table.\"\n",
              "            style=\"display:none;\">\n",
              "\n",
              "  <svg xmlns=\"http://www.w3.org/2000/svg\" height=\"24px\" viewBox=\"0 -960 960 960\">\n",
              "    <path d=\"M120-120v-720h720v720H120Zm60-500h600v-160H180v160Zm220 220h160v-160H400v160Zm0 220h160v-160H400v160ZM180-400h160v-160H180v160Zm440 0h160v-160H620v160ZM180-180h160v-160H180v160Zm440 0h160v-160H620v160Z\"/>\n",
              "  </svg>\n",
              "    </button>\n",
              "\n",
              "  <style>\n",
              "    .colab-df-container {\n",
              "      display:flex;\n",
              "      gap: 12px;\n",
              "    }\n",
              "\n",
              "    .colab-df-convert {\n",
              "      background-color: #E8F0FE;\n",
              "      border: none;\n",
              "      border-radius: 50%;\n",
              "      cursor: pointer;\n",
              "      display: none;\n",
              "      fill: #1967D2;\n",
              "      height: 32px;\n",
              "      padding: 0 0 0 0;\n",
              "      width: 32px;\n",
              "    }\n",
              "\n",
              "    .colab-df-convert:hover {\n",
              "      background-color: #E2EBFA;\n",
              "      box-shadow: 0px 1px 2px rgba(60, 64, 67, 0.3), 0px 1px 3px 1px rgba(60, 64, 67, 0.15);\n",
              "      fill: #174EA6;\n",
              "    }\n",
              "\n",
              "    .colab-df-buttons div {\n",
              "      margin-bottom: 4px;\n",
              "    }\n",
              "\n",
              "    [theme=dark] .colab-df-convert {\n",
              "      background-color: #3B4455;\n",
              "      fill: #D2E3FC;\n",
              "    }\n",
              "\n",
              "    [theme=dark] .colab-df-convert:hover {\n",
              "      background-color: #434B5C;\n",
              "      box-shadow: 0px 1px 3px 1px rgba(0, 0, 0, 0.15);\n",
              "      filter: drop-shadow(0px 1px 2px rgba(0, 0, 0, 0.3));\n",
              "      fill: #FFFFFF;\n",
              "    }\n",
              "  </style>\n",
              "\n",
              "    <script>\n",
              "      const buttonEl =\n",
              "        document.querySelector('#df-40bd7c5c-3b66-409f-b7f7-df573b445e34 button.colab-df-convert');\n",
              "      buttonEl.style.display =\n",
              "        google.colab.kernel.accessAllowed ? 'block' : 'none';\n",
              "\n",
              "      async function convertToInteractive(key) {\n",
              "        const element = document.querySelector('#df-40bd7c5c-3b66-409f-b7f7-df573b445e34');\n",
              "        const dataTable =\n",
              "          await google.colab.kernel.invokeFunction('convertToInteractive',\n",
              "                                                    [key], {});\n",
              "        if (!dataTable) return;\n",
              "\n",
              "        const docLinkHtml = 'Like what you see? Visit the ' +\n",
              "          '<a target=\"_blank\" href=https://colab.research.google.com/notebooks/data_table.ipynb>data table notebook</a>'\n",
              "          + ' to learn more about interactive tables.';\n",
              "        element.innerHTML = '';\n",
              "        dataTable['output_type'] = 'display_data';\n",
              "        await google.colab.output.renderOutput(dataTable, element);\n",
              "        const docLink = document.createElement('div');\n",
              "        docLink.innerHTML = docLinkHtml;\n",
              "        element.appendChild(docLink);\n",
              "      }\n",
              "    </script>\n",
              "  </div>\n",
              "\n",
              "\n",
              "<div id=\"df-40d127a3-afde-408a-a568-85066043d2a7\">\n",
              "  <button class=\"colab-df-quickchart\" onclick=\"quickchart('df-40d127a3-afde-408a-a568-85066043d2a7')\"\n",
              "            title=\"Suggest charts\"\n",
              "            style=\"display:none;\">\n",
              "\n",
              "<svg xmlns=\"http://www.w3.org/2000/svg\" height=\"24px\"viewBox=\"0 0 24 24\"\n",
              "     width=\"24px\">\n",
              "    <g>\n",
              "        <path d=\"M19 3H5c-1.1 0-2 .9-2 2v14c0 1.1.9 2 2 2h14c1.1 0 2-.9 2-2V5c0-1.1-.9-2-2-2zM9 17H7v-7h2v7zm4 0h-2V7h2v10zm4 0h-2v-4h2v4z\"/>\n",
              "    </g>\n",
              "</svg>\n",
              "  </button>\n",
              "\n",
              "<style>\n",
              "  .colab-df-quickchart {\n",
              "      --bg-color: #E8F0FE;\n",
              "      --fill-color: #1967D2;\n",
              "      --hover-bg-color: #E2EBFA;\n",
              "      --hover-fill-color: #174EA6;\n",
              "      --disabled-fill-color: #AAA;\n",
              "      --disabled-bg-color: #DDD;\n",
              "  }\n",
              "\n",
              "  [theme=dark] .colab-df-quickchart {\n",
              "      --bg-color: #3B4455;\n",
              "      --fill-color: #D2E3FC;\n",
              "      --hover-bg-color: #434B5C;\n",
              "      --hover-fill-color: #FFFFFF;\n",
              "      --disabled-bg-color: #3B4455;\n",
              "      --disabled-fill-color: #666;\n",
              "  }\n",
              "\n",
              "  .colab-df-quickchart {\n",
              "    background-color: var(--bg-color);\n",
              "    border: none;\n",
              "    border-radius: 50%;\n",
              "    cursor: pointer;\n",
              "    display: none;\n",
              "    fill: var(--fill-color);\n",
              "    height: 32px;\n",
              "    padding: 0;\n",
              "    width: 32px;\n",
              "  }\n",
              "\n",
              "  .colab-df-quickchart:hover {\n",
              "    background-color: var(--hover-bg-color);\n",
              "    box-shadow: 0 1px 2px rgba(60, 64, 67, 0.3), 0 1px 3px 1px rgba(60, 64, 67, 0.15);\n",
              "    fill: var(--button-hover-fill-color);\n",
              "  }\n",
              "\n",
              "  .colab-df-quickchart-complete:disabled,\n",
              "  .colab-df-quickchart-complete:disabled:hover {\n",
              "    background-color: var(--disabled-bg-color);\n",
              "    fill: var(--disabled-fill-color);\n",
              "    box-shadow: none;\n",
              "  }\n",
              "\n",
              "  .colab-df-spinner {\n",
              "    border: 2px solid var(--fill-color);\n",
              "    border-color: transparent;\n",
              "    border-bottom-color: var(--fill-color);\n",
              "    animation:\n",
              "      spin 1s steps(1) infinite;\n",
              "  }\n",
              "\n",
              "  @keyframes spin {\n",
              "    0% {\n",
              "      border-color: transparent;\n",
              "      border-bottom-color: var(--fill-color);\n",
              "      border-left-color: var(--fill-color);\n",
              "    }\n",
              "    20% {\n",
              "      border-color: transparent;\n",
              "      border-left-color: var(--fill-color);\n",
              "      border-top-color: var(--fill-color);\n",
              "    }\n",
              "    30% {\n",
              "      border-color: transparent;\n",
              "      border-left-color: var(--fill-color);\n",
              "      border-top-color: var(--fill-color);\n",
              "      border-right-color: var(--fill-color);\n",
              "    }\n",
              "    40% {\n",
              "      border-color: transparent;\n",
              "      border-right-color: var(--fill-color);\n",
              "      border-top-color: var(--fill-color);\n",
              "    }\n",
              "    60% {\n",
              "      border-color: transparent;\n",
              "      border-right-color: var(--fill-color);\n",
              "    }\n",
              "    80% {\n",
              "      border-color: transparent;\n",
              "      border-right-color: var(--fill-color);\n",
              "      border-bottom-color: var(--fill-color);\n",
              "    }\n",
              "    90% {\n",
              "      border-color: transparent;\n",
              "      border-bottom-color: var(--fill-color);\n",
              "    }\n",
              "  }\n",
              "</style>\n",
              "\n",
              "  <script>\n",
              "    async function quickchart(key) {\n",
              "      const quickchartButtonEl =\n",
              "        document.querySelector('#' + key + ' button');\n",
              "      quickchartButtonEl.disabled = true;  // To prevent multiple clicks.\n",
              "      quickchartButtonEl.classList.add('colab-df-spinner');\n",
              "      try {\n",
              "        const charts = await google.colab.kernel.invokeFunction(\n",
              "            'suggestCharts', [key], {});\n",
              "      } catch (error) {\n",
              "        console.error('Error during call to suggestCharts:', error);\n",
              "      }\n",
              "      quickchartButtonEl.classList.remove('colab-df-spinner');\n",
              "      quickchartButtonEl.classList.add('colab-df-quickchart-complete');\n",
              "    }\n",
              "    (() => {\n",
              "      let quickchartButtonEl =\n",
              "        document.querySelector('#df-40d127a3-afde-408a-a568-85066043d2a7 button');\n",
              "      quickchartButtonEl.style.display =\n",
              "        google.colab.kernel.accessAllowed ? 'block' : 'none';\n",
              "    })();\n",
              "  </script>\n",
              "</div>\n",
              "\n",
              "    </div>\n",
              "  </div>\n"
            ],
            "application/vnd.google.colaboratory.intrinsic+json": {
              "type": "dataframe",
              "variable_name": "df"
            }
          },
          "metadata": {},
          "execution_count": 9
        }
      ]
    },
    {
      "cell_type": "code",
      "source": [
        "test_df['label1'] = ''\n",
        "for i in range(test_df.shape[0]):\n",
        "    label = math.floor(i / 300)\n",
        "    if label > 20:\n",
        "        label = 20\n",
        "    test_df.at[i, 'label1'] = label\n",
        "\n",
        "test_df.head()"
      ],
      "metadata": {
        "colab": {
          "base_uri": "https://localhost:8080/",
          "height": 236
        },
        "id": "dfpC2aquVMWU",
        "outputId": "2498423c-4cef-41b0-bb78-df23137bd063"
      },
      "execution_count": null,
      "outputs": [
        {
          "output_type": "execute_result",
          "data": {
            "text/plain": [
              "          0          1          2         3         4          5         6  \\\n",
              "0  5.114118 -30.473607  10.567361 -7.060257  3.569390  20.543735 -6.689746   \n",
              "1  5.410830 -30.258459  10.709275 -7.179264  3.627854  20.555730 -6.351018   \n",
              "2  5.685759 -30.061354  10.832299 -7.274342  3.669609  20.575332 -6.087377   \n",
              "3  5.915830 -29.899705  10.919713 -7.327327  3.682276  20.607285 -5.954507   \n",
              "4  6.076902 -29.789321  10.959357 -7.329735  3.659234  20.651332 -5.977070   \n",
              "\n",
              "          7         8         9  ...        41        42        43        44  \\\n",
              "0 -7.925830  0.638526  5.612037  ...  0.366711  0.288361 -0.241110  0.109172   \n",
              "1 -7.803578  0.604443  5.628462  ...  0.378566  0.277886 -0.272238  0.081183   \n",
              "2 -7.703079  0.582222  5.645758  ...  0.391850  0.271023 -0.297806  0.054589   \n",
              "3 -7.640589  0.580462  5.663860  ...  0.407182  0.270147 -0.313780  0.030734   \n",
              "4 -7.623760  0.602247  5.681013  ...  0.423808  0.275375 -0.318672  0.011085   \n",
              "\n",
              "         45        46        47        48        49  label1  \n",
              "0 -0.346236  0.162720 -0.444058 -0.209358 -0.052768       0  \n",
              "1 -0.325694  0.192719 -0.455361 -0.153123 -0.045889       0  \n",
              "2 -0.305956  0.214974 -0.465006 -0.102958 -0.037513       0  \n",
              "3 -0.288254  0.223974 -0.471901 -0.063834 -0.026650       0  \n",
              "4 -0.274361  0.218388 -0.475969 -0.038617 -0.013195       0  \n",
              "\n",
              "[5 rows x 51 columns]"
            ],
            "text/html": [
              "\n",
              "  <div id=\"df-bfd4d493-e7aa-4850-a9e1-493770968669\" class=\"colab-df-container\">\n",
              "    <div>\n",
              "<style scoped>\n",
              "    .dataframe tbody tr th:only-of-type {\n",
              "        vertical-align: middle;\n",
              "    }\n",
              "\n",
              "    .dataframe tbody tr th {\n",
              "        vertical-align: top;\n",
              "    }\n",
              "\n",
              "    .dataframe thead th {\n",
              "        text-align: right;\n",
              "    }\n",
              "</style>\n",
              "<table border=\"1\" class=\"dataframe\">\n",
              "  <thead>\n",
              "    <tr style=\"text-align: right;\">\n",
              "      <th></th>\n",
              "      <th>0</th>\n",
              "      <th>1</th>\n",
              "      <th>2</th>\n",
              "      <th>3</th>\n",
              "      <th>4</th>\n",
              "      <th>5</th>\n",
              "      <th>6</th>\n",
              "      <th>7</th>\n",
              "      <th>8</th>\n",
              "      <th>9</th>\n",
              "      <th>...</th>\n",
              "      <th>41</th>\n",
              "      <th>42</th>\n",
              "      <th>43</th>\n",
              "      <th>44</th>\n",
              "      <th>45</th>\n",
              "      <th>46</th>\n",
              "      <th>47</th>\n",
              "      <th>48</th>\n",
              "      <th>49</th>\n",
              "      <th>label1</th>\n",
              "    </tr>\n",
              "  </thead>\n",
              "  <tbody>\n",
              "    <tr>\n",
              "      <th>0</th>\n",
              "      <td>5.114118</td>\n",
              "      <td>-30.473607</td>\n",
              "      <td>10.567361</td>\n",
              "      <td>-7.060257</td>\n",
              "      <td>3.569390</td>\n",
              "      <td>20.543735</td>\n",
              "      <td>-6.689746</td>\n",
              "      <td>-7.925830</td>\n",
              "      <td>0.638526</td>\n",
              "      <td>5.612037</td>\n",
              "      <td>...</td>\n",
              "      <td>0.366711</td>\n",
              "      <td>0.288361</td>\n",
              "      <td>-0.241110</td>\n",
              "      <td>0.109172</td>\n",
              "      <td>-0.346236</td>\n",
              "      <td>0.162720</td>\n",
              "      <td>-0.444058</td>\n",
              "      <td>-0.209358</td>\n",
              "      <td>-0.052768</td>\n",
              "      <td>0</td>\n",
              "    </tr>\n",
              "    <tr>\n",
              "      <th>1</th>\n",
              "      <td>5.410830</td>\n",
              "      <td>-30.258459</td>\n",
              "      <td>10.709275</td>\n",
              "      <td>-7.179264</td>\n",
              "      <td>3.627854</td>\n",
              "      <td>20.555730</td>\n",
              "      <td>-6.351018</td>\n",
              "      <td>-7.803578</td>\n",
              "      <td>0.604443</td>\n",
              "      <td>5.628462</td>\n",
              "      <td>...</td>\n",
              "      <td>0.378566</td>\n",
              "      <td>0.277886</td>\n",
              "      <td>-0.272238</td>\n",
              "      <td>0.081183</td>\n",
              "      <td>-0.325694</td>\n",
              "      <td>0.192719</td>\n",
              "      <td>-0.455361</td>\n",
              "      <td>-0.153123</td>\n",
              "      <td>-0.045889</td>\n",
              "      <td>0</td>\n",
              "    </tr>\n",
              "    <tr>\n",
              "      <th>2</th>\n",
              "      <td>5.685759</td>\n",
              "      <td>-30.061354</td>\n",
              "      <td>10.832299</td>\n",
              "      <td>-7.274342</td>\n",
              "      <td>3.669609</td>\n",
              "      <td>20.575332</td>\n",
              "      <td>-6.087377</td>\n",
              "      <td>-7.703079</td>\n",
              "      <td>0.582222</td>\n",
              "      <td>5.645758</td>\n",
              "      <td>...</td>\n",
              "      <td>0.391850</td>\n",
              "      <td>0.271023</td>\n",
              "      <td>-0.297806</td>\n",
              "      <td>0.054589</td>\n",
              "      <td>-0.305956</td>\n",
              "      <td>0.214974</td>\n",
              "      <td>-0.465006</td>\n",
              "      <td>-0.102958</td>\n",
              "      <td>-0.037513</td>\n",
              "      <td>0</td>\n",
              "    </tr>\n",
              "    <tr>\n",
              "      <th>3</th>\n",
              "      <td>5.915830</td>\n",
              "      <td>-29.899705</td>\n",
              "      <td>10.919713</td>\n",
              "      <td>-7.327327</td>\n",
              "      <td>3.682276</td>\n",
              "      <td>20.607285</td>\n",
              "      <td>-5.954507</td>\n",
              "      <td>-7.640589</td>\n",
              "      <td>0.580462</td>\n",
              "      <td>5.663860</td>\n",
              "      <td>...</td>\n",
              "      <td>0.407182</td>\n",
              "      <td>0.270147</td>\n",
              "      <td>-0.313780</td>\n",
              "      <td>0.030734</td>\n",
              "      <td>-0.288254</td>\n",
              "      <td>0.223974</td>\n",
              "      <td>-0.471901</td>\n",
              "      <td>-0.063834</td>\n",
              "      <td>-0.026650</td>\n",
              "      <td>0</td>\n",
              "    </tr>\n",
              "    <tr>\n",
              "      <th>4</th>\n",
              "      <td>6.076902</td>\n",
              "      <td>-29.789321</td>\n",
              "      <td>10.959357</td>\n",
              "      <td>-7.329735</td>\n",
              "      <td>3.659234</td>\n",
              "      <td>20.651332</td>\n",
              "      <td>-5.977070</td>\n",
              "      <td>-7.623760</td>\n",
              "      <td>0.602247</td>\n",
              "      <td>5.681013</td>\n",
              "      <td>...</td>\n",
              "      <td>0.423808</td>\n",
              "      <td>0.275375</td>\n",
              "      <td>-0.318672</td>\n",
              "      <td>0.011085</td>\n",
              "      <td>-0.274361</td>\n",
              "      <td>0.218388</td>\n",
              "      <td>-0.475969</td>\n",
              "      <td>-0.038617</td>\n",
              "      <td>-0.013195</td>\n",
              "      <td>0</td>\n",
              "    </tr>\n",
              "  </tbody>\n",
              "</table>\n",
              "<p>5 rows × 51 columns</p>\n",
              "</div>\n",
              "    <div class=\"colab-df-buttons\">\n",
              "\n",
              "  <div class=\"colab-df-container\">\n",
              "    <button class=\"colab-df-convert\" onclick=\"convertToInteractive('df-bfd4d493-e7aa-4850-a9e1-493770968669')\"\n",
              "            title=\"Convert this dataframe to an interactive table.\"\n",
              "            style=\"display:none;\">\n",
              "\n",
              "  <svg xmlns=\"http://www.w3.org/2000/svg\" height=\"24px\" viewBox=\"0 -960 960 960\">\n",
              "    <path d=\"M120-120v-720h720v720H120Zm60-500h600v-160H180v160Zm220 220h160v-160H400v160Zm0 220h160v-160H400v160ZM180-400h160v-160H180v160Zm440 0h160v-160H620v160ZM180-180h160v-160H180v160Zm440 0h160v-160H620v160Z\"/>\n",
              "  </svg>\n",
              "    </button>\n",
              "\n",
              "  <style>\n",
              "    .colab-df-container {\n",
              "      display:flex;\n",
              "      gap: 12px;\n",
              "    }\n",
              "\n",
              "    .colab-df-convert {\n",
              "      background-color: #E8F0FE;\n",
              "      border: none;\n",
              "      border-radius: 50%;\n",
              "      cursor: pointer;\n",
              "      display: none;\n",
              "      fill: #1967D2;\n",
              "      height: 32px;\n",
              "      padding: 0 0 0 0;\n",
              "      width: 32px;\n",
              "    }\n",
              "\n",
              "    .colab-df-convert:hover {\n",
              "      background-color: #E2EBFA;\n",
              "      box-shadow: 0px 1px 2px rgba(60, 64, 67, 0.3), 0px 1px 3px 1px rgba(60, 64, 67, 0.15);\n",
              "      fill: #174EA6;\n",
              "    }\n",
              "\n",
              "    .colab-df-buttons div {\n",
              "      margin-bottom: 4px;\n",
              "    }\n",
              "\n",
              "    [theme=dark] .colab-df-convert {\n",
              "      background-color: #3B4455;\n",
              "      fill: #D2E3FC;\n",
              "    }\n",
              "\n",
              "    [theme=dark] .colab-df-convert:hover {\n",
              "      background-color: #434B5C;\n",
              "      box-shadow: 0px 1px 3px 1px rgba(0, 0, 0, 0.15);\n",
              "      filter: drop-shadow(0px 1px 2px rgba(0, 0, 0, 0.3));\n",
              "      fill: #FFFFFF;\n",
              "    }\n",
              "  </style>\n",
              "\n",
              "    <script>\n",
              "      const buttonEl =\n",
              "        document.querySelector('#df-bfd4d493-e7aa-4850-a9e1-493770968669 button.colab-df-convert');\n",
              "      buttonEl.style.display =\n",
              "        google.colab.kernel.accessAllowed ? 'block' : 'none';\n",
              "\n",
              "      async function convertToInteractive(key) {\n",
              "        const element = document.querySelector('#df-bfd4d493-e7aa-4850-a9e1-493770968669');\n",
              "        const dataTable =\n",
              "          await google.colab.kernel.invokeFunction('convertToInteractive',\n",
              "                                                    [key], {});\n",
              "        if (!dataTable) return;\n",
              "\n",
              "        const docLinkHtml = 'Like what you see? Visit the ' +\n",
              "          '<a target=\"_blank\" href=https://colab.research.google.com/notebooks/data_table.ipynb>data table notebook</a>'\n",
              "          + ' to learn more about interactive tables.';\n",
              "        element.innerHTML = '';\n",
              "        dataTable['output_type'] = 'display_data';\n",
              "        await google.colab.output.renderOutput(dataTable, element);\n",
              "        const docLink = document.createElement('div');\n",
              "        docLink.innerHTML = docLinkHtml;\n",
              "        element.appendChild(docLink);\n",
              "      }\n",
              "    </script>\n",
              "  </div>\n",
              "\n",
              "\n",
              "<div id=\"df-3cdb4068-27ee-4016-a632-a6d911d159a6\">\n",
              "  <button class=\"colab-df-quickchart\" onclick=\"quickchart('df-3cdb4068-27ee-4016-a632-a6d911d159a6')\"\n",
              "            title=\"Suggest charts\"\n",
              "            style=\"display:none;\">\n",
              "\n",
              "<svg xmlns=\"http://www.w3.org/2000/svg\" height=\"24px\"viewBox=\"0 0 24 24\"\n",
              "     width=\"24px\">\n",
              "    <g>\n",
              "        <path d=\"M19 3H5c-1.1 0-2 .9-2 2v14c0 1.1.9 2 2 2h14c1.1 0 2-.9 2-2V5c0-1.1-.9-2-2-2zM9 17H7v-7h2v7zm4 0h-2V7h2v10zm4 0h-2v-4h2v4z\"/>\n",
              "    </g>\n",
              "</svg>\n",
              "  </button>\n",
              "\n",
              "<style>\n",
              "  .colab-df-quickchart {\n",
              "      --bg-color: #E8F0FE;\n",
              "      --fill-color: #1967D2;\n",
              "      --hover-bg-color: #E2EBFA;\n",
              "      --hover-fill-color: #174EA6;\n",
              "      --disabled-fill-color: #AAA;\n",
              "      --disabled-bg-color: #DDD;\n",
              "  }\n",
              "\n",
              "  [theme=dark] .colab-df-quickchart {\n",
              "      --bg-color: #3B4455;\n",
              "      --fill-color: #D2E3FC;\n",
              "      --hover-bg-color: #434B5C;\n",
              "      --hover-fill-color: #FFFFFF;\n",
              "      --disabled-bg-color: #3B4455;\n",
              "      --disabled-fill-color: #666;\n",
              "  }\n",
              "\n",
              "  .colab-df-quickchart {\n",
              "    background-color: var(--bg-color);\n",
              "    border: none;\n",
              "    border-radius: 50%;\n",
              "    cursor: pointer;\n",
              "    display: none;\n",
              "    fill: var(--fill-color);\n",
              "    height: 32px;\n",
              "    padding: 0;\n",
              "    width: 32px;\n",
              "  }\n",
              "\n",
              "  .colab-df-quickchart:hover {\n",
              "    background-color: var(--hover-bg-color);\n",
              "    box-shadow: 0 1px 2px rgba(60, 64, 67, 0.3), 0 1px 3px 1px rgba(60, 64, 67, 0.15);\n",
              "    fill: var(--button-hover-fill-color);\n",
              "  }\n",
              "\n",
              "  .colab-df-quickchart-complete:disabled,\n",
              "  .colab-df-quickchart-complete:disabled:hover {\n",
              "    background-color: var(--disabled-bg-color);\n",
              "    fill: var(--disabled-fill-color);\n",
              "    box-shadow: none;\n",
              "  }\n",
              "\n",
              "  .colab-df-spinner {\n",
              "    border: 2px solid var(--fill-color);\n",
              "    border-color: transparent;\n",
              "    border-bottom-color: var(--fill-color);\n",
              "    animation:\n",
              "      spin 1s steps(1) infinite;\n",
              "  }\n",
              "\n",
              "  @keyframes spin {\n",
              "    0% {\n",
              "      border-color: transparent;\n",
              "      border-bottom-color: var(--fill-color);\n",
              "      border-left-color: var(--fill-color);\n",
              "    }\n",
              "    20% {\n",
              "      border-color: transparent;\n",
              "      border-left-color: var(--fill-color);\n",
              "      border-top-color: var(--fill-color);\n",
              "    }\n",
              "    30% {\n",
              "      border-color: transparent;\n",
              "      border-left-color: var(--fill-color);\n",
              "      border-top-color: var(--fill-color);\n",
              "      border-right-color: var(--fill-color);\n",
              "    }\n",
              "    40% {\n",
              "      border-color: transparent;\n",
              "      border-right-color: var(--fill-color);\n",
              "      border-top-color: var(--fill-color);\n",
              "    }\n",
              "    60% {\n",
              "      border-color: transparent;\n",
              "      border-right-color: var(--fill-color);\n",
              "    }\n",
              "    80% {\n",
              "      border-color: transparent;\n",
              "      border-right-color: var(--fill-color);\n",
              "      border-bottom-color: var(--fill-color);\n",
              "    }\n",
              "    90% {\n",
              "      border-color: transparent;\n",
              "      border-bottom-color: var(--fill-color);\n",
              "    }\n",
              "  }\n",
              "</style>\n",
              "\n",
              "  <script>\n",
              "    async function quickchart(key) {\n",
              "      const quickchartButtonEl =\n",
              "        document.querySelector('#' + key + ' button');\n",
              "      quickchartButtonEl.disabled = true;  // To prevent multiple clicks.\n",
              "      quickchartButtonEl.classList.add('colab-df-spinner');\n",
              "      try {\n",
              "        const charts = await google.colab.kernel.invokeFunction(\n",
              "            'suggestCharts', [key], {});\n",
              "      } catch (error) {\n",
              "        console.error('Error during call to suggestCharts:', error);\n",
              "      }\n",
              "      quickchartButtonEl.classList.remove('colab-df-spinner');\n",
              "      quickchartButtonEl.classList.add('colab-df-quickchart-complete');\n",
              "    }\n",
              "    (() => {\n",
              "      let quickchartButtonEl =\n",
              "        document.querySelector('#df-3cdb4068-27ee-4016-a632-a6d911d159a6 button');\n",
              "      quickchartButtonEl.style.display =\n",
              "        google.colab.kernel.accessAllowed ? 'block' : 'none';\n",
              "    })();\n",
              "  </script>\n",
              "</div>\n",
              "\n",
              "    </div>\n",
              "  </div>\n"
            ],
            "application/vnd.google.colaboratory.intrinsic+json": {
              "type": "dataframe",
              "variable_name": "test_df"
            }
          },
          "metadata": {},
          "execution_count": 11
        }
      ]
    },
    {
      "cell_type": "code",
      "source": [
        "df.groupby('label1').size()"
      ],
      "metadata": {
        "colab": {
          "base_uri": "https://localhost:8080/"
        },
        "id": "VtMUPhaLVZcU",
        "outputId": "ff20da80-f99a-414b-d418-e52eea93e146"
      },
      "execution_count": null,
      "outputs": [
        {
          "output_type": "execute_result",
          "data": {
            "text/plain": [
              "label1\n",
              "0     1000\n",
              "1     1000\n",
              "2     1000\n",
              "3     1000\n",
              "4     1000\n",
              "5     1000\n",
              "6     1000\n",
              "7     1000\n",
              "8     1000\n",
              "9     1000\n",
              "10    1000\n",
              "11    1000\n",
              "12    1000\n",
              "13    1000\n",
              "14    1000\n",
              "15    1000\n",
              "16    1000\n",
              "17    1000\n",
              "18    1000\n",
              "19    1000\n",
              "20    1000\n",
              "dtype: int64"
            ]
          },
          "metadata": {},
          "execution_count": 12
        }
      ]
    },
    {
      "cell_type": "code",
      "source": [
        "df.iloc[:,8].hist()"
      ],
      "metadata": {
        "colab": {
          "base_uri": "https://localhost:8080/",
          "height": 448
        },
        "id": "oxIPNq1DVgdR",
        "outputId": "20b4a795-89d2-4c7a-f802-47fe0cf48f17"
      },
      "execution_count": null,
      "outputs": [
        {
          "output_type": "execute_result",
          "data": {
            "text/plain": [
              "<Axes: >"
            ]
          },
          "metadata": {},
          "execution_count": 13
        },
        {
          "output_type": "display_data",
          "data": {
            "text/plain": [
              "<Figure size 640x480 with 1 Axes>"
            ],
            "image/png": "[encoded data removed]"
          },
          "metadata": {}
        }
      ]
    },
    {
      "cell_type": "code",
      "source": [
        "sns.histplot(df.iloc[:, 8], kde=True, bins=20)\n",
        "plt.show()"
      ],
      "metadata": {
        "colab": {
          "base_uri": "https://localhost:8080/",
          "height": 449
        },
        "id": "H1KEWeVSVkjG",
        "outputId": "49e7ec78-bf39-44ba-bda2-36782c6ef42c"
      },
      "execution_count": null,
      "outputs": [
        {
          "output_type": "display_data",
          "data": {
            "text/plain": [
              "<Figure size 640x480 with 1 Axes>"
            ],
            "image/png": "[encoded data removed]"
          },
          "metadata": {}
        }
      ]
    },
    {
      "cell_type": "code",
      "source": [
        "feature_1  = df.columns[:5]"
      ],
      "metadata": {
        "id": "uCyJQvg1Vmtl"
      },
      "execution_count": null,
      "outputs": []
    },
    {
      "cell_type": "code",
      "source": [
        "fig, ax = plt.subplots(figsize = (15, 15))\n",
        "sns.boxplot(data = df[feature_1], ax=ax)"
      ],
      "metadata": {
        "colab": {
          "base_uri": "https://localhost:8080/",
          "height": 1000
        },
        "id": "O_SjlapyVoai",
        "outputId": "11e11690-6ea4-47f4-80e4-ce289f9f7018"
      },
      "execution_count": null,
      "outputs": [
        {
          "output_type": "execute_result",
          "data": {
            "text/plain": [
              "<Axes: >"
            ]
          },
          "metadata": {},
          "execution_count": 16
        },
        {
          "output_type": "display_data",
          "data": {
            "text/plain": [
              "<Figure size 1500x1500 with 1 Axes>"
            ],
            "image/png": "[encoded data removed]"
          },
          "metadata": {}
        }
      ]
    },
    {
      "cell_type": "code",
      "source": [
        "feature_2  = df.columns[5:10]\n",
        "fig, ax = plt.subplots(figsize = (15, 15))\n",
        "sns.boxplot(data = df[feature_2], ax=ax)"
      ],
      "metadata": {
        "colab": {
          "base_uri": "https://localhost:8080/",
          "height": 1000
        },
        "id": "gfU36jSZVqMF",
        "outputId": "85540c35-8038-485e-8fce-32b5bf6e01e3"
      },
      "execution_count": null,
      "outputs": [
        {
          "output_type": "execute_result",
          "data": {
            "text/plain": [
              "<Axes: >"
            ]
          },
          "metadata": {},
          "execution_count": 17
        },
        {
          "output_type": "display_data",
          "data": {
            "text/plain": [
              "<Figure size 1500x1500 with 1 Axes>"
            ],
            "image/png": "[encoded data removed]"
          },
          "metadata": {}
        }
      ]
    },
    {
      "cell_type": "code",
      "source": [
        "fig, ax = plt.subplots(figsize = (15, 15))\n",
        "sns.boxplot(data = df[df.columns[10:15]], ax=ax)"
      ],
      "metadata": {
        "colab": {
          "base_uri": "https://localhost:8080/",
          "height": 1000
        },
        "id": "P4t2JIBrVwBC",
        "outputId": "18cef320-d7c6-4662-9a2c-d7de8105e955"
      },
      "execution_count": null,
      "outputs": [
        {
          "output_type": "execute_result",
          "data": {
            "text/plain": [
              "<Axes: >"
            ]
          },
          "metadata": {},
          "execution_count": 18
        },
        {
          "output_type": "display_data",
          "data": {
            "text/plain": [
              "<Figure size 1500x1500 with 1 Axes>"
            ],
            "image/png": "[encoded data removed]"
          },
          "metadata": {}
        }
      ]
    },
    {
      "cell_type": "code",
      "source": [
        "X = df.drop('label1', axis=1)\n",
        "y = df['label1']\n",
        "\n",
        "for col in df.columns[:-1]:\n",
        "    Q1 = X[col].quantile(0.25)\n",
        "    Q3 = X[col].quantile(0.75)\n",
        "    IQR = Q3 - Q1\n",
        "    lower_bound = Q1 - 1.5 * IQR\n",
        "    upper_bound = Q3 + 1.5 * IQR\n",
        "    mask = (X[col] >= lower_bound) & (X[col] <= upper_bound)"
      ],
      "metadata": {
        "id": "IPQypVkLVyrW"
      },
      "execution_count": null,
      "outputs": []
    },
    {
      "cell_type": "code",
      "source": [
        "X_outlier_detection = X[mask]\n",
        "y_outlier_detection = y[mask]"
      ],
      "metadata": {
        "id": "cdxAbUFtV4Ux"
      },
      "execution_count": null,
      "outputs": []
    },
    {
      "cell_type": "code",
      "source": [
        "scaler = StandardScaler()\n",
        "X_scaled = scaler.fit_transform(X_outlier_detection)"
      ],
      "metadata": {
        "id": "GhJ29z_hV6at"
      },
      "execution_count": null,
      "outputs": []
    },
    {
      "cell_type": "code",
      "source": [
        "new_df = pd.DataFrame(X_scaled, columns=X_outlier_detection.columns)"
      ],
      "metadata": {
        "id": "iLpXTinXWCns"
      },
      "execution_count": null,
      "outputs": []
    },
    {
      "cell_type": "code",
      "source": [
        "new_df.reset_index(drop=True, inplace=True)\n",
        "y_outlier_detection.reset_index(drop=True, inplace=True)"
      ],
      "metadata": {
        "id": "o8Ka7CiEWFum"
      },
      "execution_count": null,
      "outputs": []
    },
    {
      "cell_type": "code",
      "source": [
        "new_df['label1'] = y_outlier_detection"
      ],
      "metadata": {
        "id": "rZ_8TvI2WHtD"
      },
      "execution_count": null,
      "outputs": []
    },
    {
      "cell_type": "code",
      "source": [
        "new_df['label2'] = np.where(new_df['label1'].isin(range(5)), 0, 1)"
      ],
      "metadata": {
        "id": "zNN_C5AlWJMj"
      },
      "execution_count": null,
      "outputs": []
    },
    {
      "cell_type": "code",
      "source": [
        "new_df.groupby('label2').size()"
      ],
      "metadata": {
        "colab": {
          "base_uri": "https://localhost:8080/"
        },
        "id": "QlM0UpEDWLSi",
        "outputId": "6ed20e21-5371-4966-fa91-96d8e10fb9dc"
      },
      "execution_count": null,
      "outputs": [
        {
          "output_type": "execute_result",
          "data": {
            "text/plain": [
              "label2\n",
              "0     4980\n",
              "1    15409\n",
              "dtype: int64"
            ]
          },
          "metadata": {},
          "execution_count": 26
        }
      ]
    },
    {
      "cell_type": "code",
      "source": [
        "fig, ax = plt.subplots(figsize = (15, 15))\n",
        "sns.boxplot(data = test_df[test_df.columns[0:5]], ax=ax)"
      ],
      "metadata": {
        "colab": {
          "base_uri": "https://localhost:8080/",
          "height": 1000
        },
        "id": "DQy8GOnaWNXa",
        "outputId": "792e3c62-ef01-4964-f373-ce6004e8d86c"
      },
      "execution_count": null,
      "outputs": [
        {
          "output_type": "execute_result",
          "data": {
            "text/plain": [
              "<Axes: >"
            ]
          },
          "metadata": {},
          "execution_count": 27
        },
        {
          "output_type": "display_data",
          "data": {
            "text/plain": [
              "<Figure size 1500x1500 with 1 Axes>"
            ],
            "image/png": "[encoded data removed]"
          },
          "metadata": {}
        }
      ]
    },
    {
      "cell_type": "code",
      "source": [
        "X = test_df.drop('label1', axis=1)\n",
        "y = test_df['label1']\n",
        "\n",
        "for col in test_df.columns[:-1]:\n",
        "    Q1 = X[col].quantile(0.25)\n",
        "    Q3 = X[col].quantile(0.75)\n",
        "    IQR = Q3 - Q1\n",
        "    lower_bound = Q1 - 1.5 * IQR\n",
        "    upper_bound = Q3 + 1.5 * IQR\n",
        "    mask = (X[col] >= lower_bound) & (X[col] <= upper_bound)"
      ],
      "metadata": {
        "id": "Y0juqCgqWbYW"
      },
      "execution_count": null,
      "outputs": []
    },
    {
      "cell_type": "code",
      "source": [
        "X_outlier = X[mask]\n",
        "y_outlier = y[mask]"
      ],
      "metadata": {
        "id": "s80WTJJ0WkCK"
      },
      "execution_count": null,
      "outputs": []
    },
    {
      "cell_type": "code",
      "source": [
        "X_test_scaled = scaler.fit_transform(X_outlier)"
      ],
      "metadata": {
        "id": "XUki6yxKWlue"
      },
      "execution_count": null,
      "outputs": []
    },
    {
      "cell_type": "code",
      "source": [
        "X_test_scaled.shape"
      ],
      "metadata": {
        "colab": {
          "base_uri": "https://localhost:8080/"
        },
        "id": "DET36PsnW1ny",
        "outputId": "b1af9738-70d0-4d1d-fdf6-0b1142258b79"
      },
      "execution_count": null,
      "outputs": [
        {
          "output_type": "execute_result",
          "data": {
            "text/plain": [
              "(5940, 50)"
            ]
          },
          "metadata": {},
          "execution_count": 31
        }
      ]
    },
    {
      "cell_type": "code",
      "source": [
        "test_data = pd.DataFrame(X_test_scaled)"
      ],
      "metadata": {
        "id": "657Lnru0Wyvd"
      },
      "execution_count": null,
      "outputs": []
    },
    {
      "cell_type": "code",
      "source": [
        "test_data.head()"
      ],
      "metadata": {
        "colab": {
          "base_uri": "https://localhost:8080/",
          "height": 236
        },
        "id": "xnbr7kAvW4-V",
        "outputId": "d2889d66-8f2c-4fc6-c557-5d0296bd5ea0"
      },
      "execution_count": null,
      "outputs": [
        {
          "output_type": "execute_result",
          "data": {
            "text/plain": [
              "         0         1         2         3         4         5         6   \\\n",
              "0  0.171549 -1.178525  0.635544 -0.396214  0.273935  1.560562 -0.614404   \n",
              "1  0.181391 -1.169849  0.643343 -0.403176  0.278119  1.561477 -0.581887   \n",
              "2  0.190510 -1.161901  0.650104 -0.408738  0.281108  1.562972 -0.556578   \n",
              "3  0.198141 -1.155382  0.654907 -0.411837  0.282014  1.565410 -0.543822   \n",
              "4  0.203484 -1.150931  0.657086 -0.411978  0.280365  1.568770 -0.545988   \n",
              "\n",
              "         7         8         9   ...        40        41        42        43  \\\n",
              "0 -0.959599  0.069230  0.959871  ...  0.135279  1.319092  1.034280 -0.892787   \n",
              "1 -0.945094  0.064421  0.962687  ...  0.127930  1.362298  0.997117 -1.012753   \n",
              "2 -0.933170  0.061285  0.965653  ...  0.125640  1.410713  0.972770 -1.111293   \n",
              "3 -0.925756  0.061037  0.968757  ...  0.131522  1.466592  0.969663 -1.172860   \n",
              "4 -0.923759  0.064111  0.971698  ...  0.145764  1.527186  0.988208 -1.191714   \n",
              "\n",
              "         44        45        46        47        48        49  \n",
              "0  0.436105 -1.319064  0.713624 -2.135911 -1.052772 -0.338654  \n",
              "1  0.324178 -1.240659  0.846775 -2.189926 -0.766257 -0.290329  \n",
              "2  0.217833 -1.165324  0.945556 -2.236014 -0.510674 -0.231487  \n",
              "3  0.122441 -1.097761  0.985499 -2.268963 -0.311340 -0.155174  \n",
              "4  0.043870 -1.044736  0.960708 -2.288401 -0.182860 -0.060649  \n",
              "\n",
              "[5 rows x 50 columns]"
            ],
            "text/html": [
              "\n",
              "  <div id=\"df-ac85a1a3-ff3e-433e-b3f8-f4529012f353\" class=\"colab-df-container\">\n",
              "    <div>\n",
              "<style scoped>\n",
              "    .dataframe tbody tr th:only-of-type {\n",
              "        vertical-align: middle;\n",
              "    }\n",
              "\n",
              "    .dataframe tbody tr th {\n",
              "        vertical-align: top;\n",
              "    }\n",
              "\n",
              "    .dataframe thead th {\n",
              "        text-align: right;\n",
              "    }\n",
              "</style>\n",
              "<table border=\"1\" class=\"dataframe\">\n",
              "  <thead>\n",
              "    <tr style=\"text-align: right;\">\n",
              "      <th></th>\n",
              "      <th>0</th>\n",
              "      <th>1</th>\n",
              "      <th>2</th>\n",
              "      <th>3</th>\n",
              "      <th>4</th>\n",
              "      <th>5</th>\n",
              "      <th>6</th>\n",
              "      <th>7</th>\n",
              "      <th>8</th>\n",
              "      <th>9</th>\n",
              "      <th>...</th>\n",
              "      <th>40</th>\n",
              "      <th>41</th>\n",
              "      <th>42</th>\n",
              "      <th>43</th>\n",
              "      <th>44</th>\n",
              "      <th>45</th>\n",
              "      <th>46</th>\n",
              "      <th>47</th>\n",
              "      <th>48</th>\n",
              "      <th>49</th>\n",
              "    </tr>\n",
              "  </thead>\n",
              "  <tbody>\n",
              "    <tr>\n",
              "      <th>0</th>\n",
              "      <td>0.171549</td>\n",
              "      <td>-1.178525</td>\n",
              "      <td>0.635544</td>\n",
              "      <td>-0.396214</td>\n",
              "      <td>0.273935</td>\n",
              "      <td>1.560562</td>\n",
              "      <td>-0.614404</td>\n",
              "      <td>-0.959599</td>\n",
              "      <td>0.069230</td>\n",
              "      <td>0.959871</td>\n",
              "      <td>...</td>\n",
              "      <td>0.135279</td>\n",
              "      <td>1.319092</td>\n",
              "      <td>1.034280</td>\n",
              "      <td>-0.892787</td>\n",
              "      <td>0.436105</td>\n",
              "      <td>-1.319064</td>\n",
              "      <td>0.713624</td>\n",
              "      <td>-2.135911</td>\n",
              "      <td>-1.052772</td>\n",
              "      <td>-0.338654</td>\n",
              "    </tr>\n",
              "    <tr>\n",
              "      <th>1</th>\n",
              "      <td>0.181391</td>\n",
              "      <td>-1.169849</td>\n",
              "      <td>0.643343</td>\n",
              "      <td>-0.403176</td>\n",
              "      <td>0.278119</td>\n",
              "      <td>1.561477</td>\n",
              "      <td>-0.581887</td>\n",
              "      <td>-0.945094</td>\n",
              "      <td>0.064421</td>\n",
              "      <td>0.962687</td>\n",
              "      <td>...</td>\n",
              "      <td>0.127930</td>\n",
              "      <td>1.362298</td>\n",
              "      <td>0.997117</td>\n",
              "      <td>-1.012753</td>\n",
              "      <td>0.324178</td>\n",
              "      <td>-1.240659</td>\n",
              "      <td>0.846775</td>\n",
              "      <td>-2.189926</td>\n",
              "      <td>-0.766257</td>\n",
              "      <td>-0.290329</td>\n",
              "    </tr>\n",
              "    <tr>\n",
              "      <th>2</th>\n",
              "      <td>0.190510</td>\n",
              "      <td>-1.161901</td>\n",
              "      <td>0.650104</td>\n",
              "      <td>-0.408738</td>\n",
              "      <td>0.281108</td>\n",
              "      <td>1.562972</td>\n",
              "      <td>-0.556578</td>\n",
              "      <td>-0.933170</td>\n",
              "      <td>0.061285</td>\n",
              "      <td>0.965653</td>\n",
              "      <td>...</td>\n",
              "      <td>0.125640</td>\n",
              "      <td>1.410713</td>\n",
              "      <td>0.972770</td>\n",
              "      <td>-1.111293</td>\n",
              "      <td>0.217833</td>\n",
              "      <td>-1.165324</td>\n",
              "      <td>0.945556</td>\n",
              "      <td>-2.236014</td>\n",
              "      <td>-0.510674</td>\n",
              "      <td>-0.231487</td>\n",
              "    </tr>\n",
              "    <tr>\n",
              "      <th>3</th>\n",
              "      <td>0.198141</td>\n",
              "      <td>-1.155382</td>\n",
              "      <td>0.654907</td>\n",
              "      <td>-0.411837</td>\n",
              "      <td>0.282014</td>\n",
              "      <td>1.565410</td>\n",
              "      <td>-0.543822</td>\n",
              "      <td>-0.925756</td>\n",
              "      <td>0.061037</td>\n",
              "      <td>0.968757</td>\n",
              "      <td>...</td>\n",
              "      <td>0.131522</td>\n",
              "      <td>1.466592</td>\n",
              "      <td>0.969663</td>\n",
              "      <td>-1.172860</td>\n",
              "      <td>0.122441</td>\n",
              "      <td>-1.097761</td>\n",
              "      <td>0.985499</td>\n",
              "      <td>-2.268963</td>\n",
              "      <td>-0.311340</td>\n",
              "      <td>-0.155174</td>\n",
              "    </tr>\n",
              "    <tr>\n",
              "      <th>4</th>\n",
              "      <td>0.203484</td>\n",
              "      <td>-1.150931</td>\n",
              "      <td>0.657086</td>\n",
              "      <td>-0.411978</td>\n",
              "      <td>0.280365</td>\n",
              "      <td>1.568770</td>\n",
              "      <td>-0.545988</td>\n",
              "      <td>-0.923759</td>\n",
              "      <td>0.064111</td>\n",
              "      <td>0.971698</td>\n",
              "      <td>...</td>\n",
              "      <td>0.145764</td>\n",
              "      <td>1.527186</td>\n",
              "      <td>0.988208</td>\n",
              "      <td>-1.191714</td>\n",
              "      <td>0.043870</td>\n",
              "      <td>-1.044736</td>\n",
              "      <td>0.960708</td>\n",
              "      <td>-2.288401</td>\n",
              "      <td>-0.182860</td>\n",
              "      <td>-0.060649</td>\n",
              "    </tr>\n",
              "  </tbody>\n",
              "</table>\n",
              "<p>5 rows × 50 columns</p>\n",
              "</div>\n",
              "    <div class=\"colab-df-buttons\">\n",
              "\n",
              "  <div class=\"colab-df-container\">\n",
              "    <button class=\"colab-df-convert\" onclick=\"convertToInteractive('df-ac85a1a3-ff3e-433e-b3f8-f4529012f353')\"\n",
              "            title=\"Convert this dataframe to an interactive table.\"\n",
              "            style=\"display:none;\">\n",
              "\n",
              "  <svg xmlns=\"http://www.w3.org/2000/svg\" height=\"24px\" viewBox=\"0 -960 960 960\">\n",
              "    <path d=\"M120-120v-720h720v720H120Zm60-500h600v-160H180v160Zm220 220h160v-160H400v160Zm0 220h160v-160H400v160ZM180-400h160v-160H180v160Zm440 0h160v-160H620v160ZM180-180h160v-160H180v160Zm440 0h160v-160H620v160Z\"/>\n",
              "  </svg>\n",
              "    </button>\n",
              "\n",
              "  <style>\n",
              "    .colab-df-container {\n",
              "      display:flex;\n",
              "      gap: 12px;\n",
              "    }\n",
              "\n",
              "    .colab-df-convert {\n",
              "      background-color: #E8F0FE;\n",
              "      border: none;\n",
              "      border-radius: 50%;\n",
              "      cursor: pointer;\n",
              "      display: none;\n",
              "      fill: #1967D2;\n",
              "      height: 32px;\n",
              "      padding: 0 0 0 0;\n",
              "      width: 32px;\n",
              "    }\n",
              "\n",
              "    .colab-df-convert:hover {\n",
              "      background-color: #E2EBFA;\n",
              "      box-shadow: 0px 1px 2px rgba(60, 64, 67, 0.3), 0px 1px 3px 1px rgba(60, 64, 67, 0.15);\n",
              "      fill: #174EA6;\n",
              "    }\n",
              "\n",
              "    .colab-df-buttons div {\n",
              "      margin-bottom: 4px;\n",
              "    }\n",
              "\n",
              "    [theme=dark] .colab-df-convert {\n",
              "      background-color: #3B4455;\n",
              "      fill: #D2E3FC;\n",
              "    }\n",
              "\n",
              "    [theme=dark] .colab-df-convert:hover {\n",
              "      background-color: #434B5C;\n",
              "      box-shadow: 0px 1px 3px 1px rgba(0, 0, 0, 0.15);\n",
              "      filter: drop-shadow(0px 1px 2px rgba(0, 0, 0, 0.3));\n",
              "      fill: #FFFFFF;\n",
              "    }\n",
              "  </style>\n",
              "\n",
              "    <script>\n",
              "      const buttonEl =\n",
              "        document.querySelector('#df-ac85a1a3-ff3e-433e-b3f8-f4529012f353 button.colab-df-convert');\n",
              "      buttonEl.style.display =\n",
              "        google.colab.kernel.accessAllowed ? 'block' : 'none';\n",
              "\n",
              "      async function convertToInteractive(key) {\n",
              "        const element = document.querySelector('#df-ac85a1a3-ff3e-433e-b3f8-f4529012f353');\n",
              "        const dataTable =\n",
              "          await google.colab.kernel.invokeFunction('convertToInteractive',\n",
              "                                                    [key], {});\n",
              "        if (!dataTable) return;\n",
              "\n",
              "        const docLinkHtml = 'Like what you see? Visit the ' +\n",
              "          '<a target=\"_blank\" href=https://colab.research.google.com/notebooks/data_table.ipynb>data table notebook</a>'\n",
              "          + ' to learn more about interactive tables.';\n",
              "        element.innerHTML = '';\n",
              "        dataTable['output_type'] = 'display_data';\n",
              "        await google.colab.output.renderOutput(dataTable, element);\n",
              "        const docLink = document.createElement('div');\n",
              "        docLink.innerHTML = docLinkHtml;\n",
              "        element.appendChild(docLink);\n",
              "      }\n",
              "    </script>\n",
              "  </div>\n",
              "\n",
              "\n",
              "<div id=\"df-85f1130b-4214-4484-874d-cd445b7d545a\">\n",
              "  <button class=\"colab-df-quickchart\" onclick=\"quickchart('df-85f1130b-4214-4484-874d-cd445b7d545a')\"\n",
              "            title=\"Suggest charts\"\n",
              "            style=\"display:none;\">\n",
              "\n",
              "<svg xmlns=\"http://www.w3.org/2000/svg\" height=\"24px\"viewBox=\"0 0 24 24\"\n",
              "     width=\"24px\">\n",
              "    <g>\n",
              "        <path d=\"M19 3H5c-1.1 0-2 .9-2 2v14c0 1.1.9 2 2 2h14c1.1 0 2-.9 2-2V5c0-1.1-.9-2-2-2zM9 17H7v-7h2v7zm4 0h-2V7h2v10zm4 0h-2v-4h2v4z\"/>\n",
              "    </g>\n",
              "</svg>\n",
              "  </button>\n",
              "\n",
              "<style>\n",
              "  .colab-df-quickchart {\n",
              "      --bg-color: #E8F0FE;\n",
              "      --fill-color: #1967D2;\n",
              "      --hover-bg-color: #E2EBFA;\n",
              "      --hover-fill-color: #174EA6;\n",
              "      --disabled-fill-color: #AAA;\n",
              "      --disabled-bg-color: #DDD;\n",
              "  }\n",
              "\n",
              "  [theme=dark] .colab-df-quickchart {\n",
              "      --bg-color: #3B4455;\n",
              "      --fill-color: #D2E3FC;\n",
              "      --hover-bg-color: #434B5C;\n",
              "      --hover-fill-color: #FFFFFF;\n",
              "      --disabled-bg-color: #3B4455;\n",
              "      --disabled-fill-color: #666;\n",
              "  }\n",
              "\n",
              "  .colab-df-quickchart {\n",
              "    background-color: var(--bg-color);\n",
              "    border: none;\n",
              "    border-radius: 50%;\n",
              "    cursor: pointer;\n",
              "    display: none;\n",
              "    fill: var(--fill-color);\n",
              "    height: 32px;\n",
              "    padding: 0;\n",
              "    width: 32px;\n",
              "  }\n",
              "\n",
              "  .colab-df-quickchart:hover {\n",
              "    background-color: var(--hover-bg-color);\n",
              "    box-shadow: 0 1px 2px rgba(60, 64, 67, 0.3), 0 1px 3px 1px rgba(60, 64, 67, 0.15);\n",
              "    fill: var(--button-hover-fill-color);\n",
              "  }\n",
              "\n",
              "  .colab-df-quickchart-complete:disabled,\n",
              "  .colab-df-quickchart-complete:disabled:hover {\n",
              "    background-color: var(--disabled-bg-color);\n",
              "    fill: var(--disabled-fill-color);\n",
              "    box-shadow: none;\n",
              "  }\n",
              "\n",
              "  .colab-df-spinner {\n",
              "    border: 2px solid var(--fill-color);\n",
              "    border-color: transparent;\n",
              "    border-bottom-color: var(--fill-color);\n",
              "    animation:\n",
              "      spin 1s steps(1) infinite;\n",
              "  }\n",
              "\n",
              "  @keyframes spin {\n",
              "    0% {\n",
              "      border-color: transparent;\n",
              "      border-bottom-color: var(--fill-color);\n",
              "      border-left-color: var(--fill-color);\n",
              "    }\n",
              "    20% {\n",
              "      border-color: transparent;\n",
              "      border-left-color: var(--fill-color);\n",
              "      border-top-color: var(--fill-color);\n",
              "    }\n",
              "    30% {\n",
              "      border-color: transparent;\n",
              "      border-left-color: var(--fill-color);\n",
              "      border-top-color: var(--fill-color);\n",
              "      border-right-color: var(--fill-color);\n",
              "    }\n",
              "    40% {\n",
              "      border-color: transparent;\n",
              "      border-right-color: var(--fill-color);\n",
              "      border-top-color: var(--fill-color);\n",
              "    }\n",
              "    60% {\n",
              "      border-color: transparent;\n",
              "      border-right-color: var(--fill-color);\n",
              "    }\n",
              "    80% {\n",
              "      border-color: transparent;\n",
              "      border-right-color: var(--fill-color);\n",
              "      border-bottom-color: var(--fill-color);\n",
              "    }\n",
              "    90% {\n",
              "      border-color: transparent;\n",
              "      border-bottom-color: var(--fill-color);\n",
              "    }\n",
              "  }\n",
              "</style>\n",
              "\n",
              "  <script>\n",
              "    async function quickchart(key) {\n",
              "      const quickchartButtonEl =\n",
              "        document.querySelector('#' + key + ' button');\n",
              "      quickchartButtonEl.disabled = true;  // To prevent multiple clicks.\n",
              "      quickchartButtonEl.classList.add('colab-df-spinner');\n",
              "      try {\n",
              "        const charts = await google.colab.kernel.invokeFunction(\n",
              "            'suggestCharts', [key], {});\n",
              "      } catch (error) {\n",
              "        console.error('Error during call to suggestCharts:', error);\n",
              "      }\n",
              "      quickchartButtonEl.classList.remove('colab-df-spinner');\n",
              "      quickchartButtonEl.classList.add('colab-df-quickchart-complete');\n",
              "    }\n",
              "    (() => {\n",
              "      let quickchartButtonEl =\n",
              "        document.querySelector('#df-85f1130b-4214-4484-874d-cd445b7d545a button');\n",
              "      quickchartButtonEl.style.display =\n",
              "        google.colab.kernel.accessAllowed ? 'block' : 'none';\n",
              "    })();\n",
              "  </script>\n",
              "</div>\n",
              "\n",
              "    </div>\n",
              "  </div>\n"
            ],
            "application/vnd.google.colaboratory.intrinsic+json": {
              "type": "dataframe",
              "variable_name": "test_data"
            }
          },
          "metadata": {},
          "execution_count": 33
        }
      ]
    },
    {
      "cell_type": "code",
      "source": [
        "test_data.reset_index(drop=True, inplace=True)\n",
        "y_outlier.reset_index(drop=True, inplace=True)"
      ],
      "metadata": {
        "id": "gk4T04XzXAN_"
      },
      "execution_count": null,
      "outputs": []
    },
    {
      "cell_type": "code",
      "source": [
        "len(y_outlier)"
      ],
      "metadata": {
        "colab": {
          "base_uri": "https://localhost:8080/"
        },
        "id": "Z0xOVF7rX9sQ",
        "outputId": "4007fb55-840c-419b-f71f-c5a639d87fe7"
      },
      "execution_count": null,
      "outputs": [
        {
          "output_type": "execute_result",
          "data": {
            "text/plain": [
              "5940"
            ]
          },
          "metadata": {},
          "execution_count": 35
        }
      ]
    },
    {
      "cell_type": "code",
      "source": [
        "test_data.shape"
      ],
      "metadata": {
        "colab": {
          "base_uri": "https://localhost:8080/"
        },
        "id": "h4WhFr-FYCco",
        "outputId": "31e12cc1-9252-4d35-a2ec-3ef1092ac529"
      },
      "execution_count": null,
      "outputs": [
        {
          "output_type": "execute_result",
          "data": {
            "text/plain": [
              "(5940, 50)"
            ]
          },
          "metadata": {},
          "execution_count": 36
        }
      ]
    },
    {
      "cell_type": "code",
      "source": [
        "test_data['label1'] = y_outlier"
      ],
      "metadata": {
        "id": "YRuWOsNaXFam"
      },
      "execution_count": null,
      "outputs": []
    },
    {
      "cell_type": "code",
      "source": [
        "test_data['label2'] = np.where(test_data['label1'].isin([0,1,2,3,4,16,17,18,19,20]), 0, 1)"
      ],
      "metadata": {
        "id": "lvaAktaKXMeR"
      },
      "execution_count": null,
      "outputs": []
    },
    {
      "cell_type": "code",
      "source": [
        "test_data.groupby('label2').size()"
      ],
      "metadata": {
        "colab": {
          "base_uri": "https://localhost:8080/"
        },
        "id": "lFcj43nZXPCb",
        "outputId": "58614a8c-7754-4ce9-9cb0-9d96d4a0c3d5"
      },
      "execution_count": null,
      "outputs": [
        {
          "output_type": "execute_result",
          "data": {
            "text/plain": [
              "label2\n",
              "0    1461\n",
              "1    4479\n",
              "dtype: int64"
            ]
          },
          "metadata": {},
          "execution_count": 39
        }
      ]
    },
    {
      "cell_type": "code",
      "source": [
        "test_data.isnull().sum()"
      ],
      "metadata": {
        "colab": {
          "base_uri": "https://localhost:8080/"
        },
        "id": "02gFnFwVXlXt",
        "outputId": "a32df6c4-d974-40d0-d760-511793c8cb02",
        "collapsed": true
      },
      "execution_count": null,
      "outputs": [
        {
          "output_type": "execute_result",
          "data": {
            "text/plain": [
              "0         0\n",
              "1         0\n",
              "2         0\n",
              "3         0\n",
              "4         0\n",
              "5         0\n",
              "6         0\n",
              "7         0\n",
              "8         0\n",
              "9         0\n",
              "10        0\n",
              "11        0\n",
              "12        0\n",
              "13        0\n",
              "14        0\n",
              "15        0\n",
              "16        0\n",
              "17        0\n",
              "18        0\n",
              "19        0\n",
              "20        0\n",
              "21        0\n",
              "22        0\n",
              "23        0\n",
              "24        0\n",
              "25        0\n",
              "26        0\n",
              "27        0\n",
              "28        0\n",
              "29        0\n",
              "30        0\n",
              "31        0\n",
              "32        0\n",
              "33        0\n",
              "34        0\n",
              "35        0\n",
              "36        0\n",
              "37        0\n",
              "38        0\n",
              "39        0\n",
              "40        0\n",
              "41        0\n",
              "42        0\n",
              "43        0\n",
              "44        0\n",
              "45        0\n",
              "46        0\n",
              "47        0\n",
              "48        0\n",
              "49        0\n",
              "label1    0\n",
              "label2    0\n",
              "dtype: int64"
            ]
          },
          "metadata": {},
          "execution_count": 40
        }
      ]
    },
    {
      "cell_type": "code",
      "source": [
        "new_df.shape"
      ],
      "metadata": {
        "colab": {
          "base_uri": "https://localhost:8080/"
        },
        "id": "Y6_IdKxm3_v6",
        "outputId": "39ce3e7d-0c2d-41f0-fa37-10054daee12b"
      },
      "execution_count": null,
      "outputs": [
        {
          "output_type": "execute_result",
          "data": {
            "text/plain": [
              "(20389, 52)"
            ]
          },
          "metadata": {},
          "execution_count": 42
        }
      ]
    },
    {
      "cell_type": "code",
      "source": [
        "test_data.shape"
      ],
      "metadata": {
        "colab": {
          "base_uri": "https://localhost:8080/"
        },
        "id": "brndoghFZgnO",
        "outputId": "23c62a27-9196-416c-bd88-d43a111fad0b"
      },
      "execution_count": null,
      "outputs": [
        {
          "output_type": "execute_result",
          "data": {
            "text/plain": [
              "(5940, 52)"
            ]
          },
          "metadata": {},
          "execution_count": 44
        }
      ]
    },
    {
      "cell_type": "code",
      "source": [
        "new_df.to_csv(\"train_data.csv\",index= False)\n",
        "test_data.to_csv(\"test_data.csv\",index= False)"
      ],
      "metadata": {
        "id": "nraZ9rNNplSB"
      },
      "execution_count": null,
      "outputs": []
    }
  ]
}